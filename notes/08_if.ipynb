{
 "cells": [
  {
   "cell_type": "markdown",
   "id": "fa4a28c9",
   "metadata": {},
   "source": [
    "### 9. 조건문\n",
    "- 조건에 따라 프로그램의 실행 흐름을 분기시키는 제어문\n",
    "- 조건 : 참/거짓을 구분할 수 있는 문장"
   ]
  },
  {
   "cell_type": "code",
   "execution_count": 2,
   "id": "6bdc854b",
   "metadata": {},
   "outputs": [
    {
     "name": "stdout",
     "output_type": "stream",
     "text": [
      "a는 10보다 커요\n",
      "조건문 종료\n"
     ]
    }
   ],
   "source": [
    "# 조건문의 기초 문법\n",
    "# if + 조건 ➡️ 조건이 참이면 실행\n",
    "\n",
    "a = int(input())\n",
    "if a > 10:\n",
    "    print(\"a는 10보다 커요\")\n",
    "print(\"조건문 종료\")"
   ]
  },
  {
   "cell_type": "code",
   "execution_count": null,
   "id": "13eef930",
   "metadata": {},
   "outputs": [
    {
     "ename": "IndentationError",
     "evalue": "expected an indented block after 'if' statement on line 1 (972333812.py, line 2)",
     "output_type": "error",
     "traceback": [
      "  \u001b[36mCell\u001b[39m\u001b[36m \u001b[39m\u001b[32mIn[3]\u001b[39m\u001b[32m, line 2\u001b[39m\n\u001b[31m    \u001b[39m\u001b[31mprint(\"a는 10보다 커요\") # indent 에러(들여쓰기 에러)\u001b[39m\n    ^\n\u001b[31mIndentationError\u001b[39m\u001b[31m:\u001b[39m expected an indented block after 'if' statement on line 1\n"
     ]
    }
   ],
   "source": [
    "# ❌들여쓰기 에러 표시\n",
    "if a > 10:\n",
    "print(\"a는 10보다 커요\") # indent 에러"
   ]
  },
  {
   "cell_type": "code",
   "execution_count": 4,
   "id": "5e4bbc6b",
   "metadata": {},
   "outputs": [],
   "source": [
    "# 조건문에 실행할 코드를 작성하지 않았을 때\n",
    "# pass로 해당 조건문을 넘어갈 수 있음\n",
    "if a > 100:\n",
    "    pass"
   ]
  },
  {
   "cell_type": "code",
   "execution_count": null,
   "id": "7fc81e0b",
   "metadata": {},
   "outputs": [
    {
     "name": "stdout",
     "output_type": "stream",
     "text": [
      "참이면 실행\n"
     ]
    }
   ],
   "source": [
    "# 조건식의 평가(Truthy, Falsy한 값)\n",
    "# Falsy 한 값 : 숫자 0,0.0, 빈문자열\"\",빈리스트[],빈튜플(),빈딕셔너리{} = False로 간주\n",
    "# 그 이외 True로 간주됨\n",
    "name = \"\"\n",
    "if 1:\n",
    "    print(\"참이면 실행\")"
   ]
  },
  {
   "cell_type": "code",
   "execution_count": null,
   "id": "f723b4ca",
   "metadata": {},
   "outputs": [
    {
     "name": "stdout",
     "output_type": "stream",
     "text": [
      "선크림을 바르세요!\n"
     ]
    }
   ],
   "source": [
    "# 실습 1\n",
    "weather = input(\"오늘 날씨를 입력하세요 : (비/맑음)\")\n",
    "\n",
    "# 비가 오는 경우\n",
    "# 날씨가 비 라면? ➡️ 날씨가 비와 같다\n",
    "if weather == \"비\":\n",
    "    print(\"우산을 챙기세요!\")\n",
    "\n",
    "if weather == \"맑음\":\n",
    "    print(\"선크림을 바르세요!\")"
   ]
  },
  {
   "cell_type": "code",
   "execution_count": 14,
   "id": "c5275b5b",
   "metadata": {},
   "outputs": [
    {
     "name": "stdout",
     "output_type": "stream",
     "text": [
      "a는 10보다 작아요\n"
     ]
    }
   ],
   "source": [
    "# if - else 문\n",
    "# 조건이 참일 때는 if문을 조건이 거짓일 때는 else문을 실행\n",
    "# else : 아니라면의 의미 ➡️ 조건이 필요 X, if문과 반드시 같이 나와야 함.\n",
    "a = int(input())\n",
    "if a > 10:\n",
    "    print(\"a는 10보다 커요\")\n",
    "else:\n",
    "    print(\"a는 10보다 작아요\")"
   ]
  },
  {
   "cell_type": "code",
   "execution_count": 19,
   "id": "a3f2c606",
   "metadata": {},
   "outputs": [
    {
     "name": "stdout",
     "output_type": "stream",
     "text": [
      "홀수입니다.\n"
     ]
    }
   ],
   "source": [
    "# 실습 1 짝수 홀수 판별하기\n",
    "a = int(input(\"정수를 입력해 주세요.\"))\n",
    "\n",
    "if a % 2 == 0:\n",
    "    print(\"짝수입니다.\")\n",
    "else:\n",
    "    print(\"홀수입니다.\")\n"
   ]
  },
  {
   "cell_type": "code",
   "execution_count": 3,
   "id": "9805fe8a",
   "metadata": {},
   "outputs": [
    {
     "name": "stdout",
     "output_type": "stream",
     "text": [
      "D\n"
     ]
    }
   ],
   "source": [
    "# if - elif - else 구문\n",
    "# elif : else if 의 약자, 그게 아니라 만약 ~라면\n",
    "# 조건을 반드시 기록합니다.\n",
    "# if가 있어야만 사용할 수 있음\n",
    "score = int(input())\n",
    "# 90점 이상이면 a\n",
    "if score >= 90:\n",
    "    print(\"A\")\n",
    "# (90점 미만이고80점 이상이면 b\n",
    "elif score >= 80:\n",
    "    print(\"B\")\n",
    "# 70점 이상이면 c\n",
    "elif score >= 70:\n",
    "    print(\"C\")\n",
    "# 60점 이상이면 d\n",
    "elif score >= 60:\n",
    "    print(\"D\")\n",
    "# 그외에는 f\n",
    "else:\n",
    "    print(\"F\")\n"
   ]
  },
  {
   "cell_type": "code",
   "execution_count": null,
   "id": "ec4f26b1",
   "metadata": {},
   "outputs": [
    {
     "name": "stdout",
     "output_type": "stream",
     "text": [
      "전체 관람가\n"
     ]
    }
   ],
   "source": [
    "# 실습2 나이에 따른 영화 관람 가능 여부\n",
    "age = int(input(\"나이를 입력해주세요 : \"))\n",
    "\n",
    "if age >= 19:\n",
    "    print(\"청소년 관람 불가 가능\")\n",
    "elif age >= 16:\n",
    "    print(\"15세 이상 관람가 가능\")\n",
    "elif age >= 13:\n",
    "    print(\"12세 이상 관람가 가능\")\n",
    "else:\n",
    "    print(\"전체 관람가 시청 가능\")"
   ]
  },
  {
   "cell_type": "code",
   "execution_count": 23,
   "id": "a1a8cd67",
   "metadata": {},
   "outputs": [
    {
     "name": "stdout",
     "output_type": "stream",
     "text": [
      "1분 25초\n"
     ]
    }
   ],
   "source": [
    "# 실습3 숙제 시, 분, 초 구하기\n",
    "time = int(input(\"초를 입력해주세요 : \"))\n",
    "\n",
    "sec = time % 60\n",
    "min = (time % 3600) // 60\n",
    "hour = time // 3600\n",
    "\n",
    "if time < 60:\n",
    "    print(f\"{sec}초\")\n",
    "elif time >= 60:\n",
    "    print(f\"{min}분 {sec}초\")\n",
    "else:\n",
    "    print(f\"{hour}시간 {min}분 {sec}초\")\n",
    "\n"
   ]
  },
  {
   "cell_type": "code",
   "execution_count": 12,
   "id": "00d33691",
   "metadata": {},
   "outputs": [
    {
     "name": "stdout",
     "output_type": "stream",
     "text": [
      "잘못된 비밀번호에요.\n"
     ]
    }
   ],
   "source": [
    "# 중첩 조건문\n",
    "# 하나의 if문 안에 또 다른 if문을 사용하는 것\n",
    "\n",
    "# 로그인 프로세스\n",
    "username = input(\"관리자 아이디를 입력하세요 : \")\n",
    "\n",
    "if username == \"admin\":\n",
    "    password = input(\"비밀번호를 입력하세요 : \")\n",
    "    if password == \"abcd\":\n",
    "        print(\"로그인 성공!\")\n",
    "    else:\n",
    "        print(\"잘못된 비밀번호에요.\")\n",
    "else:\n",
    "    print(\"잘못된 관리자 계정입니다.\")"
   ]
  },
  {
   "cell_type": "code",
   "execution_count": null,
   "id": "74d9fa98",
   "metadata": {},
   "outputs": [
    {
     "ename": "SyntaxError",
     "evalue": "expected ':' (3750716393.py, line 4)",
     "output_type": "error",
     "traceback": [
      "  \u001b[36mCell\u001b[39m\u001b[36m \u001b[39m\u001b[32mIn[2]\u001b[39m\u001b[32m, line 4\u001b[39m\n\u001b[31m    \u001b[39m\u001b[31mif username == \"admin\" and password == abcd\u001b[39m\n                                               ^\n\u001b[31mSyntaxError\u001b[39m\u001b[31m:\u001b[39m expected ':'\n"
     ]
    }
   ],
   "source": [
    "# and 연산자 활용\n",
    "username = input(\"관리자 아이디를 입력하세요 : \")\n",
    "password = input(\"비밀번호를 입력하세요 : \")\n",
    "if username == \"admin\" and password == \"abcd\"\n",
    "    print(\"로그인 성공!\")\n",
    "else:\n",
    "    print(\"잘못된 비밀번호에요.\")"
   ]
  },
  {
   "cell_type": "code",
   "execution_count": 16,
   "id": "ff29a82e",
   "metadata": {},
   "outputs": [
    {
     "name": "stdout",
     "output_type": "stream",
     "text": [
      "구매가 완료되었습니다.\n"
     ]
    }
   ],
   "source": [
    "# 실습 4. 편의점 도시락 구매하기\n",
    "money = int(input(\"금액을 입력하세요 :\"))\n",
    "food = input(\"원하는 식품을 입력하세요(김밥, 삼각김밥, 도시락): \")\n",
    "\n",
    "if food == \"김밥\":\n",
    "    if money >= 2500:\n",
    "        print(\"구매가 완료되었습니다.\")\n",
    "    else:\n",
    "        print(\"금액이 부족합니다.\")\n",
    "elif food == \"삼각김밥\":\n",
    "    if money >= 1500:\n",
    "        print(\"구매가 완료되었습니다.\")\n",
    "    else:\n",
    "        print(\"금액이 부족합니다.\")\n",
    "else:\n",
    "    if food == \"도시락\" and money >= 4000:\n",
    "        print(\"구매가 완료되었습니다.\")\n",
    "    else:\n",
    "        print(\"금액이 부족합니다.\")"
   ]
  }
 ],
 "metadata": {
  "kernelspec": {
   "display_name": "python-study",
   "language": "python",
   "name": "python3"
  },
  "language_info": {
   "codemirror_mode": {
    "name": "ipython",
    "version": 3
   },
   "file_extension": ".py",
   "mimetype": "text/x-python",
   "name": "python",
   "nbconvert_exporter": "python",
   "pygments_lexer": "ipython3",
   "version": "3.13.5"
  }
 },
 "nbformat": 4,
 "nbformat_minor": 5
}
