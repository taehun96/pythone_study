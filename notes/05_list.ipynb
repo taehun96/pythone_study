{
 "cells": [
  {
   "cell_type": "markdown",
   "id": "405444c0",
   "metadata": {},
   "source": [
    "### 05. 리스트(List)\n",
    "- 여러 값들을 ‼️\"순서대로 저장\"할 수 있는 자료형\n",
    "- 인덱스(index) : 자료에 부여된 순서 번호 ➡️ 인덱스로 각 원소에 접근 가능\n",
    "- 가변 자료형(mutable) : 원소의 추가/수정/삭제가 자유로움"
   ]
  },
  {
   "cell_type": "code",
   "execution_count": null,
   "id": "61aafb95",
   "metadata": {},
   "outputs": [],
   "source": [
    "# 리스트 만들기\n",
    "# 표현 : []\n",
    "내리스트1 = [] # 빈리스트\n",
    "\n",
    "# 리스트에 자료를 저장\n",
    "내리스트2 = [\"안녕하세요\", \"반갑습니다\", \"어서오세요\"]\n",
    "내리스트3 = [10, \"아주좋아요\", 3.14, [1,2,3,\n",
    "]]\n",
    "\n",
    "# 리스트 생성함수로 만들기\n",
    "내리스트4 = list() # 빈리스트\n",
    "# 이터러블을 리스트로 변환\n",
    "내리스트5 = list(\"CodingOn\")\n",
    "print(내리스트5)"
   ]
  },
  {
   "cell_type": "code",
   "execution_count": null,
   "id": "f6c0a50f",
   "metadata": {},
   "outputs": [],
   "source": [
    "# 인덱싱(indexing)과 슬라이싱(slicing)\n",
    "# 인덱스 : 원소의 순서 번호, 0번부터 출발함\n",
    "# 인덱싱 : 인덱스를 통해 값(원소)을 조회하는 것\n",
    "# 음수 인덱스 : 뒤에서부터 자료에 접근\n",
    "my_list = [1, 2, 3, 4, 5]\n",
    "my_list[0]\n",
    "my_list[2]\n",
    "my_list[1]\n",
    "my_list[-1]\n",
    "my_list[3] = 40 # ✔️인덱스로 원소에 접근해서 값을 수정 가능\n",
    "my_list[3]\n"
   ]
  },
  {
   "cell_type": "code",
   "execution_count": null,
   "id": "e9e34799",
   "metadata": {},
   "outputs": [
    {
     "name": "stdout",
     "output_type": "stream",
     "text": [
      "천의 자리 : 1\n",
      "백의 자리 : 2\n",
      "십의 자리 : 3\n",
      "일의 자리 : 4\n"
     ]
    }
   ],
   "source": [
    "# 문자열 인덱싱\n",
    "my_str = \"CodingOn\"\n",
    "my_str[2]\n",
    "my_str[-2]\n",
    "# ❌ my_str[-0] = 'N' # 불변 자료형이기 때문에 안됨\n",
    "\n",
    "# 실습 4-2 네 자릿수 정수를 입력받고, 각 자릿수를 분리하여 출력 ➡️ 리스트로 표현\n",
    "number = input(\"네 자릿수 정수를 입력하세요 : \")\n",
    "천의자리 = number[0]\n",
    "백의자리 = number[1]\n",
    "십의자리 = number[2]\n",
    "일의자리 = number[3]\n",
    "\n",
    "print(f\"\"\"천의 자리 : {천의자리}\n",
    "백의 자리 : {백의자리}\n",
    "십의 자리 : {십의자리}\n",
    "일의 자리 : {일의자리}\"\"\")"
   ]
  },
  {
   "cell_type": "code",
   "execution_count": null,
   "id": "edb49fff",
   "metadata": {},
   "outputs": [],
   "source": [
    "# 슬라이싱(slicing)\n",
    "# 시퀀스에서 특정 구간을 잘라내서 추출하는 방법\n",
    "# 원본은 변경 X ➡️ 새로운 시퀀스 생성\n",
    "# 시퀀스[시작:끝:간격]\n",
    "my_numbers = [10, 20, 30, 40, 50, 60, 70, 80, 90, 100]\n",
    "my_numbers[1:4]\n",
    "my_numbers[3:]\n",
    "sliced = my_numbers[:4] # 변수에 넣어서 활용해야됨\n",
    "my_numbers[1::2]\n",
    "my_numbers[:] # 같은 리스트를 복제할 때 사용\n",
    "my_numbers[::-1] # 뒤집어서 복제\n",
    "my_numbers[2:4] = [300,400] # 일부 구간을 변경 가능\n",
    "my_numbers\n"
   ]
  },
  {
   "cell_type": "code",
   "execution_count": null,
   "id": "05f7a16a",
   "metadata": {},
   "outputs": [
    {
     "data": {
      "text/plain": [
       "[100, 200]"
      ]
     },
     "execution_count": 6,
     "metadata": {},
     "output_type": "execute_result"
    }
   ],
   "source": [
    "# 리스트에 값 추가하기 append:추가하다 ✔️내일을 위한 실습\n",
    "my_list = []\n",
    "my_list.append(100)\n",
    "my_list.append(200)\n",
    "my_list"
   ]
  },
  {
   "cell_type": "code",
   "execution_count": 3,
   "id": "47b7dd06",
   "metadata": {},
   "outputs": [
    {
     "name": "stdout",
     "output_type": "stream",
     "text": [
      "리스트 첫 번째 요소 : 10\n",
      "리스트 마지막 요소 : 50\n"
     ]
    }
   ],
   "source": [
    "# 실습 1 문제 1\n",
    "nums = [10, 20, 30, 40, 50]\n",
    "print(f\"\"\"리스트 첫 번째 요소 : {nums[0]}\n",
    "리스트 마지막 요소 : {nums[4]}\"\"\")"
   ]
  },
  {
   "cell_type": "code",
   "execution_count": 4,
   "id": "05b570f7",
   "metadata": {},
   "outputs": [
    {
     "name": "stdout",
     "output_type": "stream",
     "text": [
      "[300, 400, 500]\n"
     ]
    }
   ],
   "source": [
    "# 실습 1 문제 2\n",
    "nums = [100, 200, 300, 400, 500, 600, 700]\n",
    "print(nums[2:5])"
   ]
  },
  {
   "cell_type": "code",
   "execution_count": null,
   "id": "53d5d091",
   "metadata": {},
   "outputs": [],
   "source": [
    "# 실습 1 문제 3\n"
   ]
  }
 ],
 "metadata": {
  "kernelspec": {
   "display_name": "python-study",
   "language": "python",
   "name": "python3"
  },
  "language_info": {
   "codemirror_mode": {
    "name": "ipython",
    "version": 3
   },
   "file_extension": ".py",
   "mimetype": "text/x-python",
   "name": "python",
   "nbconvert_exporter": "python",
   "pygments_lexer": "ipython3",
   "version": "3.13.5"
  }
 },
 "nbformat": 4,
 "nbformat_minor": 5
}
