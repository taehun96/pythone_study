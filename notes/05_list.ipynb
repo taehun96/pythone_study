{
 "cells": [
  {
   "cell_type": "markdown",
   "id": "405444c0",
   "metadata": {},
   "source": [
    "### 05. 리스트(List)\n",
    "- 여러 값들을 ‼️\"순서대로 저장\"할 수 있는 자료형\n",
    "- 인덱스(index) : 자료에 부여된 순서 번호 ➡️ 인덱스로 각 원소에 접근 가능\n",
    "- 가변 자료형(mutable) : 원소의 추가/수정/삭제가 자유로움"
   ]
  },
  {
   "cell_type": "code",
   "execution_count": null,
   "id": "61aafb95",
   "metadata": {},
   "outputs": [],
   "source": [
    "# 리스트 만들기\n",
    "# 표현 : []\n",
    "내리스트1 = [] # 빈리스트\n",
    "\n",
    "# 리스트에 자료를 저장\n",
    "내리스트2 = [\"안녕하세요\", \"반갑습니다\", \"어서오세요\"]\n",
    "내리스트3 = [10, \"아주좋아요\", 3.14, [1,2,3,\n",
    "]]\n",
    "\n",
    "# 리스트 생성함수로 만들기\n",
    "내리스트4 = list() # 빈리스트\n",
    "# 이터러블을 리스트로 변환\n",
    "내리스트5 = list(\"CodingOn\")\n",
    "print(내리스트5)"
   ]
  },
  {
   "cell_type": "code",
   "execution_count": null,
   "id": "f6c0a50f",
   "metadata": {},
   "outputs": [],
   "source": [
    "# 인덱싱(indexing)과 슬라이싱(slicing)\n",
    "# 인덱스 : 원소의 순서 번호, 0번부터 출발함\n",
    "# 인덱싱 : 인덱스를 통해 값(원소)을 조회하는 것\n",
    "# 음수 인덱스 : 뒤에서부터 자료에 접근\n",
    "my_list = [1, 2, 3, 4, 5]\n",
    "my_list[0]\n",
    "my_list[2]\n",
    "my_list[1]\n",
    "my_list[-1]\n",
    "my_list[3] = 40 # ✔️인덱스로 원소에 접근해서 값을 수정 가능\n",
    "my_list[3]\n"
   ]
  },
  {
   "cell_type": "code",
   "execution_count": null,
   "id": "e9e34799",
   "metadata": {},
   "outputs": [],
   "source": [
    "# 문자열 인덱싱\n",
    "my_str = \"CodingOn\"\n",
    "my_str[2]\n",
    "my_str[-2]\n",
    "# ❌ my_str[-0] = 'N' # 불변 자료형이기 때문에 안됨\n",
    "\n",
    "# 실습 4-2 네 자릿수 정수를 입력받고, 각 자릿수를 분리하여 출력 ➡️ 리스트로 표현\n",
    "number = input(\"네 자릿수 정수를 입력하세요 : \")\n",
    "천의자리 = number[0]\n",
    "백의자리 = number[1]\n",
    "십의자리 = number[2]\n",
    "일의자리 = number[3]\n",
    "\n",
    "print(f\"\"\"천의 자리 : {천의자리}\n",
    "백의 자리 : {백의자리}\n",
    "십의 자리 : {십의자리}\n",
    "일의 자리 : {일의자리}\"\"\")"
   ]
  },
  {
   "cell_type": "code",
   "execution_count": null,
   "id": "edb49fff",
   "metadata": {},
   "outputs": [],
   "source": [
    "# 슬라이싱(slicing)\n",
    "# 시퀀스에서 특정 구간을 잘라내서 추출하는 방법\n",
    "# 원본은 변경 X ➡️ 새로운 시퀀스 생성\n",
    "# 시퀀스[시작:끝:간격]\n",
    "my_numbers = [10, 20, 30, 40, 50, 60, 70, 80, 90, 100]\n",
    "my_numbers[1:4]\n",
    "my_numbers[3:]\n",
    "sliced = my_numbers[:4] # 변수에 넣어서 활용해야됨\n",
    "my_numbers[1::2]\n",
    "my_numbers[:] # 같은 리스트를 복제할 때 사용\n",
    "my_numbers[::-1] # 뒤집어서 복제\n",
    "my_numbers[2:4] = [300,400] # 일부 구간을 변경 가능\n",
    "my_numbers\n"
   ]
  },
  {
   "cell_type": "code",
   "execution_count": null,
   "id": "08de02b8",
   "metadata": {},
   "outputs": [],
   "source": [
    "# 실습 1 문제 1\n",
    "nums = [10, 20, 30, 40, 50]\n",
    "print(f\"\"\"리스트 첫 번째 요소 : {nums[0]}\n",
    "리스트 마지막 요소 : {nums[-1]}\"\"\")\n",
    "\n",
    "# 실습 1 문제 2\n",
    "nums = [100, 200, 300, 400, 500, 600, 700]\n",
    "print(nums[2:5])\n",
    "\n",
    "# 실습 1 문제 3 원소 두배만들기\n",
    "nums= [1, 2, 3, 4, 5]\n",
    "nums[0] *= 2\n",
    "nums[1] *= 2\n",
    "nums[2] *= 2\n",
    "nums[3] *= 2\n",
    "nums[4] *= 2\n",
    "print(\"문제3\", nums)\n",
    "\n",
    "# 실습 1 문제 4\n",
    "items = [\"a\", \"b\", \"c\", \"d\", \"e\"]\n",
    "items[::-1]\n",
    "\n",
    "# 실습 1 문제 5\n",
    "data = [\"zero\", \"one\", \"two\", \"three\", \"four\", \"five\"]\n",
    "data[::2]\n",
    "\n",
    "# 실습 1 문제 6\n",
    "movies = [\"인셉션\", \"인터스텔라\", \"어벤져스\", \"라라랜드\", \"기생충\"]\n",
    "movies[2:4] = [\"매트릭스\",\"타이타닉\"]\n",
    "movies\n",
    "\n",
    "# 실습 1 문제 7\n",
    "subjects = [\"국어\", \"수학\", \"영어\", \"물리\", \"화학\", \"생물\", \"역사\", \"지구과학\", \"윤리\"]\n",
    "subjects[3::2]\n",
    "\n",
    "# 실습 1 문제 8 리스트를 3개 구간으로 나누어 역순 병합\n",
    "data = [\"A\", \"B\", \"C\", \"D\", \"E\", \"F\", \"G\", \"H\", \"I\"]\n",
    "print(data[0:3][::-1], end=\" \")\n",
    "print(data[3:6][::-1], end=\" \")\n",
    "print(data[6:][::-1])"
   ]
  },
  {
   "cell_type": "code",
   "execution_count": null,
   "id": "eeb99730",
   "metadata": {},
   "outputs": [],
   "source": [
    "# 범위에서 벗어난 인덱스를 입력했을 때 ➡️ IndexError\n",
    "my_list = [1,2,3,4]\n",
    "my_list[4] #에러 뜸"
   ]
  },
  {
   "cell_type": "code",
   "execution_count": null,
   "id": "738a036b",
   "metadata": {},
   "outputs": [],
   "source": [
    "# 슬라이싱 할 때 주의사항\n",
    "my_list = [1,2,3,4,5]\n",
    "\n",
    "# step에 양수를 넣었는데, start에서 end를 증가시키면 ➡️ 빈 리스트 반환\n",
    "my_list[4:1:2]\n",
    "\n",
    "# step에 음수를 넣었는데, start에서 end를 증가시키면 ➡️ 빈 리스트 반환\n",
    "my_list[1:3:-1]"
   ]
  },
  {
   "cell_type": "code",
   "execution_count": null,
   "id": "bd7c201b",
   "metadata": {},
   "outputs": [],
   "source": [
    "# 리스트 연산\n",
    "# del 키워드 : 범용 삭제 키워드, 리스트 외에도 딕셔너리 등에 사용 가능\n",
    "\n",
    "my_list = [10,20,30,40,50]\n",
    "\n",
    "# 30 삭제\n",
    "del my_list[2]\n",
    "print(my_list)\n",
    "\n",
    "# 20,40 삭제\n",
    "del my_list[1:3]\n",
    "print(my_list)\n",
    "\n",
    "# 리스트 삭제\n",
    "del my_list\n",
    "# print(my_list) ➡️ 에러 발생 NameError: name 'my_list' is not defined"
   ]
  },
  {
   "cell_type": "code",
   "execution_count": null,
   "id": "bad5dc87",
   "metadata": {},
   "outputs": [
    {
     "name": "stdout",
     "output_type": "stream",
     "text": [
      "['가', '나', '다']/['라', '마', '바']/['가', '나', '다', '라', '마', '바']\n"
     ]
    }
   ],
   "source": [
    "# 리스트 연결(+)\n",
    "my_list1 = [\"가\",\"나\",\"다\"]\n",
    "my_list2 = [\"라\",\"마\",\"바\"]\n",
    "\n",
    "# 원본 대상은 변경되지 않고 새로운 리스트를 반환\n",
    "new_list = my_list1 + my_list2\n",
    "print(my_list1, my_list2, new_list, sep =\"/\")"
   ]
  },
  {
   "cell_type": "code",
   "execution_count": 49,
   "id": "292f64fb",
   "metadata": {},
   "outputs": [
    {
     "name": "stdout",
     "output_type": "stream",
     "text": [
      "['금', '은', '동']/['금', '은', '동', '금', '은', '동', '금', '은', '동']\n"
     ]
    }
   ],
   "source": [
    "# 리스트 반복(*)\n",
    "my_list =[\"금\", \"은\", \"동\"]\n",
    "\n",
    "# 리스트 * 정수\n",
    "# 원본 대상은 변경하지 않고 새로운 리스트 반환\n",
    "new_list = my_list * 3\n",
    "print(my_list, new_list, sep=\"/\")"
   ]
  },
  {
   "cell_type": "code",
   "execution_count": null,
   "id": "16d8f7f5",
   "metadata": {},
   "outputs": [
    {
     "name": "stdout",
     "output_type": "stream",
     "text": [
      "True\n",
      "True\n",
      "참외는 없어요\n"
     ]
    }
   ],
   "source": [
    "# 원소의 포함 여부 검사(in, not in)\n",
    "fruits = [\"토마토\", \"사과\", \"포도\", \"수박\", \"바나나\"]\n",
    "\n",
    "print(\"포도\" in fruits)\n",
    "print(\"참외\" not in fruits)\n",
    "\n",
    "# 조건문에 활용\n",
    "if \"참외\" not in fruits:\n",
    "    print(\"참외는 없어요\")\n",
    "else:\n",
    "    print(\"참외는 있어요\")"
   ]
  },
  {
   "cell_type": "code",
   "execution_count": null,
   "id": "537e3211",
   "metadata": {},
   "outputs": [
    {
     "name": "stdout",
     "output_type": "stream",
     "text": [
      "['apple', 'watermelon', 'strawberry']\n"
     ]
    }
   ],
   "source": [
    "# 실습2 문제1\n",
    "fruits = [\"apple\", \"banana\", \"cherry\", \"grape\", \"watermelon\", \"strawberry\"]\n",
    "del fruits[1:4]\n",
    "result = fruits[:1] + fruits[1:]\n",
    "print(result)\n",
    "\n",
    "# 실습2 문제2\n",
    "letters = [\"A\", \"B\"]\n",
    "new_letters = letters * 3\n",
    "del new_letters[2]\n",
    "print(new_letters)"
   ]
  },
  {
   "cell_type": "code",
   "execution_count": null,
   "id": "e41b5174",
   "metadata": {},
   "outputs": [
    {
     "name": "stdout",
     "output_type": "stream",
     "text": [
      "1. len()\n",
      "8\n",
      "5\n",
      "\n",
      "2. append(x)\n",
      "[1, 2, 3, 4, 5, 6, 7, 8]\n",
      "\n",
      "3. insert(inx, x)\n",
      "[0, 1, 2, 2.5, 3, 2.5, 3.5, 4, 5, 6, 7, 8]\n",
      "\n",
      "4. remove(x)\n",
      "[0, 1, 2, 3, 2.5, 4, 5, 6, 7, 8]\n",
      "\n",
      "5. pop(idx)\n",
      "[0, 1, 2, 3, 4, 5, 6, 7]\n",
      "삭제한 요소 2.5 8\n",
      "\n",
      "6. extend(iterable)\n",
      "['사과', '수박', '포도', '배', '참외', '토마토', '키위', '딸', '기']\n",
      "\n"
     ]
    }
   ],
   "source": [
    "# 리스트 주요 메서드(Method) ➡️ ‼️자주 많이 쓰임‼️\n",
    "numbers = [1,2,3,4,5]\n",
    "\n",
    "# 1. len() 함수 : 시퀀스의 길이(요소의 개수)를 반환 ➡️ 자주 쓰임, 함수\n",
    "print(\"1. len()\")\n",
    "print(len(\"CodingOn\"))\n",
    "print(len(numbers))\n",
    "print()\n",
    "\n",
    "# 2. append(x) : 리스트 끝에 요소 추가 ➡️ 리스트에 속해 있는 기능 ➡️ 뒤에 한 개씩 추가할 수 있음 extend 와의 차이점\n",
    "print(\"2. append(x)\")\n",
    "numbers.append(6)\n",
    "numbers.append(7)\n",
    "numbers.append(8)\n",
    "print(numbers)\n",
    "print()\n",
    "\n",
    "# 3. insert(index, x) : 지정한 인덱스에 요소를 삽입, 중간에 추가\n",
    "print(\"3. insert(inx, x)\")\n",
    "numbers.insert(2, 2.5)\n",
    "numbers.insert(4, 3.5)\n",
    "numbers.insert(0, 0)\n",
    "numbers.insert(5, 2.5)\n",
    "print(numbers)\n",
    "print()\n",
    "\n",
    "# 4. remove(x) : 특정 값(x)을 삭제\n",
    "# ‼️가장 처음 발견된 해당 값(x)을 삭제\n",
    "print(\"4. remove(x)\")\n",
    "numbers.remove(2.5)\n",
    "numbers.remove(3.5)\n",
    "print(numbers)\n",
    "print()\n",
    "\n",
    "# 5. pop(idx) : 인덱스로 삭제\n",
    "# ‼️인덱스를 지정하지 않으면 마지막 요소를 삭제\n",
    "# 삭제한 요소를 반환\n",
    "print(\"5. pop(idx)\")\n",
    "a = numbers.pop(4)\n",
    "b = numbers.pop()\n",
    "print(numbers)\n",
    "print(\"삭제한 요소\", a, b) # 삭제한 요소를 반환\n",
    "print()\n",
    "\n",
    "# 6. extend(iterable) : 리스트 끝에 여러 요소 추가 ➡️ 여러개를 한번에 넣을 수 있음, append와 다름\n",
    "print(\"6. extend(iterable)\")\n",
    "fruits = [\"사과\", \"수박\", \"포도\"]\n",
    "fruits.extend([\"배\", \"참외\"])\n",
    "fruits.extend((\"토마토\", \"키위\")) # 튜플 추가\n",
    "fruits.extend(\"딸기\") # 문자열 추가\n",
    "print(fruits)\n",
    "print()"
   ]
  },
  {
   "cell_type": "code",
   "execution_count": 95,
   "id": "687af66c",
   "metadata": {},
   "outputs": [
    {
     "name": "stdout",
     "output_type": "stream",
     "text": [
      "7. 리스트 정렬 : sort(), sorted()\n",
      "7-1. list.sort()\n",
      "오름차순 [1, 2, 3, 4]\n",
      "내림차순 [4, 3, 2, 1]\n",
      "\n",
      "7-2. sorted(list)\n",
      "원본 리스트 [50, 52, 53, 51]\n",
      "정렬된 리스트 [50, 51, 52, 53]\n",
      "정렬된 리스트 내림차순 [53, 52, 51, 50]\n",
      "\n",
      "8. 리스트 뒤집기 : reverse(), reversed()\n",
      "8-1. list.reverse()\n",
      "reverse 1 [104, 103, 102, 101, 100]\n",
      "reverse 2 [100, 101, 102, 103, 104]\n",
      "\n",
      "8-2. reversed(list)\n",
      "원본 리스트 [11, 12, 13, 14, 15]\n",
      "뒤집힌 리스트 [15, 14, 13, 12, 11]\n"
     ]
    }
   ],
   "source": [
    "# 7. 리스트 정렬 : sort(), sorted()\n",
    "# 7-1. list.sort() : 원본 리스트를 정렬 ➡️ 리스트의 매서드\n",
    "print(\"7. 리스트 정렬 : sort(), sorted()\")\n",
    "print(\"7-1. list.sort()\")\n",
    "numbers1 = [3,2,1,4]\n",
    "numbers1.sort()\n",
    "print(\"오름차순\", numbers1)\n",
    "numbers1.sort(reverse=True)\n",
    "print(\"내림차순\", numbers1)\n",
    "print()\n",
    "\n",
    "# 7-2. sorted(list) : 정렬된 새로운 리스트를 반환 ➡️ 파이썬의 매장 함수\n",
    "print(\"7-2. sorted(list)\")\n",
    "numbers2 = [50, 52, 53, 51]\n",
    "new_numbers2 = sorted(numbers2) # 새로운 변수에 넣어줘야함\n",
    "new_numbers2_desc = sorted(numbers2, reverse=True) # 새로운 변수에 넣어줘야함\n",
    "print(\"원본 리스트\", numbers2)\n",
    "print(\"정렬된 리스트\", new_numbers2)\n",
    "print(\"정렬된 리스트 내림차순\", new_numbers2_desc)\n",
    "print()\n",
    "\n",
    "# 8. 리스트 뒤집기 : reverse(), reversed()\n",
    "# 8-1. list.reverse() : 원본 리스트를 뒤집음 ➡️ 리스트의 매서드\n",
    "print(\"8. 리스트 뒤집기 : reverse(), reversed()\")\n",
    "print(\"8-1. list.reverse()\")\n",
    "my_numbers = [100, 101, 102, 103, 104]\n",
    "my_numbers.reverse()\n",
    "print(\"reverse 1\", my_numbers)\n",
    "my_numbers.reverse()\n",
    "print(\"reverse 2\", my_numbers)\n",
    "print()\n",
    "\n",
    "# 8-2. reversed(list) : 새로운 리스트를 반환 ➡️ 파이썬의 매장 함수\n",
    "print(\"8-2. reversed(list)\")\n",
    "my_numbers2 = [11,12,13,14,15]\n",
    "my_numbers2_rev = list(reversed(my_numbers2))\n",
    "print(\"원본 리스트\", my_numbers2)\n",
    "print(\"뒤집힌 리스트\", my_numbers2_rev)"
   ]
  },
  {
   "cell_type": "code",
   "execution_count": 94,
   "id": "ce3bde02",
   "metadata": {},
   "outputs": [
    {
     "name": "stdout",
     "output_type": "stream",
     "text": [
      "9. count(x) : 값의 개수 세기\n",
      "2의 개수: 4\n",
      "\n",
      "10. min(), max(): 최대값, 최소값 찾기\n",
      "최소값 20\n",
      "최대값 1000\n",
      "\n",
      "11. sum(list) : 요소들의 합 구하기\n",
      "요소들의 합 1730\n"
     ]
    }
   ],
   "source": [
    "# 9. count(x) : 값의 개수 세기\n",
    "print(\"9. count(x) : 값의 개수 세기\")\n",
    "numbers = [1,2,2,2,2,3,4,5,6,7]\n",
    "print(\"2의 개수:\",numbers.count(2))\n",
    "print()\n",
    "\n",
    "# 10. min(list), max(list): 최대값, 최소값 찾기\n",
    "print(\"10. min(), max(): 최대값, 최소값 찾기\")\n",
    "numbers2 = [100,200,50,70,1000,40,20,250]\n",
    "print(\"최소값\", min(numbers2))\n",
    "print(\"최대값\", max(numbers2))\n",
    "print()\n",
    "\n",
    "# 11. sum(list) : 요소들의 합 구하기\n",
    "print(\"11. sum(list) : 요소들의 합 구하기\")\n",
    "print(\"요소들의 합\", sum(numbers2))"
   ]
  },
  {
   "cell_type": "code",
   "execution_count": 114,
   "id": "21cf2532",
   "metadata": {},
   "outputs": [
    {
     "name": "stdout",
     "output_type": "stream",
     "text": [
      "['철수', '영희']\n",
      "['철수', '영희', '민수', '지훈']\n",
      "['철수', '민수', '지훈']\n",
      "['수진', '철수', '민수', '지훈']\n",
      "['지훈', '철수', '수진']\n",
      "가장 작은 수 3\n",
      "가장 큰 수 9\n",
      "28\n",
      "[3, 4, 5, 7]\n"
     ]
    }
   ],
   "source": [
    "# 실습3 문제 1 기차 탑승 시뮬레이션\n",
    "train = []\n",
    "# 1. 처음에 철수, 영희 탑승\n",
    "train.append(\"철수\")\n",
    "train.append(\"영희\")\n",
    "print(train)\n",
    "# train.extend([\"철수\", \"영희\"])\n",
    "# 2. 민수 지훈 탑승\n",
    "train.extend([\"민수\", \"지훈\"])\n",
    "print(train)\n",
    "# 3.\n",
    "train.pop(1)\n",
    "print(train)\n",
    "# 4.\n",
    "train.insert(0,\"수진\")\n",
    "print(train)\n",
    "# 5.\n",
    "train.pop(2)\n",
    "train.reverse()\n",
    "print(train)\n",
    "\n",
    "\n",
    "\n",
    "# 실습3 문제 2\n",
    "cards = [5, 3, 7]\n",
    "# 1\n",
    "cards.append(4)\n",
    "cards.append(9)\n",
    "# 2\n",
    "print(\"가장 작은 수\", min(cards))\n",
    "print(\"가장 큰 수\", max(cards))\n",
    "# 3\n",
    "print(sum(cards))\n",
    "# 4\n",
    "cards.sort()\n",
    "cards.pop()\n",
    "# 5\n",
    "print(cards)\n"
   ]
  },
  {
   "cell_type": "code",
   "execution_count": 116,
   "id": "54e7d2a4",
   "metadata": {},
   "outputs": [
    {
     "name": "stdout",
     "output_type": "stream",
     "text": [
      "1. ['철수', '영희']\n",
      "2. ['철수', '영희', '민수', '지훈']\n",
      "3. ['철수', '민수', '지훈']\n",
      "4. ['철수', '수진', '민수', '지훈']\n",
      "5. ['지훈', '수진', '철수']\n",
      "1. [5, 3, 7, 4, 9]\n",
      "\n",
      "2.\n",
      "가장 큰 수: 9\n",
      "가장 작은 수: 3\n",
      "3. 총합: 28\n",
      "4. 제거한 숫자: 9\n",
      "5. [3, 4, 5, 7]\n"
     ]
    }
   ],
   "source": [
    "# 실습3\n",
    "# 문제 1. 기차 탑승 시뮬레이션\n",
    "train = []\n",
    "# 1. 처음엔 [\"철수\", \"영희\"]가 탑승했습니다.\n",
    "train.append(\"철수\")\n",
    "train.append(\"영희\")\n",
    "print(\"1.\", train)\n",
    "\n",
    "# 2. 그 다음 역에서 [\"민수\", \"지훈\"]이 함께 탑승했습니다.\n",
    "train.extend([\"민수\", \"지훈\"])\n",
    "# train += [\"민수\", \"지훈\"]\n",
    "print(\"2.\", train)\n",
    "\n",
    "# 3. 다음 역에서 \"영희\"는 내렸습니다.\n",
    "train.remove(\"영희\")\n",
    "# train.pop(1)\n",
    "print(\"3.\", train)\n",
    "\n",
    "# 4. \"수진\"이 1번 자리에 끼어 탑승했습니다.\n",
    "train.insert(1, \"수진\")\n",
    "print(\"4.\", train)\n",
    "\n",
    "# 5. 마지막 역에서 \"민수\"가 내렸고, 기차 안의 순서를 뒤집었습니다.\n",
    "train.remove(\"민수\")\n",
    "train.reverse()\n",
    "print(\"5.\", train)\n",
    "\n",
    "# 문제 2. 숫자 처리 게임\n",
    "cards = [5, 3, 7]\n",
    "# 1. 2장을 더 추가해서 [4, 9]가 들어옵니다.\n",
    "cards.extend([4,9])\n",
    "print(\"1.\", cards)\n",
    "print()\n",
    "\n",
    "# 2. 가장 큰 수와 가장 작은 수를 각각 구해 출력하세요.\n",
    "print(\"2.\")\n",
    "print(\"가장 큰 수:\", max(cards))\n",
    "print(\"가장 작은 수:\", min(cards))\n",
    "\n",
    "# 3. 총합을 출력하세요.\n",
    "print(\"3. 총합:\", sum(cards))\n",
    "\n",
    "# 4. 리스트를 정렬한 다음, 마지막 숫자를 제거하세요.\n",
    "cards.sort()\n",
    "print(\"4. 제거한 숫자:\", cards.pop())\n",
    "\n",
    "# 5. 최종 리스트를 출력하세요.\n",
    "print(\"5.\", cards)"
   ]
  }
 ],
 "metadata": {
  "kernelspec": {
   "display_name": "python-study",
   "language": "python",
   "name": "python3"
  },
  "language_info": {
   "codemirror_mode": {
    "name": "ipython",
    "version": 3
   },
   "file_extension": ".py",
   "mimetype": "text/x-python",
   "name": "python",
   "nbconvert_exporter": "python",
   "pygments_lexer": "ipython3",
   "version": "3.13.5"
  }
 },
 "nbformat": 4,
 "nbformat_minor": 5
}
