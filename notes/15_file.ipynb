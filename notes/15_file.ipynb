{
 "cells": [
  {
   "cell_type": "markdown",
   "id": "b65e4c02",
   "metadata": {},
   "source": [
    "### 15. 파일 입출력\n",
    "- 저장장치에 저장된 파일을 읽어오거나 저장하는 작업"
   ]
  },
  {
   "cell_type": "code",
   "execution_count": null,
   "id": "502b682b",
   "metadata": {},
   "outputs": [],
   "source": [
    "# 파일 인코딩\n",
    "# 사람이 읽는 문자를 컴퓨터가 저장하고 처리할 수 있는 이진수로 바꾸는 방식\n",
    "# 서로 다른 인코딩으로 저장/읽기 시 글자가 깨질 수 있음\n",
    "# Python의 open()에서 기본 인코딩은 UTF-8 "
   ]
  },
  {
   "cell_type": "code",
   "execution_count": null,
   "id": "1e95df50",
   "metadata": {},
   "outputs": [],
   "source": [
    "# 파일 열기와 닫기\n",
    "# 파일 열기 : open()\n",
    "# open(\"파일경로\", mode = \"r\", encoding = \"원하는 인코딩\")\n",
    "# open으로 파일을 읽으면 '파일 객체'를 반환함\n",
    "f = open(\"example.txt\", \"w\", encoding=\"utf-8\")\n",
    "\n",
    "f.write(\"파이썬 입출력 예제입니다. \\n\")\n",
    "f.write(\"파이썬 공부 너무너무 재밌어요\")\n",
    "\n",
    "# 파일 닫기 : close()\n",
    "# 열린 파일을 닫아 시스템 자원을 해제함\n",
    "f.close()"
   ]
  },
  {
   "cell_type": "code",
   "execution_count": null,
   "id": "273f60f2",
   "metadata": {},
   "outputs": [],
   "source": [
    "# close()를 반드시 해야하는 이유\n",
    "# 파일을 닫지 않으면 시스템 자원(메모리, 파일 핸들 등)이 해제되지 않아 누수(leak)가 발생할 수 있음\n",
    "# 파일이 잠긴 채로 남아 다른 프로그램이 접근하지 못할 수 있음\n",
    "# 데이터가 디스크에 제대로 쓰이지 않을 수 있음\n",
    "# 프로그램이 사용하는 자원이 계속 증가할 수 있음"
   ]
  },
  {
   "cell_type": "code",
   "execution_count": null,
   "id": "08b1a8e0",
   "metadata": {},
   "outputs": [],
   "source": [
    "# 파일 읽기\n",
    "# read() : 전체 내용을 한번에 읽기\n",
    "f = open(\"example.txt\", \"r\", encoding=\"utf-8\")\n",
    "content = f.read()\n",
    "print((content))\n",
    "f.close()\n"
   ]
  },
  {
   "cell_type": "code",
   "execution_count": null,
   "id": "4168bead",
   "metadata": {},
   "outputs": [],
   "source": [
    "# readline() : 한 줄씩 순차적으로 읽기\n",
    "f = open(\"example.txt\", \"r\", encoding=\"utf-8\")\n",
    "line1 = f.readline()\n",
    "line2 = f.readline()\n",
    "# strip() 함수 : 문자열 양쪽에 있는 공백 문자(스페이스, 탭, 줄바꿈 \\n 등)를 제거\n",
    "print(\"첫번째 줄:\", line1.strip())\n",
    "print(\"두번째 줄:\", line2) \n",
    "f.close()"
   ]
  },
  {
   "cell_type": "code",
   "execution_count": null,
   "id": "c94fbdf5",
   "metadata": {},
   "outputs": [],
   "source": [
    "# for문으로 읽기\n",
    "# 이터러블이기에 반복문으로 순회가 가능\n",
    "f = open(\"example.txt\", \"r\", encoding=\"utf-8\")\n",
    "for line in f:\n",
    "    print(line.strip())\n",
    "f.close()"
   ]
  },
  {
   "cell_type": "code",
   "execution_count": null,
   "id": "9d6dce43",
   "metadata": {},
   "outputs": [],
   "source": [
    "# readlines() : 모든 줄을 한번에 리스트로 읽기\n",
    "f = open(\"example.txt\", \"r\", encoding=\"utf-8\")\n",
    "contents = f.readlines()\n",
    "print(contents)\n",
    "f.close()"
   ]
  },
  {
   "cell_type": "code",
   "execution_count": null,
   "id": "0509b3de",
   "metadata": {},
   "outputs": [],
   "source": [
    "# tell() : 현재 읽고 있는 위치(바이트)를 반환\n",
    "f = open(\"example.txt\", \"r\", encoding=\"utf-8\")\n",
    "print(\"처음 위치:\", f.tell())\n",
    "f.read(5)\n",
    "print(\"5바이트 읽은 후 위치:\", f.tell())\n",
    "f.close()"
   ]
  },
  {
   "cell_type": "code",
   "execution_count": null,
   "id": "ddd5aa70",
   "metadata": {},
   "outputs": [],
   "source": [
    "# seek() : 파일 포인터 위치를 이동\n",
    "f = open(\"example.txt\", \"r\", encoding=\"utf-8\")\n",
    "print(f.read(10))\n",
    "f.seek(0)\n",
    "print(f.read())\n",
    "f.close()"
   ]
  },
  {
   "cell_type": "code",
   "execution_count": null,
   "id": "71c25903",
   "metadata": {},
   "outputs": [],
   "source": [
    "# 파일 쓰기\n",
    "# 파일 쓰기 모드 : 'w' vs 'a'\n",
    "# w모드 : 덮어쓰기\n",
    "f = open(\"example.txt\", \"w\", encoding=\"utf-8\")\n",
    "f.write(\"파이썬 입출력 예제입니다. \\n\")\n",
    "f.write(\"파이썬 공부 너무너무 재밌어요\")\n",
    "f.close()"
   ]
  },
  {
   "cell_type": "code",
   "execution_count": null,
   "id": "6c5990f5",
   "metadata": {},
   "outputs": [],
   "source": [
    "# a모드 : 추가쓰기\n",
    "f = open(\"example.txt\", \"a\", encoding=\"utf-8\")\n",
    "f.write(\"\\n추가한 내용입니다.\")\n",
    "f.close()"
   ]
  },
  {
   "cell_type": "code",
   "execution_count": null,
   "id": "7a8fc616",
   "metadata": {},
   "outputs": [],
   "source": [
    "# with문\n",
    "# 장점 : 파일 입출력시에 자동으로 close()를 호출해주는 구문\n",
    "# as + f1 : f1이 변수\n",
    "# 파일 쓰기\n",
    "with open(\"with_example.txt\", \"w\", encoding=\"utf-8\") as f1:\n",
    "    f1.write((\"with문으로 작성한 파일이에요.\\n\"))\n",
    "    f1.write((\"파일 입출력 짱 쉬움.\"))"
   ]
  },
  {
   "cell_type": "code",
   "execution_count": null,
   "id": "03e405f4",
   "metadata": {},
   "outputs": [],
   "source": [
    "# 파일 읽기\n",
    "with open(\"with_example.txt\", \"r\", encoding=\"utf-8\") as f2:\n",
    "    data = f2.read()\n",
    "    print(data)"
   ]
  },
  {
   "cell_type": "code",
   "execution_count": null,
   "id": "89474a3c",
   "metadata": {},
   "outputs": [],
   "source": [
    "# 예제1. 파일에서 랜덤 추출하기\n",
    "with open(\"words.txt\", \"w\", encoding=\"utf-8\") as f1:\n",
    "    words = [\"apple\", \"banana\", \"happy\",\"robot\", \"dream\", \"green\", \"mouse\", \"light\", \n",
    "        \"quick\", \"jelly\", \"water\", \"pencil\", \"sweet\", \"cloud\", \"river\", \"train\",\n",
    "        \"ocean\", \"bread\", \"plant\", \"night\", \"coffee\", \"future\", \"magic\", \"honey\",\n",
    "        \"sugar\", \"music\", \"peace\", \"candy\", \"tiger\", \"stone\"]\n",
    "    for i in words:\n",
    "        f1.write(i + \"\\n\")"
   ]
  },
  {
   "cell_type": "code",
   "execution_count": null,
   "id": "ae183ef0",
   "metadata": {},
   "outputs": [],
   "source": [
    "import random\n",
    "\n",
    "with open(\"words.txt\", \"r\", encoding=\"utf-8\") as f2:\n",
    "    data = f2.readlines()\n",
    "    for i in range(5):\n",
    "        word = random.choice(data).strip()\n",
    "        print(word)"
   ]
  },
  {
   "cell_type": "code",
   "execution_count": null,
   "id": "b5374702",
   "metadata": {},
   "outputs": [],
   "source": [
    "# 예제2. 입력 받아 파일 쓰기\n",
    "with open(\"with_example.txt\", \"a\", encoding=\"utf-8\") as f3:\n",
    "    while True:\n",
    "        text = input(\"저장할 내용을 입력해주세요(종료: z):\")\n",
    "        if text == \"Z\" or text == \"z\":\n",
    "            break\n",
    "        f3.write(text + \"\\n\")\n"
   ]
  },
  {
   "cell_type": "code",
   "execution_count": 56,
   "id": "4e7bc6dd",
   "metadata": {},
   "outputs": [
    {
     "name": "stdout",
     "output_type": "stream",
     "text": [
      "저장된 회원 명부: \n",
      "민수   123456\n",
      "수진   456123\n",
      "민희   789456\n"
     ]
    }
   ],
   "source": [
    "# 실습1. 회원 명부 작성하기\n",
    "with open(\"member.txt\", \"w\", encoding=\"utf-8\") as f4:\n",
    "    for i in range(3):\n",
    "        name, password = input(f\"{i + 1}번째 회원 이름과 비밀번호를 입력하세요:\").split(\"-\")\n",
    "        f4.write(f\"{name} {password}\\n\")\n",
    "\n",
    "print(\"저장된 회원 명부: \")\n",
    "with open(\"member.txt\", \"r\", encoding=\"utf-8\") as f4:\n",
    "    for line in f4:\n",
    "        print(line.strip())"
   ]
  },
  {
   "cell_type": "code",
   "execution_count": 58,
   "id": "0ef3a1c0",
   "metadata": {},
   "outputs": [
    {
     "name": "stdout",
     "output_type": "stream",
     "text": [
      "로그인 성공\n"
     ]
    }
   ],
   "source": [
    "# 실습2. 회원 명부를 이용한 로그인 기능\n",
    "input_name = input(\"이름을 입력하세요\")\n",
    "input_password = input(\"비밀번호를 입력하세요\")\n",
    "\n",
    "with open(\"member.txt\", \"r\", encoding=\"utf-8\") as f4:\n",
    "    for line in f4:\n",
    "        name, password = line.strip().split()\n",
    "        if name == input_name and password == input_password:\n",
    "            print(\"로그인 성공\")\n",
    "            break\n",
    "    else:\n",
    "        print(\"로그인 실패\")"
   ]
  },
  {
   "cell_type": "code",
   "execution_count": 65,
   "id": "4f926750",
   "metadata": {},
   "outputs": [
    {
     "name": "stdout",
     "output_type": "stream",
     "text": [
      "로그인 성공!\n"
     ]
    }
   ],
   "source": [
    "# 실습2. 풀이) 회원 명부를 이용한 로그인 기능\n",
    "input_name = input(\"이름을 입력하세요\")\n",
    "input_password = input(\"비밀번호를 입력하세요\")\n",
    "\n",
    "login = False\n",
    "\n",
    "with open(\"member.txt\", \"r\", encoding=\"utf-8\") as f4:\n",
    "    for line in f4:\n",
    "        parts = line.strip().split()\n",
    "        name = parts[0].strip()\n",
    "        password = parts[1].strip()\n",
    "\n",
    "        if input_name == name and input_password == password:\n",
    "            login = True\n",
    "            break\n",
    "\n",
    "if login:\n",
    "    print(\"로그인 성공!\")\n",
    "else:\n",
    "    print(\"로그인 실패!\")"
   ]
  },
  {
   "cell_type": "code",
   "execution_count": null,
   "id": "3c90979f",
   "metadata": {},
   "outputs": [
    {
     "name": "stdout",
     "output_type": "stream",
     "text": [
      "로그인 성공!\n"
     ]
    }
   ],
   "source": [
    "# 실습3 로그인 성공 시 전화번호 저장하기\n",
    "input_name = input(\"이름을 입력하세요\")\n",
    "input_password = input(\"비밀번호를 입력하세요\")\n",
    "\n",
    "login = False\n",
    "\n",
    "with open(\"member.txt\", \"r\", encoding=\"utf-8\") as f4:\n",
    "    for line in f4:\n",
    "        parts = line.strip().split()\n",
    "        name = parts[0].strip()\n",
    "        password = parts[1].strip()\n",
    "\n",
    "        if input_name == name and input_password == password:\n",
    "            login = True\n",
    "            break\n",
    "\n",
    "if login:\n",
    "    print(\"로그인 성공!\")\n",
    "else:\n",
    "    print(\"로그인 실패!\")\n",
    "\n",
    "phone = input(\"전화번호를 입력하세요: \")\n",
    "\n",
    "phone_list = []\n",
    "file_exist = False\n",
    "# 파일 리스트 열기\n",
    "f4 = open(\"member_tel.txt\", \"r\", encoding=\"utf-8\")\n",
    "phone_list = f4.readlines()\n",
    "f4.close()\n",
    "file_exist = True\n",
    "\n",
    "# 전화번호 업데이트\n",
    "updated = False\n",
    "new_lines = []\n",
    "for line in phone_list:\n",
    "    saved_name, saved_tel = line.strip().split()\n",
    "    if saved_name == name:\n",
    "        new_lines.append(f\"{name} {phone}\\n\")\n",
    "        updated = True\n",
    "    else:\n",
    "        new_lines.append(line)\n",
    "\n",
    "if not updated:\n",
    "    new_lines.append(f\"{name} {phone}\\n\")\n",
    "\n",
    "# 파일 덮어쓰기\n",
    "with open(\"member_tel.txt\", \"w\", encoding=\"utf-8\") as f4:\n",
    "    f4.writelines(new_lines)\n",
    "\n"
   ]
  },
  {
   "cell_type": "code",
   "execution_count": null,
   "id": "5495c8a9",
   "metadata": {},
   "outputs": [],
   "source": [
    "# 바이너리 파일 읽기\n",
    "with open(\"./images/dog.jpg\", \"rb\") as f:\n",
    "    img = f.read()\n",
    "    print(img)\n",
    "\n",
    "# 바이너리 파일 쓰기\n",
    "with open(\"./output/dog_copy.jpg\", \"wb\") as f:\n",
    "    f.write(img)"
   ]
  }
 ],
 "metadata": {
  "kernelspec": {
   "display_name": "Python 3",
   "language": "python",
   "name": "python3"
  },
  "language_info": {
   "codemirror_mode": {
    "name": "ipython",
    "version": 3
   },
   "file_extension": ".py",
   "mimetype": "text/x-python",
   "name": "python",
   "nbconvert_exporter": "python",
   "pygments_lexer": "ipython3",
   "version": "3.13.5"
  }
 },
 "nbformat": 4,
 "nbformat_minor": 5
}
