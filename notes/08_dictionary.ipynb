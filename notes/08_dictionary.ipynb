{
 "cells": [
  {
   "cell_type": "markdown",
   "id": "227e2189",
   "metadata": {},
   "source": [
    "차이점 :리스트는 인덱션 기준으로, 딕셔너리는 키를 기준으로\n",
    "\n",
    "### 08. 딕셔너리\n",
    "- **키-값 쌍**으로 묶어 데이터를 저장하는 자료형\n",
    "- 키는 유일해야함.(불변) 값은 중복 가능\n",
    "- 변경가능한 자료형\n",
    "- 순서가 보장되지 않았다가 → py 3.7버전 이후 순서가 보장됨"
   ]
  },
  {
   "cell_type": "code",
   "execution_count": null,
   "id": "13126b0f",
   "metadata": {},
   "outputs": [
    {
     "name": "stdout",
     "output_type": "stream",
     "text": [
      "{} <class 'dict'>\n",
      "{'name': 'Taehun', 'age': 30} <class 'dict'>\n",
      "{} <class 'dict'>\n",
      "{'title': 'interstellar', 'director': 'christoper nolan'}\n",
      "{'name': 'taehun', 'age': '30', 'job': 'developer'}\n",
      "{'title': '기생충', 'director': '봉준호', 'year': '2019'}\n"
     ]
    }
   ],
   "source": [
    "# dict 만들기\n",
    "d1 = {}\n",
    "print(d1, type(d1))\n",
    "\n",
    "person = {\"name\" : \"Taehun\",\"age\" : 30}\n",
    "print(person, type(person))\n",
    "\n",
    "# dict 함수로 생성\n",
    "d2 = dict() #빈 dict 만들기\n",
    "print(d2, type(d2))\n",
    "\n",
    "# 키가 문자열 일때 가능\n",
    "movie = dict(title=\"interstellar\", director=\"christoper nolan\") #변수에 값을 할당하는 모양으로\n",
    "print(movie)\n",
    "\n",
    "# 리스트나 튜플로 만들기\n",
    "pairs = [(\"name\", \"taehun\"), (\"age\", \"30\"), (\"job\", \"developer\")]\n",
    "person2 = dict(pairs)\n",
    "print(person2)\n",
    "\n",
    "# zip 함수 활용\n",
    "keys = [\"title\", \"director\", \"year\"]\n",
    "values = [\"기생충\", \"봉준호\", \"2019\"]\n",
    "# print(list(zip(keys,values)))  # ➡️인덱스가 같은 것 끼리 묶어줌\n",
    "movie2 = dict(zip(keys, values)) # ➡️dict생성\n",
    "print(movie2)"
   ]
  },
  {
   "cell_type": "code",
   "execution_count": null,
   "id": "23d9aacb",
   "metadata": {},
   "outputs": [
    {
     "ename": "TypeError",
     "evalue": "unhashable type: 'set'",
     "output_type": "error",
     "traceback": [
      "\u001b[31m---------------------------------------------------------------------------\u001b[39m",
      "\u001b[31mTypeError\u001b[39m                                 Traceback (most recent call last)",
      "\u001b[36mCell\u001b[39m\u001b[36m \u001b[39m\u001b[32mIn[15]\u001b[39m\u001b[32m, line 6\u001b[39m\n\u001b[32m      3\u001b[39m d1 = {(\u001b[32m1\u001b[39m,\u001b[32m2\u001b[39m,\u001b[32m3\u001b[39m) : (\u001b[32m1\u001b[39m,\u001b[32m2\u001b[39m,\u001b[32m3\u001b[39m)} \u001b[38;5;66;03m#튜플 사용 가능 (불변 자료형이니깐)\u001b[39;00m\n\u001b[32m      4\u001b[39m d2 = { \u001b[32m1\u001b[39m : \u001b[32m10\u001b[39m}\n\u001b[32m----> \u001b[39m\u001b[32m6\u001b[39m d3 = {{\u001b[32m1\u001b[39m,\u001b[32m2\u001b[39m,\u001b[32m3\u001b[39m} : \u001b[33m\"\u001b[39m\u001b[33m리스트를 키로?\u001b[39m\u001b[33m\"\u001b[39m} \u001b[38;5;66;03m# ➡️ 가변자료형(list, set)은 키로 사용 불가능\u001b[39;00m\n\u001b[32m      7\u001b[39m d3\n",
      "\u001b[31mTypeError\u001b[39m: unhashable type: 'set'"
     ]
    }
   ],
   "source": [
    "# 키로 사용할 수 없는 자료형\n",
    "# 키는 불변자료형을 사용해야함\n",
    "d1 = {(1,2,3) : (1,2,3)} #튜플 사용 가능 (불변 자료형이니깐)\n",
    "d2 = { 1 : 10}\n",
    "\n",
    "\n",
    "d3 = {{1,2,3} : \"리스트를 키로?\"} # ➡️ 가변자료형(list, set)은 키로 사용 불가능\n",
    "d3"
   ]
  },
  {
   "cell_type": "code",
   "execution_count": null,
   "id": "f97871de",
   "metadata": {},
   "outputs": [
    {
     "name": "stdout",
     "output_type": "stream",
     "text": [
      "Taehun\n",
      "30\n",
      "Taehun\n",
      "developer\n",
      "None\n",
      "없음\n",
      "{'name': 'Taehun', 'age': 30, 'job': 'developer'}\n"
     ]
    }
   ],
   "source": [
    "# dict 데이터 조회\n",
    "person = {\"name\" : \"Taehun\", \"age\" : 30, \"job\" : \"developer\"}\n",
    "\n",
    "# 키를 통해 데이터 조회\n",
    "print(person[\"name\"])\n",
    "print(person[\"age\"])\n",
    "#print(person[\"city\"]) # 존재하지 않는 키로 조회 → KeyError\n",
    "\n",
    "# get 메서드를 활용한 조회\n",
    "print(person.get(\"name\"))\n",
    "print(person.get(\"job\"))\n",
    "print(person.get(\"email\")) # default 지정 안 할 시 none 출력\n",
    "print(person.get(\"email\", \"없음\")) # ➡️default 값 지정 가능\n",
    "print(person)\n"
   ]
  },
  {
   "cell_type": "code",
   "execution_count": 10,
   "id": "a39419b6",
   "metadata": {},
   "outputs": [
    {
     "name": "stdout",
     "output_type": "stream",
     "text": [
      "존재하지 않는 데이터입니다.\n"
     ]
    }
   ],
   "source": [
    "# get 사용 예제\n",
    "user_data = {\n",
    "    \"username\" : \"hun_crew\",\n",
    "    \"email\" : \"jk3160@naver.com\",\n",
    "    \"password\" : \"abc123\"\n",
    "}\n",
    "key = input(\"조회할 정보를 입력하세요(username, email, password)\")\n",
    "result = user_data.get(key, \"존재하지 않는 데이터입니다.\")\n",
    "print(result)"
   ]
  },
  {
   "cell_type": "code",
   "execution_count": 28,
   "id": "4dc06684",
   "metadata": {},
   "outputs": [
    {
     "name": "stdout",
     "output_type": "stream",
     "text": [
      "{'username': 'tae_crew', 'email': 'jk3160@naver.com', 'nickname': '예민왕'}\n",
      "{'title': 'Superman', 'director': 'James Gunn', 'year': 2025, 'actor': 'holten', 'rating': '4.0 / 5.0'}\n",
      "{'title': 'Superman', 'director': 'James Gunn', 'year': 2025, 'actor': 'holten', 'rating': '4.0 / 5.0', '제작사': 'DC_스튜디오'}\n",
      "{'title': 'Superman', 'director': 'James Gunn', 'year': 2025, 'rating': '4.0 / 5.0', '제작사': 'DC_스튜디오'}\n",
      "{'title': 'Superman', 'director': 'James Gunn', 'year': 2025, '제작사': 'DC_스튜디오'}///4.0 / 5.0\n",
      "{'title': 'Superman', 'director': 'James Gunn', 'year': 2025}///('제작사', 'DC_스튜디오')\n",
      "{}\n"
     ]
    }
   ],
   "source": [
    "# 데이터 추가 및 수정\n",
    "user_data = {\n",
    "    \"username\" : \"hun_crew\",\n",
    "    \"email\" : \"jk3160@naver.com\"\n",
    "}\n",
    "\n",
    "# 기본적인 추가 방법\n",
    "user_data[\"nickname\"] = \"예민왕\"\n",
    "\n",
    "# 기본적인 수정 방법\n",
    "user_data[\"username\"] = \"tae_crew\"\n",
    "print(user_data)\n",
    "\n",
    "# update 메서드 활용\n",
    "movie_data = {\n",
    "    \"title\" : \"Superman\",\n",
    "    \"director\" : \"James Gunn\"\n",
    "}\n",
    "\n",
    "movie_data.update({\n",
    "    \"year\" : 2025,\n",
    "})\n",
    "\n",
    "# 키가 문자열인 경우\n",
    "movie_data.update(actor=\"nicolas holten\")\n",
    "\n",
    "# 다른 딕셔너리 추가 & 수정\n",
    "extra_data = {\"rating\" : \"4.0 / 5.0\", \"actor\" : \"holten\"}\n",
    "movie_data.update(extra_data)\n",
    "\n",
    "print(movie_data)\n",
    "\n",
    "# setdefault\n",
    "movie_data.setdefault(\"year\", \"알 수 없음\")\n",
    "movie_data.setdefault(\"제작사\", \"DC_스튜디오\")\n",
    "print(movie_data)\n",
    "\n",
    "# 데이터 삭제 (키로삭제)\n",
    "del movie_data[\"actor\"]\n",
    "print(movie_data)\n",
    "\n",
    "# 키로 제거\n",
    "rating = movie_data.pop(\"rating\")\n",
    "print(movie_data, rating, sep=\"///\")\n",
    "\n",
    "# 가장마지막 요소 제거\n",
    "year = movie_data.popitem()\n",
    "print(movie_data, year, sep=\"///\")\n",
    "\n",
    "# dict 비우기\n",
    "movie_data.clear()\n",
    "print(movie_data)\n",
    "\n",
    "# dict 삭제하기\n",
    "del movie_data\n",
    "# print(movie_data) #NameError 발생"
   ]
  },
  {
   "cell_type": "code",
   "execution_count": 27,
   "id": "bfbf906f",
   "metadata": {},
   "outputs": [
    {
     "name": "stdout",
     "output_type": "stream",
     "text": [
      "키 ['username', 'email', 'password']\n",
      "값 ['hun_crew', 'jk3160@naver.com', 'abc123']\n",
      "쌍 [('username', 'hun_crew'), ('email', 'jk3160@naver.com'), ('password', 'abc123')]\n"
     ]
    }
   ],
   "source": [
    "# 딕셔너리 메서드\n",
    "user_data = {\n",
    "    \"username\" : \"hun_crew\",\n",
    "    \"email\" : \"jk3160@naver.com\",\n",
    "    \"password\" : \"abc123\"\n",
    "}\n",
    "\n",
    "# keys 모든 키를 반환\n",
    "print(\"키\", list(user_data.keys())) #리스트로 변환해서 출력\n",
    "\n",
    "# values : 모든 값을 반환\n",
    "print(\"값\", list(user_data.values())) #리스트로 변환해서 출력\n",
    "\n",
    "# items : 모든 키값쌍을 반환\n",
    "print(\"쌍\", list(user_data.items())) #리스트로 변환해서 출력\n"
   ]
  },
  {
   "cell_type": "code",
   "execution_count": null,
   "id": "c4cd8b53",
   "metadata": {},
   "outputs": [
    {
     "name": "stdout",
     "output_type": "stream",
     "text": [
      "sky@example.com\n",
      "미입력\n",
      "{'username': 'skywalker', 'level': 6, 'nickname': 'sky', 'signup_date': '2025-07-10'}\n"
     ]
    }
   ],
   "source": [
    "# 실습1 문제1\n",
    "# 1단계: 빈 딕셔너리 생성 : user라는 이름의 빈 딕셔너리를 생성하세요.\n",
    "user = {}\n",
    "# 2단계: 사용자 기본 정보 추가 \n",
    "user.update({ \"username\": \"skywalker\",\n",
    "    \"email\": \"sky@example.com\",\n",
    "    \"level\": 5\n",
    "})\n",
    "# user[\"username\"] = \"skywalker\"\n",
    "# user[\"email\"] = \"sky@example.com\"\n",
    "# user[\"level\"] = 5\n",
    "\n",
    "# 3단계: 값 읽기 -\"email\" 값을 변수 email_value에 저장하고 출력하세요.\n",
    "email_value = user[\"email\"]\n",
    "print(email_value)\n",
    "\n",
    "# 4단계: 값 수정 -\"level\" 값을 6으로 수정하세요\n",
    "user[\"level\"] = 6\n",
    "\n",
    "# 5단계: 안전하게 키 조회 -딕셔너리에 \"phone\" 키가 없다면 \"미입력\"이라는 문자열을 출력하도록 하세요.\n",
    "phone = user.get(\"phone\", \"미입력\")\n",
    "print(phone)\n",
    "\n",
    "# 6단계: 항목 추가 및 삭제\n",
    "# update()를 사용해 \"nickname\": \"sky\" 항목을 추가하세요.\n",
    "user.update(nickname=\"sky\")\n",
    "# \"email\" 항목을 삭제하세요.\n",
    "# del user[\"email\"]\n",
    "user.pop(\"email\")\n",
    "# \"signup_date\" 키가 없다면 \"2025-07-10\"으로 추가하세요 (setdefault() 사용).\n",
    "user.setdefault(\"signup_date\", \"2025-07-10\")\n",
    "# 최종 user 딕셔너리를 출력하세요.\n",
    "print(user)\n"
   ]
  },
  {
   "cell_type": "code",
   "execution_count": null,
   "id": "a70edbc4",
   "metadata": {},
   "outputs": [
    {
     "name": "stdout",
     "output_type": "stream",
     "text": [
      "{'Alice': 88, 'Charlie': 95, 'David': 80}\n"
     ]
    }
   ],
   "source": [
    "# 실습1 문제2\n",
    "# 1.빈 딕셔너리 students를 생성한다.\n",
    "students = {}\n",
    "# 2. \"Alice\", \"Bob\", \"Charlie\" 세 학생의 점수를 각각 85, 90, 95로 추가한다.\n",
    "students.update(Alice=85, Bob=90, Charlie=95)\n",
    "# students[\"Alice\"] = 85\n",
    "# students[\"Bob\"] = 90\n",
    "# students[\"Charlie\"] = 95\n",
    "# 3. \"David\" 학생의 점수(80)를 추가한다.\n",
    "students[\"David\"] = 80\n",
    "# 4. \"Alice\"의 점수를 88로 수정한다.\n",
    "students[\"Alice\"] = 88\n",
    "# 5. \"Bob\"을 딕셔너리에서 삭제한다.\n",
    "students.pop(\"Bob\")\n",
    "# del students[\"Bob\"]\n",
    "# 6. 최종 students 딕셔너리를 출력한다.\n",
    "print(students)"
   ]
  }
 ],
 "metadata": {
  "kernelspec": {
   "display_name": "python-study",
   "language": "python",
   "name": "python3"
  },
  "language_info": {
   "codemirror_mode": {
    "name": "ipython",
    "version": 3
   },
   "file_extension": ".py",
   "mimetype": "text/x-python",
   "name": "python",
   "nbconvert_exporter": "python",
   "pygments_lexer": "ipython3",
   "version": "3.13.5"
  }
 },
 "nbformat": 4,
 "nbformat_minor": 5
}
