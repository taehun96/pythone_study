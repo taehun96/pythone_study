{
 "cells": [
  {
   "cell_type": "markdown",
   "id": "a8dcd913",
   "metadata": {},
   "source": [
    "### 04. 사용자 입력(input)\n",
    "- input 함수 : 콘솔을 통해 사용자로부터 문자열 형태의 입력을 받는 함수\n",
    "    - input을 통해 받은 입력은 항상 문자열로 입력됨"
   ]
  },
  {
   "cell_type": "code",
   "execution_count": null,
   "id": "a92b64b0",
   "metadata": {},
   "outputs": [
    {
     "name": "stdout",
     "output_type": "stream",
     "text": [
      "300\n"
     ]
    }
   ],
   "source": [
    "# input함수 사용법 \n",
    "# 받은 입력을 변수에 값을 저장해야 됨\n",
    "# my_input = input()\n",
    "\n",
    "# input을 통해 받은 입력 -> 문자열\n",
    "# 숫자로 활용할시 '형변환'을 해줘야 함!!\n",
    "# 정수 계산시 정수형으로 변환\n",
    "b = int(input())\n",
    "a = int(input())\n",
    "\n",
    "print(a + b)"
   ]
  },
  {
   "cell_type": "code",
   "execution_count": 5,
   "id": "0f114aec",
   "metadata": {},
   "outputs": [
    {
     "name": "stdout",
     "output_type": "stream",
     "text": [
      "3.5\n"
     ]
    }
   ],
   "source": [
    "# 실수 계산을 하려면 실수형으로 변환\n",
    "c = float(input())\n",
    "d = float(input())\n",
    "\n",
    "print(c + d)"
   ]
  },
  {
   "cell_type": "code",
   "execution_count": 1,
   "id": "d5e841bc",
   "metadata": {},
   "outputs": [
    {
     "name": "stdout",
     "output_type": "stream",
     "text": [
      "제 이름은 윤태훈입니다.\n"
     ]
    }
   ],
   "source": [
    "# input의 입력에 대한 설명문 추가\n",
    "name = input(\"이름을 입력하세요: \")\n",
    "print(f\"제 이름은 {name}입니다.\")"
   ]
  },
  {
   "cell_type": "code",
   "execution_count": 7,
   "id": "f0284bbf",
   "metadata": {},
   "outputs": [
    {
     "name": "stdout",
     "output_type": "stream",
     "text": [
      "사과\n",
      "바나나\n",
      "포도\n"
     ]
    }
   ],
   "source": [
    "# 여러 자료 입력하기\n",
    "# 문자열을 쪼개주는 함수 : split\n",
    "# split은 구분자를 기준으로 문자열을 쪼개서 리스트를 반환함\n",
    "# 구분자의 기본값은 공백 = 공백을 기준으로 쪼개짐\n",
    "\n",
    "# 과일 = \"수박 사과 참외\". split()\n",
    "# print(과일)\n",
    "\n",
    "# 과일1, 과일2, 과일3 = \"수박 사과 참외\".split()\n",
    "# print(과일1)\n",
    "# print(과일2)\n",
    "# print(과일3)\n",
    "\n",
    "# 쪼갠결과 = \"코딩은-즐거워 하하하\". split(\"-\")\n",
    "# print(쪼갠결과)\n",
    "\n",
    "# input에 적용\n",
    "과일1, 과일2, 과일3 = input().split()\n",
    "\n",
    "print(과일1)\n",
    "print(과일2)\n",
    "print(과일3)"
   ]
  },
  {
   "cell_type": "code",
   "execution_count": 8,
   "id": "257101f8",
   "metadata": {},
   "outputs": [
    {
     "name": "stdout",
     "output_type": "stream",
     "text": [
      "안녕하세요. 저는 윤태훈이고, 30살입니다.\n"
     ]
    }
   ],
   "source": [
    "# 실습 3\n",
    "이름 = input(\"이름을 입력하세요 : \")\n",
    "나이 = input(\"나이를 입력하세요 : \")\n",
    "\n",
    "print(f\"안녕하세요. 저는 {이름}이고, {나이}살입니다.\")"
   ]
  },
  {
   "cell_type": "code",
   "execution_count": 10,
   "id": "8d2612be",
   "metadata": {},
   "outputs": [
    {
     "name": "stdout",
     "output_type": "stream",
     "text": [
      "넓이 : 1800\n",
      "둘레 : 180\n"
     ]
    }
   ],
   "source": [
    "# 실습 4-1\n",
    "가로 = int(input(\"가로를 입력하세요 : \"))\n",
    "세로 = int(input(\"세로를 입력하세요 : \"))\n",
    "\n",
    "넓이 = 가로 * 세로\n",
    "둘레 = 2*(가로 + 세로)\n",
    "\n",
    "print(f\"\"\"넓이 : {넓이}\n",
    "둘레 : {둘레}\"\"\")"
   ]
  },
  {
   "cell_type": "code",
   "execution_count": 13,
   "id": "58cbd7c9",
   "metadata": {},
   "outputs": [
    {
     "name": "stdout",
     "output_type": "stream",
     "text": [
      "천의 자리 : 5\n",
      "백의 자리 : 0\n",
      "십의 자리 : 0\n",
      "일의 자리 : 0\n"
     ]
    }
   ],
   "source": [
    "# 실습 4-2 네 자릿수 정수를 입력받고, 각 자릿수를 분리하여 출력\n",
    "number = int(input(\"네 자릿수 정수를 입력하세요 : \"))\n",
    "천의자리 = number // 1000\n",
    "백의자리 = (number % 1000) // 100\n",
    "십의자리 = (number % 100) // 10\n",
    "일의자리 = number % 10\n",
    "\n",
    "print(f\"\"\"천의 자리 : {천의자리}\n",
    "백의 자리 : {백의자리}\n",
    "십의 자리 : {십의자리}\n",
    "일의 자리 : {일의자리}\"\"\")"
   ]
  },
  {
   "cell_type": "code",
   "execution_count": 18,
   "id": "6391ec9f",
   "metadata": {},
   "outputs": [
    {
     "name": "stdout",
     "output_type": "stream",
     "text": [
      "📢 발표 순서 안내입니다.\n",
      "\n",
      "1조 발표자 : 철수 주제 : 신재생 에너지 현황\n",
      "2조 발표자 : 영희 주제 :  신재생 에너지 전망\n",
      "3조 발표자 : 민수 주제 :  신재생 에너지 직군\n"
     ]
    }
   ],
   "source": [
    "# 실습 5\n",
    "이름1, 이름2, 이름3 = input(\"발표자 이름 3명을 입력하세요 : \").split()\n",
    "주제1, 주제2, 주제3 = input(\"발표 주제 3개를 입력하세요 : \").split(\",\")\n",
    "\n",
    "print(f\"\"\"📢 발표 순서 안내입니다.\n",
    "\n",
    "1조 발표자 : {이름1} 주제 : {주제1}\n",
    "2조 발표자 : {이름2} 주제 : {주제2}\n",
    "3조 발표자 : {이름3} 주제 : {주제3}\"\"\")"
   ]
  },
  {
   "cell_type": "code",
   "execution_count": 16,
   "id": "45f39d3e",
   "metadata": {},
   "outputs": [
    {
     "name": "stdout",
     "output_type": "stream",
     "text": [
      "RE3의 개강일은 2025년 07월 14일\n",
      "시작 시간은 10시 35분 13초입니다.\n"
     ]
    }
   ],
   "source": [
    "# 실습6\n",
    "year, month, day = input(\"년, 월, 일을 입력해주세요. '.'으로 구분해주세요 : \").split(\".\")\n",
    "time, min, sec = input(\"시, 분, 초를 입력해주세요 ':'으로 구분해주세요 : \").split(\":\") \n",
    "# ALT 누르고 방향키 누르면 라인 변경 됨\n",
    "\n",
    "print(f\"\"\"RE3의 개강일은 {year}년 {month}월 {day}일\n",
    "시작 시간은 {time}시 {min}분 {sec}초입니다.\"\"\")"
   ]
  }
 ],
 "metadata": {
  "kernelspec": {
   "display_name": "python-study",
   "language": "python",
   "name": "python3"
  },
  "language_info": {
   "codemirror_mode": {
    "name": "ipython",
    "version": 3
   },
   "file_extension": ".py",
   "mimetype": "text/x-python",
   "name": "python",
   "nbconvert_exporter": "python",
   "pygments_lexer": "ipython3",
   "version": "3.13.5"
  }
 },
 "nbformat": 4,
 "nbformat_minor": 5
}
