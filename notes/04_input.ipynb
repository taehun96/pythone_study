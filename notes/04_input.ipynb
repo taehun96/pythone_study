{
 "cells": [
  {
   "cell_type": "markdown",
   "id": "a8dcd913",
   "metadata": {},
   "source": [
    "### 04. 사용자 입력(input)\n",
    "- input 함수 : 콘솔을 통해 사용자로부터 문자열 형태의 입력을 받는 함수\n",
    "    - input을 통해 받은 입력은 항상 문자열로 입력됨"
   ]
  },
  {
   "cell_type": "code",
   "execution_count": null,
   "id": "a92b64b0",
   "metadata": {},
   "outputs": [
    {
     "name": "stdout",
     "output_type": "stream",
     "text": [
      "300\n"
     ]
    }
   ],
   "source": [
    "# input함수 사용법 \n",
    "# 받은 입력을 변수에 값을 저장해야 됨\n",
    "# my_input = input()\n",
    "\n",
    "# input을 통해 받은 입력 -> 문자열\n",
    "# 숫자로 활용할시 '형변환'을 해줘야 함!!\n",
    "# 정수 계산시 정수형으로 변환\n",
    "b = int(input())\n",
    "a = int(input())\n",
    "\n",
    "print(a + b)"
   ]
  },
  {
   "cell_type": "code",
   "execution_count": 5,
   "id": "0f114aec",
   "metadata": {},
   "outputs": [
    {
     "name": "stdout",
     "output_type": "stream",
     "text": [
      "3.5\n"
     ]
    }
   ],
   "source": [
    "# 실수 계산을 하려면 실수형으로 변환\n",
    "c = float(input())\n",
    "d = float(input())\n",
    "\n",
    "print(c + d)"
   ]
  },
  {
   "cell_type": "code",
   "execution_count": 1,
   "id": "d5e841bc",
   "metadata": {},
   "outputs": [
    {
     "name": "stdout",
     "output_type": "stream",
     "text": [
      "제 이름은 윤태훈입니다.\n"
     ]
    }
   ],
   "source": [
    "# input의 입력에 대한 설명문 추가\n",
    "name = input(\"이름을 입력하세요: \")\n",
    "print(f\"제 이름은 {name}입니다.\")"
   ]
  },
  {
   "cell_type": "code",
   "execution_count": null,
   "id": "f0284bbf",
   "metadata": {},
   "outputs": [
    {
     "name": "stdout",
     "output_type": "stream",
     "text": [
      "사과\n",
      "바나나\n",
      "포도\n"
     ]
    }
   ],
   "source": [
    "# 여러 자료 입력하기\n",
    "# 문자열을 쪼개주는 함수 : split\n",
    "# split은 구분자를 기준으로 문자열을 쪼개서 리스트를 반환함\n",
    "# 구분자의 기본값은 공백 = 공백을 기준으로 쪼개짐\n",
    "\n",
    "# 과일 = \"수박 사과 참외\". split()\n",
    "# print(과일)\n",
    "\n",
    "# 과일1, 과일2, 과일3 = \"수박 사과 참외\".split()\n",
    "# print(과일1)\n",
    "# print(과일2)\n",
    "# print(과일3)\n",
    "\n",
    "# 쪼갠결과 = \"코딩은-즐거워 하하하\". split(\"-\")\n",
    "# print(쪼갠결과)\n",
    "\n",
    "# input에 적용\n",
    "과일1, 과일2, 과일3 = input().split()\n",
    "\n",
    "print(과일1)\n",
    "print(과일2)\n",
    "print(과일3)"
   ]
  }
 ],
 "metadata": {
  "kernelspec": {
   "display_name": "python-study",
   "language": "python",
   "name": "python3"
  },
  "language_info": {
   "codemirror_mode": {
    "name": "ipython",
    "version": 3
   },
   "file_extension": ".py",
   "mimetype": "text/x-python",
   "name": "python",
   "nbconvert_exporter": "python",
   "pygments_lexer": "ipython3",
   "version": "3.13.5"
  }
 },
 "nbformat": 4,
 "nbformat_minor": 5
}
