{
 "cells": [
  {
   "cell_type": "markdown",
   "id": "da1f0b32",
   "metadata": {},
   "source": [
    "### 13. 클래스(Class)\n",
    "- 데이터와 기능을 하나로 묶는 구조\n",
    "- 개념적(기능적)으로 유사한 관계에 있는 것들을 묶어줌"
   ]
  },
  {
   "cell_type": "code",
   "execution_count": null,
   "id": "6f2fcb89",
   "metadata": {},
   "outputs": [
    {
     "name": "stdout",
     "output_type": "stream",
     "text": [
      "이 인스턴스 이름은 내 인스턴스입니다.\n",
      "이 인스턴스 이름은 다른 인스턴스입니다.\n"
     ]
    }
   ],
   "source": [
    "# 클래스 기본 문법(파스칼 케이스 씀)\n",
    "# 클래스의 정의\n",
    "class ClassName:\n",
    "    # 생성자(Constructor) : 인스턴스가 생성될 때 호출\n",
    "    # 인스턴스 변수를 초기화, 기본 상태 설정\n",
    "    # 하나의 클래스에서 하나만 정의 가능\n",
    "    def __init__(self, name):\n",
    "        # 인스턴스 변수\n",
    "        # self : ‼️인스턴스 자기 자신을 가리킴‼️\n",
    "        self.name = name\n",
    "        self.age = 0\n",
    "\n",
    "# (인스턴스) 메서드\n",
    "    def method_name(self):\n",
    "        print(f\"이 인스턴스 이름은 {self.name}입니다.\")    # 각각의 이름 호출\n",
    "\n",
    "# 인스턴스의 생성\n",
    "my_instance = ClassName(\"내 인스턴스\")\n",
    "my_instance.name\n",
    "my_instance.method_name()\n",
    "\n",
    "another_instance = ClassName(\"다른 인스턴스\")\n",
    "another_instance.method_name()\n",
    "\n"
   ]
  },
  {
   "cell_type": "code",
   "execution_count": 10,
   "id": "2cd073f9",
   "metadata": {},
   "outputs": [
    {
     "name": "stdout",
     "output_type": "stream",
     "text": [
      "안녕하세요. 저는 taehun입니다. 나이는 30입니다.\n",
      "사는 곳은 대구이구요. 취미는 책읽기입니다.\n",
      "나이를 한 살 더 먹었습니다. 현재 나이 : 31\n",
      "안녕하세요. 저는 taehun입니다. 나이는 31입니다.\n",
      "사는 곳은 대구이구요. 취미는 책읽기입니다.\n",
      "\n",
      "안녕하세요. 저는 codingowl입니다. 나이는 15입니다.\n",
      "사는 곳은 구산이구요. 취미는 공부입니다.\n",
      "나이를 한 살 더 먹었습니다. 현재 나이 : 16\n",
      "안녕하세요. 저는 codingowl입니다. 나이는 16입니다.\n",
      "사는 곳은 구산이구요. 취미는 공부입니다.\n",
      "\n"
     ]
    }
   ],
   "source": [
    "class Person:\n",
    "    def __init__(self, name, age, address, hobby):\n",
    "        self.name = name\n",
    "        self.age = age\n",
    "        self.address = address\n",
    "        self.hobby = hobby\n",
    "\n",
    "    def introduce(self):\n",
    "        print(f\"안녕하세요. 저는 {self.name}입니다. 나이는 {self.age}입니다.\")\n",
    "        print(f\"사는 곳은 {self.address}이구요. 취미는 {self.hobby}입니다.\")\n",
    "\n",
    "    def add_age(self):\n",
    "        self.age += 1\n",
    "        print(f\"나이를 한 살 더 먹었습니다. 현재 나이 : {self.age}\")\n",
    "\n",
    "p1 = Person(\"taehun\", 30, \"대구\", \"책읽기\")\n",
    "p1.introduce()\n",
    "p1.add_age()\n",
    "p1.introduce()\n",
    "print()\n",
    "\n",
    "p2 = Person(\"codingowl\", 15, \"구산\", \"공부\")\n",
    "p2.introduce()\n",
    "p2.add_age()\n",
    "p2.introduce()\n",
    "print()\n"
   ]
  },
  {
   "cell_type": "code",
   "execution_count": null,
   "id": "5f8a3417",
   "metadata": {},
   "outputs": [
    {
     "name": "stdout",
     "output_type": "stream",
     "text": [
      "Python\n",
      "codingon\n",
      "현재 읽은 분량(%) 17.0% 읽음\n",
      "책을 끝까지 다 읽었어요.\n",
      "현재 읽은 분량(%) 100.0% 읽음\n"
     ]
    }
   ],
   "source": [
    "# 문제1. 책 클래스 만들기\n",
    "# Book 클래스를 정의하세요.\n",
    "class Book:\n",
    "    # 인스턴스 변수로 title, author, total_pages, current_page를 가집니다.\n",
    "    def __init__(self, title, author, total_pages, current_page):\n",
    "        self.title = title\n",
    "        self.author = author\n",
    "        self.total_pages =total_pages \n",
    "        self.current_page = current_page\n",
    "    \n",
    "    # read_page(pages): 현재 페이지를 읽음. 총 페이지 수를 넘지 않도록 처리.\n",
    "    def read_page(self, pages):\n",
    "        self.current_page += pages\n",
    "        if self.current_page > self.total_pages:\n",
    "            self.current_page = self.total_pages\n",
    "            print(\"책을 끝까지 다 읽었어요.\")\n",
    "\n",
    "    # progress(): 전체에서 얼마나 읽었는지를 퍼센트(%)로 소수점 1자리까지 출력\n",
    "    def progress(self):\n",
    "        percent = (self.current_page / self.total_pages) * 100\n",
    "        print(f\"현재 읽은 분량(%) : {self.current_page}/{self.total_pages} ({percent:.1f}%)\")\n",
    "\n",
    "    my_book = Book(\"Python\", \"codingon\", 300, 1)\n",
    "    print(my_book.title)\n",
    "    print(my_book.author)\n",
    "    my_book.read_page(50)\n",
    "    my_book.progress()\n",
    "    my_book.read_page(300)\n",
    "    my_book.progress()"
   ]
  },
  {
   "cell_type": "code",
   "execution_count": 37,
   "id": "a7d8f481",
   "metadata": {},
   "outputs": [
    {
     "name": "stdout",
     "output_type": "stream",
     "text": [
      "사각형 넓이는 200입니다\n"
     ]
    }
   ],
   "source": [
    "# 문제2. Rectangle클래스 구현\n",
    "# 다음 조건에 맞는 Rectangle 클래스를 작성해 보세요.\n",
    "class Rectangle:\n",
    "# 인스턴스 변수: width, height\n",
    "    def __init__(self, width, height):\n",
    "        self.width = width\n",
    "        self.height = height\n",
    "\n",
    "    # area() : 사각형의 넓이 반환\n",
    "    def area(self):\n",
    "        return self.width * self.height\n",
    "# 사용자 입력:\n",
    "w = int(input(\"가로 값을 입력하세요 : \"))\n",
    "h = int(input(\"세로 값을 입력하세요 : \"))\n",
    "\n",
    "my_rect = Rectangle(w,h)\n",
    "print(f\"사각형 넓이는 {my_rect.area()}입니다\")"
   ]
  },
  {
   "cell_type": "code",
   "execution_count": null,
   "id": "ac3ce297",
   "metadata": {},
   "outputs": [
    {
     "name": "stdout",
     "output_type": "stream",
     "text": [
      "인1 강아지\n",
      "인2 강아지\n",
      "클래스 강아지\n"
     ]
    }
   ],
   "source": [
    "# 클래스 변수\n",
    "# 클래스가 가지고 있는 변수\n",
    "# 모든 인스턴스가 공유할 수 있음\n",
    "\n",
    "class Dog:\n",
    "    # 클래스 변수\n",
    "    kind = \"강아지\"\n",
    "\n",
    "    def __init__(self, species, name, age):\n",
    "        self.species = species\n",
    "        self.name = name\n",
    "        self.age = age\n",
    "\n",
    "dog1 = Dog(\"포메라니안\", \"리치\", 12)\n",
    "dog2 = Dog(\"비숑\", \"구름\", 10)\n",
    "\n",
    "print(\"인1\",dog1.kind)\n",
    "print(\"인2\",dog2.kind)\n",
    "print(\"클래스\",Dog.kind)"
   ]
  }
 ],
 "metadata": {
  "kernelspec": {
   "display_name": "python-study",
   "language": "python",
   "name": "python3"
  },
  "language_info": {
   "codemirror_mode": {
    "name": "ipython",
    "version": 3
   },
   "file_extension": ".py",
   "mimetype": "text/x-python",
   "name": "python",
   "nbconvert_exporter": "python",
   "pygments_lexer": "ipython3",
   "version": "3.13.5"
  }
 },
 "nbformat": 4,
 "nbformat_minor": 5
}
