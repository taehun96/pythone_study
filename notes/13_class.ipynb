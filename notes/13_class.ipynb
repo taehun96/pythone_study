{
 "cells": [
  {
   "cell_type": "markdown",
   "id": "da1f0b32",
   "metadata": {},
   "source": [
    "### 13. 클래스(Class)\n",
    "- 데이터와 기능을 하나로 묶는 구조\n",
    "- 개념적(기능적)으로 유사한 관계에 있는 것들을 묶어줌"
   ]
  },
  {
   "cell_type": "code",
   "execution_count": null,
   "id": "6f2fcb89",
   "metadata": {},
   "outputs": [],
   "source": [
    "# 클래스 기본 문법(파스칼 케이스 씀)    # if 클래스: 설계도,붕어빵 틀, 인스턴스: 세부내용, 붕어빵\n",
    "# 클래스의 정의\n",
    "class ClassName:\n",
    "    # 생성자(Constructor) : 인스턴스가 생성될 때 호출\n",
    "    # 인스턴스 변수를 초기화, 기본 상태 설정\n",
    "    # 하나의 클래스에서 하나만 정의 가능\n",
    "    def __init__(self, name):\n",
    "        # 인스턴스 변수\n",
    "        # self : ‼️인스턴스 자기 자신을 가리킴‼️\n",
    "        self.name = name\n",
    "        self.age = 0\n",
    "\n",
    "# (인스턴스) 메서드\n",
    "    def method_name(self):\n",
    "        print(f\"이 인스턴스 이름은 {self.name}입니다.\")    # 각각의 이름 호출\n",
    "\n",
    "# 인스턴스의 생성\n",
    "my_instance = ClassName(\"내 인스턴스\")\n",
    "my_instance.name\n",
    "my_instance.method_name()\n",
    "\n",
    "another_instance = ClassName(\"다른 인스턴스\")\n",
    "another_instance.method_name()\n",
    "\n"
   ]
  },
  {
   "cell_type": "code",
   "execution_count": null,
   "id": "2cd073f9",
   "metadata": {},
   "outputs": [],
   "source": [
    "class Person:\n",
    "    def __init__(self, name, age, address, hobby):\n",
    "        self.name = name\n",
    "        self.age = age\n",
    "        self.address = address\n",
    "        self.hobby = hobby\n",
    "\n",
    "    def introduce(self):\n",
    "        print(f\"안녕하세요. 저는 {self.name}입니다. 나이는 {self.age}입니다.\")\n",
    "        print(f\"사는 곳은 {self.address}이구요. 취미는 {self.hobby}입니다.\")\n",
    "\n",
    "    def add_age(self):\n",
    "        self.age += 1\n",
    "        print(f\"나이를 한 살 더 먹었습니다. 현재 나이 : {self.age}\")\n",
    "\n",
    "p1 = Person(\"taehun\", 30, \"대구\", \"책읽기\")\n",
    "p1.introduce()\n",
    "p1.add_age()\n",
    "p1.introduce()\n",
    "print()\n",
    "\n",
    "p2 = Person(\"codingowl\", 15, \"구산\", \"공부\")\n",
    "p2.introduce()\n",
    "p2.add_age()\n",
    "p2.introduce()\n",
    "print()\n"
   ]
  },
  {
   "cell_type": "code",
   "execution_count": null,
   "id": "5f8a3417",
   "metadata": {},
   "outputs": [],
   "source": [
    "# 문제1. 책 클래스 만들기\n",
    "# Book 클래스를 정의하세요.\n",
    "class Book:\n",
    "    # 인스턴스 변수로 title, author, total_pages, current_page를 가집니다.\n",
    "    def __init__(self, title, author, total_pages, current_page):\n",
    "        self.title = title\n",
    "        self.author = author\n",
    "        self.total_pages =total_pages \n",
    "        self.current_page = current_page\n",
    "    \n",
    "    # read_page(pages): 현재 페이지를 읽음. 총 페이지 수를 넘지 않도록 처리.\n",
    "    def read_page(self, pages):\n",
    "        self.current_page += pages\n",
    "        if self.current_page > self.total_pages:\n",
    "            self.current_page = self.total_pages\n",
    "            print(\"책을 끝까지 다 읽었어요.\")\n",
    "\n",
    "    # progress(): 전체에서 얼마나 읽었는지를 퍼센트(%)로 소수점 1자리까지 출력\n",
    "    def progress(self):\n",
    "        percent = (self.current_page / self.total_pages) * 100\n",
    "        print(f\"현재 읽은 분량(%) : {self.current_page}/{self.total_pages} ({percent:.1f}%)\")\n",
    "\n",
    "    my_book = Book(\"Python\", \"codingon\", 300, 1)\n",
    "    print(my_book.title)\n",
    "    print(my_book.author)\n",
    "    my_book.read_page(50)\n",
    "    my_book.progress()\n",
    "    my_book.read_page(300)\n",
    "    my_book.progress()"
   ]
  },
  {
   "cell_type": "code",
   "execution_count": null,
   "id": "a7d8f481",
   "metadata": {},
   "outputs": [],
   "source": [
    "# 문제2. Rectangle클래스 구현\n",
    "# 다음 조건에 맞는 Rectangle 클래스를 작성해 보세요.\n",
    "class Rectangle:\n",
    "# 인스턴스 변수: width, height\n",
    "    def __init__(self, width, height):\n",
    "        self.width = width\n",
    "        self.height = height\n",
    "\n",
    "    # area() : 사각형의 넓이 반환\n",
    "    def area(self):\n",
    "        return self.width * self.height\n",
    "# 사용자 입력:\n",
    "w = int(input(\"가로 값을 입력하세요 : \"))\n",
    "h = int(input(\"세로 값을 입력하세요 : \"))\n",
    "\n",
    "my_rect = Rectangle(w,h)\n",
    "print(f\"사각형 넓이는 {my_rect.area()}입니다\")"
   ]
  },
  {
   "cell_type": "code",
   "execution_count": null,
   "id": "ac3ce297",
   "metadata": {},
   "outputs": [],
   "source": [
    "# 클래스 변수\n",
    "# 클래스가 가지고 있는 변수\n",
    "# 모든 인스턴스가 공유할 수 있음\n",
    "\n",
    "class Dog:\n",
    "    # 클래스 변수\n",
    "    kind = \"강아지\"\n",
    "\n",
    "    def __init__(self, species, name, age):\n",
    "        self.species = species\n",
    "        self.name = name\n",
    "        self.age = age\n",
    "\n",
    "dog1 = Dog(\"포메라니안\", \"리치\", 12)\n",
    "dog2 = Dog(\"비숑\", \"구름\", 10)\n",
    "\n",
    "print(\"인1\",dog1.kind)\n",
    "print(\"인2\",dog2.kind)\n",
    "print(\"클래스\",Dog.kind)"
   ]
  },
  {
   "cell_type": "code",
   "execution_count": null,
   "id": "33f7fc4f",
   "metadata": {},
   "outputs": [],
   "source": [
    "# 클래스 메서드\n",
    "# 클래스 자체를 대상으로 동작하는 메서드\n",
    "# 클래스의 데이터를 조작하는데 사용\n",
    "\n",
    "class Book:\n",
    "    book_count = 0\n",
    "\n",
    "    def __init__(self, title, author):\n",
    "        Book.book_count += 1\n",
    "        self.title = title\n",
    "        self.author = author\n",
    "\n",
    "    @classmethod    # 데코레이터, 클래스메서드는 클래스를 받음\n",
    "    def get_count(cls):\n",
    "        print(f\"현재 {cls.book_count}권의 책을 가지고 계십니다\")\n",
    "\n",
    "\n",
    "book1 = Book(\"넥서스\", \"유발 하라리\")\n",
    "print(Book.book_count)          # 호출될때마다 카운트가 올라감\n",
    "book2 = Book(\"맹자\", \"맹자\")\n",
    "print(Book.book_count)          # 호출될때마다 카운트가 올라감\n",
    "Book.get_count()"
   ]
  },
  {
   "cell_type": "code",
   "execution_count": null,
   "id": "93119c4e",
   "metadata": {},
   "outputs": [],
   "source": [
    "# 정적 메서드\n",
    "# 클래스나 인스턴스의 데이터를 조작하지 않는 클래스 함수\n",
    "# 클래스나 인스턴스의 상태에 의존하지 않는 일반 함수\n",
    "# 개념적으로는 클래스와 연관이 있으나, 클래스나 인스턴스의 데이터를 조작하지 않는 함수를 정의\n",
    "# (OperationTool과 add는 연관되어 있음 but, 값은 그냥 출력됨)\n",
    "# 조작하는 대상이 없음\n",
    "\n",
    "class OperationTool:\n",
    "    @staticmethod # 데코레이터\n",
    "    def add(a, b):\n",
    "        return a + b\n",
    "\n",
    "OperationTool.add(10,20)"
   ]
  },
  {
   "cell_type": "code",
   "execution_count": null,
   "id": "e269604c",
   "metadata": {},
   "outputs": [],
   "source": [
    "# 실습2. User 클래스 구현\n",
    "\n",
    "# 클래스 변수\n",
    "class User:\n",
    "    total_users = 0\n",
    "\n",
    "    def __init__(self, username, points):\n",
    "        self.username = username\n",
    "        self.points = points \n",
    "        User.total_users += 1\n",
    "\n",
    "    # 포인트 추가 메서드\n",
    "    def add_points(self, amount):\n",
    "        self.points += amount\n",
    "\n",
    "    # 레벨 반환 메서드\n",
    "    def get_level(self):\n",
    "        if self.points >= 500:\n",
    "            return \"Gold\"\n",
    "        elif self.points >= 100:\n",
    "            return \"Silver\"\n",
    "        else:\n",
    "            return \"Bronze\"\n",
    "\n",
    "    # 클래스 메서드\n",
    "    @classmethod\n",
    "    def get_total_users(cls):\n",
    "        print(f\"총 유저 수: {cls.total_users}\")\n",
    "\n",
    "\n",
    "# 객체 생성 및 테스트\n",
    "user1 = User(\"coding\",250)\n",
    "# user1.username = \"태훈\"   ➡️ 아무렇게 접근하여 조작이 가능하므로 보안성이 떨어짐\n",
    "# print(user1.username)     ➡️ 적절하게 데이터를 보호하는게 중요\n",
    "user2 = User(\"Co\",77)\n",
    "user3 = User(\"taehun\",650)\n",
    "\n",
    "User.get_total_users()\n",
    "print(f\"유저이름 : {user1.username}, 유저 등급 : {user1.get_level()}\")\n",
    "print(f\"유저이름 : {user2.username}, 유저 등급 : {user2.get_level()}\")\n",
    "print(f\"유저이름 : {user3.username}, 유저 등급 : {user3.get_level()}\")\n"
   ]
  },
  {
   "cell_type": "code",
   "execution_count": 5,
   "id": "21bafdc3",
   "metadata": {},
   "outputs": [
    {
     "name": "stdout",
     "output_type": "stream",
     "text": [
      "유효하지 않는 나이입니다.\n"
     ]
    },
    {
     "data": {
      "text/plain": [
       "30"
      ]
     },
     "execution_count": 5,
     "metadata": {},
     "output_type": "execute_result"
    }
   ],
   "source": [
    "# 접근 제어와 정보 은닉\n",
    "# 데이터 무결성을 보호하기 위함(= 데이터를 조작하는 과정에서 결함이 발생하면 안된다)\n",
    "# 코드 안정성을 향상 시키기 위함\n",
    "# 정해진 경로를 통해서 들어와야 무결성을 보호함으로 getter와 setter 방법으로 읽거나 변경\n",
    "# getter와 setter\n",
    "class Person:\n",
    "    def __init__(self, name, age):\n",
    "        # public\n",
    "        self.name = name\n",
    "        # private : 언더바(__) 두개를 변수 앞에 붙여서 정의\n",
    "        self.__age = age\n",
    "\n",
    "    # getter : 객체 내부의 속성을 읽을 수 있도록 외부에 제공\n",
    "    def get_age(self):\n",
    "        return self.__age\n",
    "\n",
    "    # setter : 객체의 내부 속성 값을 변경할 수 있도록 외부에 제공\n",
    "    def add_age(self, value):\n",
    "        if value > 120 or value < 0:\n",
    "            print(\"유효하지 않는 나이입니다.\")\n",
    "        else:\n",
    "            self.__age += 1\n",
    "\n",
    "p1 = Person(\"taehun\", 30)\n",
    "p1.name = \"바보\"\n",
    "p1.name\n",
    "\n",
    "p1.add_age(130)\n",
    "\n",
    "# 외부에서 private 요소에 접근시도 → 접근할 수 없음\n",
    "# p1.__age\n",
    "p1._Person__age #권장되지x\n",
    "\n",
    "# p1.get_age()\n",
    "# p1.add_age()\n",
    "# p1.get_age()"
   ]
  },
  {
   "cell_type": "code",
   "execution_count": 12,
   "id": "43550b7f",
   "metadata": {},
   "outputs": [
    {
     "name": "stdout",
     "output_type": "stream",
     "text": [
      "유효하지 않은 값입니다.\n"
     ]
    },
    {
     "data": {
      "text/plain": [
       "100"
      ]
     },
     "execution_count": 12,
     "metadata": {},
     "output_type": "execute_result"
    }
   ],
   "source": [
    "# @property 데코레이터\n",
    "# 메서드를 속성처럼 보이게 만들어주는 데코레이터\n",
    "\n",
    "# 기본 문법\n",
    "class ClassName:\n",
    "    def __init__(self):\n",
    "        self.__value = 0\n",
    "\n",
    "    # getter\n",
    "    @property\n",
    "    def value(self):\n",
    "        return self.__value\n",
    "    \n",
    "    # setter\n",
    "    @value.setter\n",
    "    def value(self, val):\n",
    "        if val < 0:\n",
    "            print(\"유효하지 않은 값입니다.\")\n",
    "        else:\n",
    "            self.__value = val\n",
    "\n",
    "c1 = ClassName()\n",
    "c1.value\n",
    "c1.value = 100\n",
    "c1.value\n",
    "c1.value = -100\n",
    "c1.value"
   ]
  },
  {
   "cell_type": "code",
   "execution_count": 28,
   "id": "33b8947b",
   "metadata": {},
   "outputs": [
    {
     "name": "stdout",
     "output_type": "stream",
     "text": [
      "taehun\n",
      "True\n",
      "비밀번호 불일치합니다.\n",
      "비밀번호가 변경되었어요.\n",
      "True\n"
     ]
    }
   ],
   "source": [
    "# 실습3 문제1 UserAccount 클래스 : 비밀번호 보호\n",
    "\n",
    "class UserAccount:\n",
    "    def __init__(self, username, password):\n",
    "        self.username = username\n",
    "        self.__password = password\n",
    "    \n",
    "    def change_password(self, old_pw, new_pw):\n",
    "        if self.__password == old_pw:\n",
    "            self.__password = new_pw\n",
    "            print(\"비밀번호가 변경되었어요.\")\n",
    "        else:\n",
    "            print(\"비밀번호 불일치합니다.\")\n",
    "    \n",
    "    def check_password(self, password):\n",
    "        if self.__password == password:\n",
    "            return True\n",
    "        else:\n",
    "            return False\n",
    "\n",
    "user1 = UserAccount(\"taehun\", \"abc456789\")\n",
    "print(user1.username)\n",
    "print(user1.check_password(\"abc456789\"))\n",
    "user1.change_password(3,56784)\n",
    "user1.change_password(\"abc456789\", \"qwer123456\")\n",
    "print(user1.check_password(\"qwer123456\"))\n",
    "\n"
   ]
  },
  {
   "cell_type": "code",
   "execution_count": 38,
   "id": "505cb821",
   "metadata": {},
   "outputs": [
    {
     "ename": "ValueError",
     "evalue": "점수는 0이상 100이하만 허용",
     "output_type": "error",
     "traceback": [
      "\u001b[31m---------------------------------------------------------------------------\u001b[39m",
      "\u001b[31mValueError\u001b[39m                                Traceback (most recent call last)",
      "\u001b[36mCell\u001b[39m\u001b[36m \u001b[39m\u001b[32mIn[38]\u001b[39m\u001b[32m, line 25\u001b[39m\n\u001b[32m     22\u001b[39m s.score = \u001b[32m50\u001b[39m\n\u001b[32m     23\u001b[39m s.score\n\u001b[32m---> \u001b[39m\u001b[32m25\u001b[39m \u001b[43ms\u001b[49m\u001b[43m.\u001b[49m\u001b[43mscore\u001b[49m = \u001b[32m200\u001b[39m\n\u001b[32m     26\u001b[39m s.score\n",
      "\u001b[36mCell\u001b[39m\u001b[36m \u001b[39m\u001b[32mIn[38]\u001b[39m\u001b[32m, line 17\u001b[39m, in \u001b[36mStudent.score\u001b[39m\u001b[34m(self, value)\u001b[39m\n\u001b[32m     15\u001b[39m     \u001b[38;5;28mself\u001b[39m.__score = value\n\u001b[32m     16\u001b[39m \u001b[38;5;28;01melse\u001b[39;00m:\n\u001b[32m---> \u001b[39m\u001b[32m17\u001b[39m     \u001b[38;5;28;01mraise\u001b[39;00m \u001b[38;5;167;01mValueError\u001b[39;00m(\u001b[33m\"\u001b[39m\u001b[33m점수는 0이상 100이하만 허용\u001b[39m\u001b[33m\"\u001b[39m)\n",
      "\u001b[31mValueError\u001b[39m: 점수는 0이상 100이하만 허용"
     ]
    }
   ],
   "source": [
    "# 실습3 문제2 Student 클래스 : 성적 검증\n",
    "\n",
    "class Student:\n",
    "    def __init__(self, name, score):\n",
    "        self.name = name\n",
    "        self.__score = score\n",
    "\n",
    "    @property # getter\n",
    "    def score(self):\n",
    "        return self.__score\n",
    "    \n",
    "    @score.setter # setter\n",
    "    def score(self, value): # 성적 업데이트\n",
    "        if 0 <= value <= 100:\n",
    "            self.__score = value\n",
    "        else:\n",
    "            raise ValueError(\"점수는 0이상 100이하만 허용\")\n",
    "        \n",
    "s = Student(\"taehun\", 88)\n",
    "s.score\n",
    "\n",
    "s.score = 50\n",
    "s.score\n",
    "\n",
    "s.score = 200\n",
    "s.score\n",
    "        "
   ]
  },
  {
   "cell_type": "code",
   "execution_count": null,
   "id": "5078493b",
   "metadata": {},
   "outputs": [
    {
     "name": "stdout",
     "output_type": "stream",
     "text": [
      "동물이 울음 소리를 냅니다.\n"
     ]
    },
    {
     "data": {
      "text/plain": [
       "'구름이'"
      ]
     },
     "execution_count": 43,
     "metadata": {},
     "output_type": "execute_result"
    }
   ],
   "source": [
    "# 상속\n",
    "# 부모 클래스의 속성과 메서드를 물려받아 새로운 자녀 클래스를 만드는 것(복사 붙여넣기)\n",
    "\n",
    "# 상속 기본 문법\n",
    "# 부모 클래스\n",
    "class Animal:\n",
    "    def __init__(self,name):\n",
    "        self.name = name\n",
    "\n",
    "    def bark(self):\n",
    "        print(\"동물이 울음 소리를 냅니다.\")\n",
    "\n",
    "# 자녀클래스\n",
    "class Dog(Animal):\n",
    "    pass\n",
    "\n",
    "d = Dog(\"구름이\")\n",
    "d.bark()\n",
    "d.name"
   ]
  },
  {
   "cell_type": "code",
   "execution_count": null,
   "id": "a4e4b4e3",
   "metadata": {},
   "outputs": [
    {
     "name": "stdout",
     "output_type": "stream",
     "text": [
      "동물이 울음 소리를 냅니다.\n",
      "멍멍\n",
      "리치\n",
      "12\n",
      "포메라니안\n"
     ]
    }
   ],
   "source": [
    "class Animal:\n",
    "    def __init__(self, name, age):\n",
    "        self.name = name\n",
    "        self.age = age\n",
    "\n",
    "    def bark(self):\n",
    "        print(\"동물이 울음 소리를 냅니다.\")\n",
    "\n",
    "# 자녀클래스\n",
    "class Dog(Animal):\n",
    "    # 오버라이딩\n",
    "    def __init__(self, name, age, species):\n",
    "        # super는 부모를 가리킴\n",
    "        # 부모의 함수를 그대로 복제함\n",
    "        super().__init__(name, age)\n",
    "        self.species = species\n",
    "\n",
    "    # 오버라이딩 : 부모클래스를 자녀클래스에서 재정의한것\n",
    "    def bark(self):\n",
    "        super().bark() # 부모 클래스의 bark함수를 가져옴\n",
    "        print(\"멍멍\")\n",
    "\n",
    "d = Dog(\"리치\", 12, \"포메라니안\")\n",
    "d.bark()\n",
    "print(d.name)\n",
    "print(d.age)\n",
    "print(d.species)"
   ]
  },
  {
   "cell_type": "code",
   "execution_count": 57,
   "id": "a2361722",
   "metadata": {},
   "outputs": [
    {
     "name": "stdout",
     "output_type": "stream",
     "text": [
      "구름이은(는) 비숑이며 멍멍 짖어요.\n"
     ]
    }
   ],
   "source": [
    "# 다단계 상속\n",
    "class LivingBeing:\n",
    "    def __init__(self):\n",
    "        self.alive = True\n",
    "\n",
    "class Animal(LivingBeing):\n",
    "    def __init__(self, name, age):\n",
    "        super().__init__()\n",
    "        self.name = name\n",
    "        self.age = age\n",
    "\n",
    "    def eat(self):\n",
    "        print(f\"{self.name}이 음식을 먹습니다.\")\n",
    "\n",
    "class Dog(Animal):\n",
    "    def __init__(self, name, age, species):\n",
    "        super().__init__(name, age)\n",
    "        self.species = species\n",
    "\n",
    "    def bark(self):\n",
    "        print(f\"{self.name}은(는) {self.species}이며 멍멍 짖어요.\")\n",
    "\n",
    "d = Dog(\"구름이\", 10, \"비숑\")\n",
    "d.alive\n",
    "d.eat\n",
    "d.bark()"
   ]
  },
  {
   "cell_type": "code",
   "execution_count": null,
   "id": "6b39a960",
   "metadata": {},
   "outputs": [
    {
     "name": "stdout",
     "output_type": "stream",
     "text": [
      "Rectangle\n",
      "변의 개수: 4\n",
      "밑변의 길이: 10\n",
      "4각형의 넓이: 50\n",
      "\n",
      "Triangle\n",
      "변의 개수: 3\n",
      "밑변의 길이: 8\n",
      "3각형의 넓이: 24\n"
     ]
    }
   ],
   "source": [
    "# 실습4.\n",
    "# 문제 1. Shape 클래스 오버라이딩\n",
    "class Shape:\n",
    "    def __init__(self, sides, base):\n",
    "        self.sides = sides\n",
    "        self.base = base\n",
    "\n",
    "    def pritInfo(self):\n",
    "        print(f\"변의 개수: {self.sides}\")\n",
    "        print(f\"밑변의 길이: {self.base}\")\n",
    "\n",
    "    def area(self): # \"오버라이딩해라\"라는 의미, 강제성은 없음\n",
    "        print(\"⚠️넓이 계산이 정의되지 않았어요.\")\n",
    "\n",
    "class Rectangle(Shape): \n",
    "    def __init__(self, sides, base, height):\n",
    "        super().__init__(sides, base)\n",
    "        self.height = height\n",
    "\n",
    "    def area(self):\n",
    "        area = self.base * self.height\n",
    "        print(f\"{self.sides}각형의 넓이: {area}\")\n",
    "\n",
    "class Triangle(Shape):\n",
    "    def __init__(self, sides, base, height):\n",
    "        super().__init__(sides, base)\n",
    "        self.height = height\n",
    "\n",
    "    def area(self):\n",
    "        area = int((self.base * self.height) / 2)\n",
    "        print(f\"{self.sides}각형의 넓이: {area}\")\n",
    "\n",
    "print(\"Rectangle\")\n",
    "r = Rectangle(4, 10, 5)\n",
    "r.pritInfo()\n",
    "r.area()\n",
    "print()\n",
    "\n",
    "print(\"Triangle\")\n",
    "t = Triangle(3, 8, 6)\n",
    "t.pritInfo()\n",
    "t.area()\n"
   ]
  },
  {
   "cell_type": "code",
   "execution_count": null,
   "id": "f2356367",
   "metadata": {},
   "outputs": [
    {
     "name": "stdout",
     "output_type": "stream",
     "text": [
      "멍멍\n"
     ]
    }
   ],
   "source": [
    "# 추상 클래스(Abstract Class)\n",
    "# 클래스의 구조를 정의하는 클래스\n",
    "# 추상 클래스 목적 : 공통 인터페이스 정의, 일관성 유지, 구현강제, 코드 재사용 + 설계 명확화\n",
    "\n",
    "from abc import ABC, abstractmethod\n",
    "\n",
    "# 추상 클래스(ABC를 상속 받음) ➡️ bark구현 해야돼, 추상클래스 없으면 정상 작동함\n",
    "class Animal(ABC):\n",
    "    @abstractmethod\n",
    "    def bark(self):\n",
    "        pass\n",
    "\n",
    "class Dog(Animal):\n",
    "    def bark(self):\n",
    "        print(\"멍멍\")\n",
    "\n",
    "# a = Animal()\n",
    "d = Dog()\n",
    "d.bark()"
   ]
  },
  {
   "cell_type": "code",
   "execution_count": null,
   "id": "c9865977",
   "metadata": {},
   "outputs": [
    {
     "name": "stdout",
     "output_type": "stream",
     "text": [
      "카드로 30000원을 결제합니다.\n",
      "현금으로 50000원을 결제합니다.\n"
     ]
    }
   ],
   "source": [
    "# 실습5 문제 추상 클래스 Payment 구현\n",
    "from abc import ABC, abstractmethod\n",
    "\n",
    "class Payment(ABC):\n",
    "    @abstractmethod\n",
    "    def pay(self, amount):\n",
    "        pass\n",
    "\n",
    "class CardPayment(Payment):\n",
    "    def pay(self, amount):\n",
    "        print(f\"카드로 {amount}원을 결제합니다.\")\n",
    "\n",
    "class CashPayment(Payment):\n",
    "    def pay(self, amount):\n",
    "        print((f\"현금으로 {amount}원을 결제합니다.\"))\n",
    "\n",
    "card = CardPayment()\n",
    "card.pay(30000)\n",
    "\n",
    "cash = CashPayment()\n",
    "cash.pay(50000)\n"
   ]
  }
 ],
 "metadata": {
  "kernelspec": {
   "display_name": "python-study",
   "language": "python",
   "name": "python3"
  },
  "language_info": {
   "codemirror_mode": {
    "name": "ipython",
    "version": 3
   },
   "file_extension": ".py",
   "mimetype": "text/x-python",
   "name": "python",
   "nbconvert_exporter": "python",
   "pygments_lexer": "ipython3",
   "version": "3.13.5"
  }
 },
 "nbformat": 4,
 "nbformat_minor": 5
}
