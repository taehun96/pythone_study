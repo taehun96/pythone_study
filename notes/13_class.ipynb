{
 "cells": [
  {
   "cell_type": "markdown",
   "id": "da1f0b32",
   "metadata": {},
   "source": []
  }
 ],
 "metadata": {
  "kernelspec": {
   "display_name": "python-study",
   "language": "python",
   "name": "python3"
  },
  "language_info": {
   "name": "python",
   "version": "3.13.5"
  }
 },
 "nbformat": 4,
 "nbformat_minor": 5
}
