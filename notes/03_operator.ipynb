{
 "cells": [
  {
   "cell_type": "markdown",
   "id": "a32593a6",
   "metadata": {},
   "source": [
    "### 연산자\n",
    "- 연산자(Operator) : 값과 값 사이에 연산을 수행하는 기호\n",
    "- 항(Operand) : 연산의 대상이 되는 값\n",
    "\n",
    "### 연산자의 종류\n",
    "1. 산술 연산자\n",
    "2. 비교 연산자\n",
    "3. 논리 연산자\n",
    "4. 대입 연산자"
   ]
  },
  {
   "cell_type": "markdown",
   "id": "2ecdf4e6",
   "metadata": {},
   "source": [
    "### 산술 연산자 = 계산 결과가 숫자로 나옴\n",
    "- 사칙연산을 포함한 수학 연산(계산) 수행\n",
    "- +, -, *, /, //, %, **\n",
    "\n",
    "### 비교 연산자 = 계산 결과는 참 or 거짓\n",
    "- 두 값을 비교하는 연산 수행\n",
    "- 계산 결과 True 또는 False를 반환\n",
    "- ==, !=, >, <, >=, <=\n",
    "\n",
    "### 논리 연산자\n",
    "- 논리에 대한 연산을 수행\n",
    "- True, False에 대한 연산을 수행\n",
    "- and, or, not"
   ]
  },
  {
   "cell_type": "code",
   "execution_count": null,
   "id": "853cba8d",
   "metadata": {},
   "outputs": [
    {
     "name": "stdout",
     "output_type": "stream",
     "text": [
      "13\n",
      "7\n",
      "30\n",
      "3.3333333333333335\n",
      "3\n",
      "1\n",
      "1000\n"
     ]
    }
   ],
   "source": [
    "# 산술 연산자\n",
    "print(\"더하기\", 10 + 3)\n",
    "print(\"빼기\",10 - 3)\n",
    "print(\"곱하기\",10 * 3)\n",
    "print(\"나머지\",10 / 3)\n",
    "print(\"몫\",10 // 3)\n",
    "print(\"나머지\",10 % 3)\n",
    "print(\"거듭제곱\",10 ** 3)"
   ]
  },
  {
   "cell_type": "code",
   "execution_count": 4,
   "id": "e188362a",
   "metadata": {},
   "outputs": [
    {
     "name": "stdout",
     "output_type": "stream",
     "text": [
      "더하기 29\n",
      "빼기 11\n",
      "곱하기 180\n",
      "나머지 2.2222222222222223\n",
      "몫 2\n",
      "나머지 2\n",
      "거듭제곱 512000000000\n"
     ]
    }
   ],
   "source": [
    "# 변수와 산술 연산\n",
    "# 반복되는 항이 있따면 변수로 처리\n",
    "a = 20\n",
    "b = 9\n",
    "print(\"더하기\", a + b)\n",
    "print(\"빼기\", a - b)\n",
    "print(\"곱하기\", a * b)\n",
    "print(\"나머지\", a / b)\n",
    "print(\"몫\", a // b)\n",
    "print(\"나머지\", a % b)\n",
    "print(\"거듭제곱\", a ** b)"
   ]
  },
  {
   "cell_type": "code",
   "execution_count": null,
   "id": "695f0e33",
   "metadata": {},
   "outputs": [
    {
     "name": "stdout",
     "output_type": "stream",
     "text": [
      "10\n"
     ]
    }
   ],
   "source": [
    "# 변수의 값을 변경하는 법\n",
    "x = 10\n",
    "\n",
    "# x에 5를 더하고 싶다면?   x에 다시 넣어주어야 함\n",
    "x = x + 5\n",
    "\n",
    "# x에서 10을 빼고 싶다면?\n",
    "x = x - 10\n",
    "\n",
    "# x에서 두배를 해주고 싶다면?\n",
    "x = x * 2\n",
    "\n",
    "# 결과값 출력\n",
    "print(x)"
   ]
  },
  {
   "cell_type": "code",
   "execution_count": null,
   "id": "7fd03958",
   "metadata": {},
   "outputs": [],
   "source": [
    "# 복합 대입 연산자 \n",
    "# 어떤 변수에 자기 자신에 대한 연산 결과를 다시 저장할때 사용\n",
    "# 변수의 값을 변경하는 법\n",
    "x = 10\n",
    "\n",
    "# x에 5를 더하고 싶다면?   x에 다시 넣어주어야 함\n",
    "# x = x + 5\n",
    "x += 5\n",
    "\n",
    "# x에서 10을 빼고 싶다면?\n",
    "x -= 10\n",
    "\n",
    "# x에서 두배를 해주고 싶다면?\n",
    "x *= 2\n",
    "\n",
    "# x에 5를 나누고 싶다면?\n",
    "x /= 2\n",
    "\n",
    "# 결과값 출력\n",
    "print(x)"
   ]
  },
  {
   "cell_type": "code",
   "execution_count": 18,
   "id": "ee66c285",
   "metadata": {},
   "outputs": [
    {
     "name": "stdout",
     "output_type": "stream",
     "text": [
      "남은 돈은 236000.0입니다\n"
     ]
    }
   ],
   "source": [
    "# 실습1 대학생의 용돈 관리\n",
    "# 1.시작 용돈은 30만 원입니다.\n",
    "money = 300000\n",
    "\n",
    "# 2. 개강 첫 주에 책을 사느라 8만 원을 썼습니다.\n",
    "money -= 80000\n",
    "\n",
    "# 3. 평일 점심값으로 매일 9천 원씩 5일간 사용했습니다.\n",
    "money -= (9000 * 5)\n",
    "\n",
    "# 4. 과외 아르바이트를 하며 12만 원을 벌었습니다.\n",
    "money += 120000\n",
    "\n",
    "# 5. 부모님이 용돈을 더 주셔서 현재 금액의 20%를 추가로 받았습니다.\n",
    "# money = money + (money * 0.2)\n",
    "# money = money * 1.2\n",
    "money *= 1.2\n",
    "\n",
    "# 6. 하지만 전기요금 등 공과금으로 남은 돈의 1/3이 빠져나갔습니다.\n",
    "# money = money- (money * 1/3)\n",
    "# money =money * 2/3\n",
    "money *= 2/3\n",
    "\n",
    "print(f\"남은 돈은 {money}입니다\")"
   ]
  },
  {
   "cell_type": "code",
   "execution_count": 21,
   "id": "ce9e52c7",
   "metadata": {},
   "outputs": [
    {
     "name": "stdout",
     "output_type": "stream",
     "text": [
      "300\n",
      "100200\n",
      "taehun Yun\n"
     ]
    }
   ],
   "source": [
    "# 문자열 연산(산술 연산)\n",
    "# + : 문자열의 결합(연결)\n",
    "print(100 + 200)\n",
    "print(\"100\" + \"200\")\n",
    "\n",
    "# ❌ 문자열과 정수의 더하기 연산은 불가능\n",
    "# print(\"100\" + 200)\n",
    "\n",
    "first_name = \"taehun\"\n",
    "last_name = \"Yun\"\n",
    "full_name = first_name + \" \" + last_name\n",
    "print (full_name)"
   ]
  },
  {
   "cell_type": "code",
   "execution_count": 22,
   "id": "9711e735",
   "metadata": {},
   "outputs": [
    {
     "name": "stdout",
     "output_type": "stream",
     "text": [
      "안녕!안녕!안녕!\n"
     ]
    }
   ],
   "source": [
    "# * : 문자열의 반복\n",
    "인사 = \"안녕!\"\n",
    "print(인사 * 3)"
   ]
  },
  {
   "cell_type": "code",
   "execution_count": null,
   "id": "b7b25089",
   "metadata": {},
   "outputs": [],
   "source": [
    "# 지원하지 않는 문자열 연산\n",
    "# print(\"안녕하세요\" / 5)\n",
    "# print(\"안녕\" - \"녕\")"
   ]
  },
  {
   "cell_type": "code",
   "execution_count": 23,
   "id": "65ebdf71",
   "metadata": {},
   "outputs": [
    {
     "name": "stdout",
     "output_type": "stream",
     "text": [
      "둠칫두둠칫두둠칫두둠칫\n"
     ]
    }
   ],
   "source": [
    "# 실습2. EDM 리듬 트랙 만들기\n",
    "intro = \"둠칫\"\n",
    "drop = \"두둠칫\"\n",
    "\n",
    "print(intro + (drop * 3)) "
   ]
  }
 ],
 "metadata": {
  "kernelspec": {
   "display_name": "python-study",
   "language": "python",
   "name": "python3"
  },
  "language_info": {
   "codemirror_mode": {
    "name": "ipython",
    "version": 3
   },
   "file_extension": ".py",
   "mimetype": "text/x-python",
   "name": "python",
   "nbconvert_exporter": "python",
   "pygments_lexer": "ipython3",
   "version": "3.13.5"
  }
 },
 "nbformat": 4,
 "nbformat_minor": 5
}
