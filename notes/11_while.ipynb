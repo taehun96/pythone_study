{
 "cells": [
  {
   "cell_type": "markdown",
   "id": "8d2a8fd4",
   "metadata": {},
   "source": [
    "### 11. while문 (조건에 따라 반복할때 사용)\n",
    "- 조건이 True인 동안 코드를 반복하는 반복문 ➡️(for문은 반복 횟수가 정해져 있음,이터러블을 정해놓고 반복시킴)\n",
    "- 조건이 False가 되면 반복을 멈춤\n",
    "    - 반복 횟수가 정해지지 않았을 때 사용"
   ]
  },
  {
   "cell_type": "code",
   "execution_count": null,
   "id": "4ac7a063",
   "metadata": {},
   "outputs": [],
   "source": [
    "# while문 기본 문법\n",
    "# 조건 : 참/거짓을 구분할 수 있는 문장 → True, False를 반환하는 문장이 와야 함\n",
    "\n",
    "# while 조건:\n",
    "#     # 반복할 코드"
   ]
  },
  {
   "cell_type": "code",
   "execution_count": null,
   "id": "dc8b00ab",
   "metadata": {},
   "outputs": [],
   "source": [
    "# 무한루프\n",
    "# 사용시 주의해야 함\n",
    "# 반드시 종료조건이 있어야 함\n",
    "while True:\n",
    "    print(\"반복중\")"
   ]
  },
  {
   "cell_type": "code",
   "execution_count": null,
   "id": "4392d350",
   "metadata": {},
   "outputs": [],
   "source": [
    "# 예제1\n",
    "\n",
    "light = \"green\"\n",
    "\n",
    "while light == \"green\":\n",
    "    print(\"계속 가세요!\")\n",
    "    light = input(\"신호등의 신호를 입력해주세요(green/yellow/red)\")\n",
    "print(\"중지!!\")"
   ]
  },
  {
   "cell_type": "code",
   "execution_count": null,
   "id": "0b999857",
   "metadata": {},
   "outputs": [],
   "source": [
    "import time\n",
    "\n",
    "# 예제2 : 별도의 반복 변수를 정의\n",
    "# ⚠️ 반복 변수를 갱신하지 않을시 무한루프에 빠지게 됨\n",
    "i = 0\n",
    "\n",
    "while i < 5:\n",
    "    print(i, \"반복\")\n",
    "    i += 1\n",
    "    time.sleep(1)\n",
    "print(\"반복 종료\")"
   ]
  },
  {
   "cell_type": "code",
   "execution_count": null,
   "id": "68c8f8a5",
   "metadata": {},
   "outputs": [],
   "source": [
    "# 실습1 문제1\n",
    "secret_code = \"codingonre3\"\n",
    "user_input = input(\"비밀 코드를 입력하세요: \")\n",
    "\n",
    "# 비밀코드와 사용자 입력이 같지 않을때 반복\n",
    "while user_input != secret_code:\n",
    "    print(\"틀렸습니다. 다시입력해주세요\")\n",
    "    user_input = input(\"비밀 코드를 입력하세요: \")\n",
    "\n",
    "print(\"입장이 허용되었습니다!\")"
   ]
  },
  {
   "cell_type": "code",
   "execution_count": null,
   "id": "362fc02f",
   "metadata": {},
   "outputs": [],
   "source": [
    "import random\n",
    "\n",
    "# 실습1 문제2\n",
    "\n",
    "answer = random.randint(1,100)\n",
    "num = 0 #사용자 입력 받을 변수\n",
    "time = 0 # 실행 횟수를 저장할 변수\n",
    "\n",
    "# 사용자 입력과 정답이 같지 않을 때 반복\n",
    "while num != answer:\n",
    "    num = int(input(\"1~100상이의 수를 입력해주세요: \"))\n",
    "    time += 1\n",
    "\n",
    "    if num > answer:\n",
    "        print(f\"정답이 {num}보다는 작아요\")\n",
    "\n",
    "    elif num < answer:\n",
    "        print(f\"정답이 {num}보다 커요\")\n",
    "\n",
    "print(f\"{time}번 만에 정답을 맞췄습니다.\")"
   ]
  },
  {
   "cell_type": "code",
   "execution_count": null,
   "id": "affc9d4c",
   "metadata": {},
   "outputs": [],
   "source": [
    "# 루프 제어문\n",
    "running = True\n",
    "while running:\n",
    "    if 조건1:\n",
    "        running = False\n",
    "    if 조건2:\n",
    "        running = False\n",
    "\n",
    "# break\n",
    "while True:\n",
    "    if 조건:\n",
    "        break"
   ]
  },
  {
   "cell_type": "code",
   "execution_count": null,
   "id": "0a32905f",
   "metadata": {},
   "outputs": [],
   "source": [
    "# 예제1 ➡️ 루프가 돌기전에 끝남 (미묘한 차이 있음)\n",
    "i = 0\n",
    "\n",
    "while True:\n",
    "    i += 1\n",
    "\n",
    "    if i > 5:\n",
    "        break\n",
    "    print(i,\"실행\")\n",
    "print(\"반복문 종료\")"
   ]
  },
  {
   "cell_type": "code",
   "execution_count": null,
   "id": "d0ba1194",
   "metadata": {},
   "outputs": [],
   "source": [
    "# 예제1 비교 ➡️ 루프가 끝까지 돈 다음에 끝남\n",
    "i = 0\n",
    "\n",
    "while i < 6:\n",
    "    i += 1\n",
    "\n",
    "    print(i,\"실행\")\n",
    "print(\"반복문 종료\")\n",
    "\n",
    "# 일반적으로 while의 조건에 따라 while문을 종료시키면 실행블록이 끝까지 실행 된후 종료되지만\n",
    "# break로 종료를 시키면, 이후 실행 블록의 코드는 무시되고 바로 반복문을 탈출함"
   ]
  },
  {
   "cell_type": "code",
   "execution_count": null,
   "id": "3ab0188c",
   "metadata": {},
   "outputs": [],
   "source": [
    "# continue\n",
    "# 예제2\n",
    "i = 0\n",
    "while i < 5:\n",
    "    i += 1\n",
    "    if i % 2 == 0:\n",
    "        continue\n",
    "    print(i)\n",
    "print(\"반복종료\")"
   ]
  },
  {
   "cell_type": "code",
   "execution_count": null,
   "id": "d8b842a2",
   "metadata": {},
   "outputs": [],
   "source": [
    "# 실습2 문제1\n",
    "# 변수 secret_code에는 “codingonre3”가 저장\n",
    "secret_code = \"codingonre3\"\n",
    "\n",
    "while True:\n",
    "    # 사용자에게 \"비밀 코드를 입력하세요:\" 라고 안내 문구를 출력\n",
    "    user_input = input(\"비밀 코드를 입력하세요: \")\n",
    "    # 사용자의 입력이 정답과 일치하면 \"입장 완료! 환영합니다.\"를 출력하고 break로 루프를 종료\n",
    "    if user_input == secret_code:\n",
    "        print(\"입장 완료! 환영합니다.\")\n",
    "        break\n",
    "    else:\n",
    "        # 정답이 틀렸다면 \"비밀 코드가 틀렸습니다. 다시 시도하세요.\"를 출력한 후 루프를 계속 진행\n",
    "        print(\"비밀 코드가 틀렸습니다. 다시 시도하세요.\")"
   ]
  },
  {
   "cell_type": "code",
   "execution_count": null,
   "id": "24a04483",
   "metadata": {},
   "outputs": [],
   "source": [
    "# 실습2 문제2\n",
    "\n",
    "# 변수 times는 유효한 입력의 개수를 셉니다.\n",
    "times = 0\n",
    "# 변수 sum_age는 나이의 합계를 저장합니다.\n",
    "sum_age = 0\n",
    "\n",
    "while True:\n",
    "    # 나이는 정수로 입력 받습니다.\n",
    "    age = int(input(\"나이를 입력하세요 : \"))\n",
    "    # 나이가 0 이하이거나 120보다 크면 무시하고 반복을 건너뜁니다.\n",
    "    if age <= 0 or age > 120:\n",
    "        continue\n",
    "    sum_age += age\n",
    "    times += 1\n",
    "\n",
    "    # 5개의 유효한 나이를 입력 받으면 루프를 종료하고\n",
    "    if times == 5:\n",
    "        break\n",
    "\n",
    "# 총합과 평균을 출력합니다.\n",
    "print(f\"총 나이의 합계는 : {sum_age}, 평균은 : {sum_age / times}\")"
   ]
  },
  {
   "cell_type": "code",
   "execution_count": null,
   "id": "fdce7f93",
   "metadata": {},
   "outputs": [],
   "source": [
    "# 실습2 문제2\n",
    "cnt = 0\n",
    "sum_age = 0\n",
    "\n",
    "while cnt < 5:\n",
    "    age = int(input(\"나이를 입력하세요:\"))\n",
    "\n",
    "    # 나이가 0이하 이거나(또는), 120초과이면 건너뜀\n",
    "    if age <= 0 or age > 120:\n",
    "        continue\n",
    "\n",
    "    cnt += 1\n",
    "    sum_age += age\n",
    "\n",
    "print(f\"총 나이 합계는 : {sum_age}, 평균은 {int(sum_age / cnt)}\")"
   ]
  },
  {
   "cell_type": "code",
   "execution_count": null,
   "id": "3300912b",
   "metadata": {},
   "outputs": [],
   "source": [
    "# 중첩 while문\n",
    "\n",
    "# 예제(구구단)\n",
    "dan = 2\n",
    "while dan <= 9:\n",
    "    num = 1\n",
    "    print(f\"[ {dan}단 ]\")\n",
    "    while num <= 9:\n",
    "        print(f\"{dan} X {num} = {dan * num}\")\n",
    "        num += 1\n",
    "    \n",
    "    print()\n",
    "    dan += 1"
   ]
  },
  {
   "cell_type": "code",
   "execution_count": null,
   "id": "ad893c04",
   "metadata": {},
   "outputs": [
    {
     "name": "stdout",
     "output_type": "stream",
     "text": [
      "로그인 성공!\n"
     ]
    }
   ],
   "source": [
    "# 실습3 문제1\n",
    "\n",
    "# 임의의 ID와비밀번호를 세팅합니다.\n",
    "user_id = \"jk3160@naver.com\"\n",
    "user_pw = \"456789\"\n",
    "\n",
    "while True:\n",
    "    # ID 입력 받기\n",
    "    id_input = input(\"ID를 입력하세요: \")\n",
    "\n",
    "    # 잘못된 ID일 경우 \"ID가 존재하지 않습니다.\" 를 출력\n",
    "    if id_input != user_id:\n",
    "        print(\"ID가 존재하지 않습니다.\")\n",
    "        continue  # 다시 ID를 입력 받습니다.\n",
    "\n",
    "    # ID가 맞은 경우 비밀번호 입력\n",
    "    while True:\n",
    "        pw_input = input(\"비밀번호를 입력하세요: \")\n",
    "\n",
    "        if pw_input != user_pw: # 비밀번호가 틀리면 \"비밀번호가 틀렸습니다.\" 를 출력하고 다시 입력 받습니다.\n",
    "            print(\"비밀번호가 틀렸습니다.\")\n",
    "            continue  # 비밀번호 다시 입력\n",
    "        \n",
    "        print(\"로그인 성공!\") # 둘 다 맞으면 \"로그인 성공!\" 을 출력하고 프로그램을 종료합니다.\n",
    "        break\n",
    "    break"
   ]
  },
  {
   "cell_type": "code",
   "execution_count": 1,
   "id": "31c3d3d3",
   "metadata": {},
   "outputs": [
    {
     "name": "stdout",
     "output_type": "stream",
     "text": [
      "로그인 성공!\n"
     ]
    }
   ],
   "source": [
    "user_id = \"jk3160@naver.com\"\n",
    "user_pw = \"456789\"\n",
    "\n",
    "while True:\n",
    "    # ID 입력 받기\n",
    "    id_input = input(\"ID를 입력하세요: \")\n",
    "\n",
    "    # 잘못된 ID일 경우 \"ID가 존재하지 않습니다.\" 를 출력\n",
    "    if id_input != user_id:\n",
    "        print(\"ID가 존재하지 않습니다.\")\n",
    "        continue  # 다시 ID를 입력 받습니다.\n",
    "\n",
    "    # ID가 맞은 경우 비밀번호 입력\n",
    "    while True:\n",
    "        pw_input = input(\"비밀번호를 입력하세요: \")\n",
    "\n",
    "        if pw_input == user_pw: # 비밀번호가 틀리면 \"비밀번호가 틀렸습니다.\" 를 출력하고 다시 입력 받습니다.\n",
    "            print(\"로그인 성공!\")\n",
    "            break\n",
    "        \n",
    "        print(\"비밀번호가 일치하지 않습니다.\") # 둘 다 맞으면 \"로그인 성공!\" 을 출력하고 프로그램을 종료합니다.\n",
    "        continue\n",
    "    break"
   ]
  }
 ],
 "metadata": {
  "kernelspec": {
   "display_name": "python-study",
   "language": "python",
   "name": "python3"
  },
  "language_info": {
   "codemirror_mode": {
    "name": "ipython",
    "version": 3
   },
   "file_extension": ".py",
   "mimetype": "text/x-python",
   "name": "python",
   "nbconvert_exporter": "python",
   "pygments_lexer": "ipython3",
   "version": "3.13.5"
  }
 },
 "nbformat": 4,
 "nbformat_minor": 5
}
