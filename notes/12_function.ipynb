{
 "cells": [
  {
   "cell_type": "markdown",
   "id": "2e5a5da2",
   "metadata": {},
   "source": [
    "### 12 함수(function)\n",
    "- 특정 작업을 수행하는 코드들의 모음\n",
    "- 복잡한 코드를 작은 단위로 나눌 수 있게 도와줌\n",
    "- 특정한 코드들을 재사용 할 수 있게 함"
   ]
  },
  {
   "cell_type": "code",
   "execution_count": null,
   "id": "d2b34e4a",
   "metadata": {},
   "outputs": [
    {
     "name": "stdout",
     "output_type": "stream",
     "text": [
      "인자\n"
     ]
    },
    {
     "data": {
      "text/plain": [
       "'반환값'"
      ]
     },
     "execution_count": 1,
     "metadata": {},
     "output_type": "execute_result"
    }
   ],
   "source": [
    "# 사용자 정의 함수 기본 문법\n",
    "# 함수의 정의 : define의 약자로 def 사용\n",
    "def 함수이름(매개변수):\n",
    "    # 실행할 코드\n",
    "    print(매개변수)\n",
    "    return \"반환값\"\n",
    "\n",
    "# 함수의 실행(호출 call)\n",
    "함수이름(\"인자\")\n",
    "\n",
    "# 매개변수(Parameter) : 매개 + 변수\n",
    "# 매개 : 둘 사이를 연결해줌\n",
    "# 함수가 실행될 때 인자로부터 입력되는 값을 함수의 코드블록으로 전달하는 역할 \n",
    "# 인자➡️def 매개변수 ➡️ print(매개변수)\n",
    "# 매개변수랑 return은 없어도 상관없음\n",
    "\n",
    "# 인자(Argument)\n",
    "# 함수의 실행시 매개변수로 전달하는 실제 값"
   ]
  },
  {
   "cell_type": "code",
   "execution_count": null,
   "id": "613e58ea",
   "metadata": {},
   "outputs": [],
   "source": [
    "a = 10\n",
    "d = 20\n",
    "\n",
    "if a > b:\n",
    "    print(a - b)\n",
    "else :\n",
    "    print(a + b)\n",
    "\n",
    "c = 30\n",
    "d = 40\n",
    "\n",
    "if c > d:\n",
    "    print(c - d)\n",
    "else :\n",
    "    print(c + d)\n",
    "\n",
    "e = 100\n",
    "f = 120\n",
    "\n",
    "if e > f:\n",
    "    print(e - f)\n",
    "else :\n",
    "    print(e + f)"
   ]
  },
  {
   "cell_type": "code",
   "execution_count": 2,
   "id": "3bbdbf1e",
   "metadata": {},
   "outputs": [
    {
     "name": "stdout",
     "output_type": "stream",
     "text": [
      "30\n",
      "70\n",
      "220\n",
      "20\n"
     ]
    }
   ],
   "source": [
    "def my_func(a,b):\n",
    "    if a > b:\n",
    "        return a -b\n",
    "    else:\n",
    "        return a + b\n",
    "\n",
    "print(my_func(10,20))\n",
    "print(my_func(30,40))\n",
    "print(my_func(100,120))\n",
    "print(my_func(50,30))"
   ]
  },
  {
   "cell_type": "code",
   "execution_count": 3,
   "id": "9883bcc3",
   "metadata": {},
   "outputs": [
    {
     "name": "stdout",
     "output_type": "stream",
     "text": [
      "안녕하세요. 처음 뵙겠습니다. taehun입니다.\n"
     ]
    }
   ],
   "source": [
    "# 예제1.\n",
    "def introduce(name):\n",
    "    print(f\"안녕하세요. 처음 뵙겠습니다. {name}입니다.\")\n",
    "\n",
    "introduce(\"taehun\")"
   ]
  },
  {
   "cell_type": "code",
   "execution_count": null,
   "id": "0311d7fa",
   "metadata": {},
   "outputs": [
    {
     "name": "stdout",
     "output_type": "stream",
     "text": [
      "30\n",
      "150\n"
     ]
    }
   ],
   "source": [
    "# 위치인자 : 인자의 순서대로 매개변수에 대응되는 방식 → 가장 일반적이고 기본적인 전달 방법\n",
    "\n",
    "# 예제2.\n",
    "def add(x, y):\n",
    "    return x + y\n",
    "\n",
    "print(add(10,20))\n",
    "print(add(100,50))"
   ]
  },
  {
   "cell_type": "code",
   "execution_count": null,
   "id": "ab897299",
   "metadata": {},
   "outputs": [
    {
     "name": "stdout",
     "output_type": "stream",
     "text": [
      "30\n",
      "지원하지 않는 연산입니다\n",
      "0.8333333333333334\n",
      "158\n"
     ]
    }
   ],
   "source": [
    "# 실습1 문제1\n",
    "\n",
    "# 요구사항 함수 이름은 calculate로 합니다.\n",
    "def calculate(a, b, operator):          # 매개변수는 a, b, operator 세 개입니다.\n",
    "    if operator == \"+\":                 # operator는 문자열이며, 다음 중 하나입니다: \"+\", \"-\", \"*\", \"/\"\n",
    "        return a + b\n",
    "    elif operator == \"-\":\n",
    "        return a - b\n",
    "    elif operator == \"*\":\n",
    "        return a * b\n",
    "    elif operator == \"/\":\n",
    "        return float(a / b)             # 나눗셈은 결과를 실수(float) 로 반환합니다.\n",
    "    else:\n",
    "        return \"지원하지 않는 연산입니다\"   # 올바르지 않은 연산자가 들어오면 \"지원하지 않는 연산입니다\"\n",
    "    \n",
    "print(calculate(10,20,\"+\"))\n",
    "print(calculate(25,30,\"//\"))\n",
    "print(calculate(25,30,\"/\"))\n",
    "print(calculate(25,30,\"+\") + calculate(23,80,\"+\")) #➡️ 이렇게도 가능 "
   ]
  },
  {
   "cell_type": "code",
   "execution_count": null,
   "id": "78a13bd3",
   "metadata": {},
   "outputs": [
    {
     "name": "stdout",
     "output_type": "stream",
     "text": [
      "안녕하세요-반갑습니다 / 처음뵙겠습니다-화이팅! / "
     ]
    },
    {
     "data": {
      "text/plain": [
       "30"
      ]
     },
     "execution_count": 17,
     "metadata": {},
     "output_type": "execute_result"
    }
   ],
   "source": [
    "# 키워드 인자 : 순서와 무관하게 매개변수에 대응 가능\n",
    "# 예시1.\n",
    "print(\"안녕하세요\", \"반갑습니다\", sep=\"-\", end=\" / \") # sep 키워드 인자\n",
    "print(\"처음뵙겠습니다\", \"화이팅!\", sep=\"-\", end=\" / \") # end 키워드 인자\n",
    "\n",
    "# 예시2.\n",
    "def my_func(a,b,c=None,operator=None):\n",
    "    if operator == \"+\":\n",
    "        return a + b\n",
    "    else:\n",
    "        return c\n",
    "my_func(10,20,operator=\"+\") # c자리를 안쓰고 실행하려면 c자리에 None입력하고 operator 자리에 입력"
   ]
  },
  {
   "cell_type": "code",
   "execution_count": null,
   "id": "4b657439",
   "metadata": {},
   "outputs": [
    {
     "name": "stdout",
     "output_type": "stream",
     "text": [
      "taehun님, 안녕하세요!\n",
      "taehun님, 반갑습니다!\n"
     ]
    }
   ],
   "source": [
    "# 기본값 인자\n",
    "# 단, 기본값 매개변수는 뒤쪽에 위치해야함\n",
    "def greet(name, message=\"안녕하세요!\"):\n",
    "    print(f\"{name}님, {message}\")\n",
    "\n",
    "# 호출시 인자 생략 → 기본값 사용\n",
    "greet(\"taehun\")\n",
    "greet(\"taehun\", \"반갑습니다!\")"
   ]
  },
  {
   "cell_type": "code",
   "execution_count": null,
   "id": "c9b00a29",
   "metadata": {},
   "outputs": [
    {
     "data": {
      "text/plain": [
       "15"
      ]
     },
     "execution_count": 19,
     "metadata": {},
     "output_type": "execute_result"
    }
   ],
   "source": [
    "# 위치 가변 인자\n",
    "# 사용 목적 : 여러개의 값을 유동적으로 받을 수 있음\n",
    "# 값이 튜플 형태로 받아짐\n",
    "\n",
    "def add_all(*args):\n",
    "    return sum(args)\n",
    "\n",
    "add_all(1,2,3,4,5)"
   ]
  },
  {
   "cell_type": "code",
   "execution_count": 25,
   "id": "12c3df01",
   "metadata": {},
   "outputs": [
    {
     "name": "stdout",
     "output_type": "stream",
     "text": [
      "name : taehun\n",
      "age : 30\n",
      "city : 대구\n",
      "job : developer\n"
     ]
    }
   ],
   "source": [
    "# 키워드 가변 인자\n",
    "# 여러 키워드 인자를 유동적으로 받을 수 있음\n",
    "# 딕셔너리 형태로 값이 입려됨\n",
    "\n",
    "def print_info(**kwagrs):\n",
    "    for key, value in kwagrs.items():\n",
    "        print(f\"{key} : {value}\")\n",
    "\n",
    "print_info(name=\"taehun\", age=30, city=\"대구\", job=\"developer\")"
   ]
  },
  {
   "cell_type": "code",
   "execution_count": null,
   "id": "223f3fd6",
   "metadata": {},
   "outputs": [
    {
     "name": "stdout",
     "output_type": "stream",
     "text": [
      "10\n",
      "20\n",
      "(30, 40, 50)\n",
      "{'name': 'taehun', 'age': 30}\n"
     ]
    }
   ],
   "source": [
    "# 여러가지 가변 인자를 섞어서 사용할 수 있음\n",
    "# 단, 가변 인자의 순서가 맞아야함‼️‼️‼️\n",
    "# 순서 : 위치인자 → 키워드인자 → 위치가변인자 → 키워드가변인자\n",
    "def my_func(a, b=None, *args, **kwagrs):\n",
    "    print(a)\n",
    "    print(b)\n",
    "    print(args)\n",
    "    print(kwagrs)\n",
    "\n",
    "my_func(10,20,30,40,50, name=\"taehun\", age=30)"
   ]
  },
  {
   "cell_type": "code",
   "execution_count": null,
   "id": "7ddce58c",
   "metadata": {},
   "outputs": [
    {
     "name": "stdout",
     "output_type": "stream",
     "text": [
      "[1, 2, 3, 100]\n"
     ]
    }
   ],
   "source": [
    "# 매개변수 전달방식\n",
    "# 가변 자료형에서만 가능(list, dictionary)\n",
    "# 파이썬은 값 전달(Call by Value) 이 아닌, 객체 참조에 의한 전달(Call by Object Reference) 방식\n",
    "\n",
    "def add_to_list(my_list):\n",
    "    my_list.append(100)\n",
    "\n",
    "test_list = [1,2,3]\n",
    "add_to_list(test_list)\n",
    "\n",
    "print(test_list)"
   ]
  },
  {
   "cell_type": "code",
   "execution_count": null,
   "id": "b2274d1a",
   "metadata": {},
   "outputs": [
    {
     "name": "stdout",
     "output_type": "stream",
     "text": [
      "23.0\n",
      "11.0\n"
     ]
    }
   ],
   "source": [
    "# 실습2. 문제1\n",
    "def average(*args):\n",
    "    # 예외처리 ➡️ 이것이 없을시 공백일때 에러가 발생함\n",
    "    if len(args) == 0:\n",
    "        return \"입력값이 없습니다\"\n",
    "    return sum(args) / len(args)\n",
    "\n",
    "print(average(15, 24, 30))\n",
    "print(average(7, 15))        "
   ]
  },
  {
   "cell_type": "code",
   "execution_count": null,
   "id": "1777541d",
   "metadata": {},
   "outputs": [
    {
     "name": "stdout",
     "output_type": "stream",
     "text": [
      "입력값이 없습니다.\n",
      "fineapple\n",
      "elephant\n"
     ]
    }
   ],
   "source": [
    "# 실습2. 문제2 방법1\n",
    "def long(*args):\n",
    "    # 예외처리 ➡️ 이것이 없을시 공백일때 에러가 발생함\n",
    "    if len(args) == 0:\n",
    "        return \"입력값이 없습니다.\"\n",
    "    return max(args, key=len)\n",
    "\n",
    "print(long())\n",
    "print(long(\"banana\", \"fineapple\", \"grape\"))\n",
    "print(long(\"bird\", \"elephant\", \"deer\")) "
   ]
  },
  {
   "cell_type": "code",
   "execution_count": null,
   "id": "64b573c8",
   "metadata": {},
   "outputs": [],
   "source": [
    "# 실습2. 문제2 방법2\n",
    "def longgest(*args):\n",
    "    answer = \"\"\n",
    "    for s in args:\n",
    "        if len(s) > len(answer):\n",
    "            answer = s\n",
    "    return answer\n",
    "\n",
    "longgest(\"apple\", \"watermelon\", \"grape\", \"kiwi\")"
   ]
  },
  {
   "cell_type": "code",
   "execution_count": 35,
   "id": "cc41e0e2",
   "metadata": {},
   "outputs": [
    {
     "name": "stdout",
     "output_type": "stream",
     "text": [
      "name : 태훈\n",
      "age : 30\n",
      "city : 대구\n"
     ]
    }
   ],
   "source": [
    "# 실습2 문제3\n",
    "def print_info(**kwargs):\n",
    "    for key, value in kwargs.items():\n",
    "        print(f\"{key} : {value}\")\n",
    "\n",
    "print_info(name=\"태훈\", age=30, city=\"대구\")"
   ]
  },
  {
   "cell_type": "code",
   "execution_count": 48,
   "id": "6a9cba33",
   "metadata": {},
   "outputs": [
    {
     "name": "stdout",
     "output_type": "stream",
     "text": [
      "apple = 할인가 : 2700.0원 (원가 : 3000)\n",
      "grape = 할인가 : 4950.0원 (원가 : 5500)\n",
      "milk = 할인가 : 3420.0원 (원가 : 3800)\n"
     ]
    }
   ],
   "source": [
    "# 실습2 문제4\n",
    "def discount(**kwargs):\n",
    "    for item, price in kwargs.items():\n",
    "        discounted_price = price * 0.9\n",
    "        print(f\"{item} = 할인가 : {discounted_price}원 (원가 : {price})\")\n",
    "\n",
    "discount(apple=3000, grape=5500, milk=3800)"
   ]
  },
  {
   "cell_type": "code",
   "execution_count": null,
   "id": "99f48e9a",
   "metadata": {},
   "outputs": [],
   "source": [
    "# 전역변수 : 함수 밖에 선언된 변수\n",
    "# 지역변수 : 함수 안에 선언된 변수\n",
    "# 글로벌 > 함수:엔클로징(함수안에 함수있을때) > 함수:지역함수(local)\n",
    "\n",
    "예제\n",
    "# 전역변수\n",
    "x = 100\n",
    "\n",
    "def my_func():\n",
    "    x = 10  #➡️지역변수\n",
    "    print(x)\n",
    "\n",
    "    def inner_func():\n",
    "        x = 50  #➡️지역변수\n",
    "        print(x)\n",
    "print(\"함수밖\")\n",
    "\n",
    "def any_func():\n",
    "    x = 20  #➡️지역변수\n",
    "    print(x)"
   ]
  },
  {
   "cell_type": "code",
   "execution_count": null,
   "id": "0e7e9ea4",
   "metadata": {},
   "outputs": [
    {
     "name": "stdout",
     "output_type": "stream",
     "text": [
      "지역변수 25\n",
      "전역변수 10\n"
     ]
    }
   ],
   "source": [
    "# 전역변수와 지역변수\n",
    "x = 10\n",
    "\n",
    "def my_func():\n",
    "    x = 20\n",
    "    x += 5\n",
    "    print(\"지역변수\",x) #➡️ 지역에서만 일어남 \n",
    "\n",
    "my_func()\n",
    "print(\"전역변수\", x)"
   ]
  },
  {
   "cell_type": "code",
   "execution_count": null,
   "id": "ef99d53e",
   "metadata": {},
   "outputs": [
    {
     "name": "stdout",
     "output_type": "stream",
     "text": [
      "지역 15\n",
      "전역 15\n"
     ]
    }
   ],
   "source": [
    "# 전역변수와 지역변수 예제1(global 키워드 사용)\n",
    "x = 10\n",
    "\n",
    "def my_func():\n",
    "    global x # 전역변수 사용을 선언 ➡️ 이런 방식은 권장되지 않음\n",
    "    x += 5\n",
    "    print(\"지역\", x) \n",
    "\n",
    "my_func()\n",
    "\n",
    "print(\"전역\",x)"
   ]
  },
  {
   "cell_type": "code",
   "execution_count": null,
   "id": "e11e3031",
   "metadata": {},
   "outputs": [],
   "source": [
    "# 예제2\n",
    "# 보통의 경우, 변수의 변경을 시도하는 것은 하나의 경로를 따라서 변경하게 한다.\n",
    "x = 10\n",
    "\n",
    "def func1():\n",
    "    global x\n",
    "    x += 10\n",
    "\n",
    "def func2():\n",
    "    global x\n",
    "    x *= 2\n",
    "\n",
    "func1()\n",
    "func2()\n",
    "\n",
    "print(x)"
   ]
  },
  {
   "cell_type": "code",
   "execution_count": null,
   "id": "fb671318",
   "metadata": {},
   "outputs": [
    {
     "name": "stdout",
     "output_type": "stream",
     "text": [
      "전역 15\n"
     ]
    }
   ],
   "source": [
    "# 권장되는 패턴\n",
    "# 함수형 프로그래밍\n",
    "# 부수 효과(Side effect)를 발생시키지 않는 함수(순수 함수)를 위주로 프로그래밍을 하는 것\n",
    "x = 10\n",
    "\n",
    "def my_func(x): # 매개변수는 지역에 존재\n",
    "    x += 5\n",
    "    return x \n",
    "\n",
    "x = my_func(x)\n",
    "\n",
    "print(\"전역\",x)"
   ]
  },
  {
   "cell_type": "code",
   "execution_count": null,
   "id": "73b0f7fb",
   "metadata": {},
   "outputs": [
    {
     "name": "stdout",
     "output_type": "stream",
     "text": [
      "더 안쪽 함수\n",
      "안쪽 함수\n",
      "바깥쪽 함수\n"
     ]
    }
   ],
   "source": [
    "# 스택영영 : 지역변수, 매개변수 등이 저장되는 공간\n",
    "# 스택 구조에 대한 예시\n",
    "\n",
    "def deep_func():\n",
    "    print(\"더 안쪽 함수\")       #➡️실행시 이것먼저 실행됨\n",
    "\n",
    "def inner_func():\n",
    "    deep_func()               #➡️ 다음 실행됨\n",
    "    print(\"안쪽 함수\")\n",
    "\n",
    "def outter_func():\n",
    "    inner_func()              #➡️ 마지막 실행됨\n",
    "    print(\"바깥쪽 함수\")\n",
    "\n",
    "outter_func()\n"
   ]
  },
  {
   "cell_type": "code",
   "execution_count": null,
   "id": "b1041200",
   "metadata": {},
   "outputs": [
    {
     "name": "stdout",
     "output_type": "stream",
     "text": [
      "taehun님 로그인 성공\n",
      "이미 로그인되어 있습니다\n",
      "로그아웃되었습니다\n",
      "로그인된 사용자가 없습니다\n",
      "hun님 로그인 성공\n"
     ]
    }
   ],
   "source": [
    "# 실습3\n",
    "# 전역 변수 current_user\n",
    "current_user = None\n",
    "def login(name):  # login(name) 함수는 사용자를 로그인\n",
    "    global current_user\n",
    "    if current_user == None:\n",
    "        current_user = name\n",
    "        print(f\"{name}님 로그인 성공\")\n",
    "    else:\n",
    "        # 이미 로그인된 상태에서 다시 로그인하면 \"이미 로그인되어 있습니다\" 출력\n",
    "        print(\"이미 로그인되어 있습니다\")\n",
    "\n",
    "def logout():   # logout() 함수는 로그아웃 상태로 만듭니다.\n",
    "    global current_user\n",
    "    if current_user == None:\n",
    "        print(\"로그인된 사용자가 없습니다\")\n",
    "    else:\n",
    "        print(\"로그아웃되었습니다\")\n",
    "        current_user = None\n",
    "\n",
    "login(\"taehun\")\n",
    "login(\"hun\")         \n",
    "logout()             \n",
    "logout()             \n",
    "login(\"hun\") "
   ]
  },
  {
   "cell_type": "code",
   "execution_count": 71,
   "id": "9f87ba55",
   "metadata": {},
   "outputs": [
    {
     "name": "stdout",
     "output_type": "stream",
     "text": [
      "⚠️아이디는 네글자 이상이어야 해요.\n",
      "⚠️아이디는 네글자 이상이어야 해요.\n",
      "⚠️아이디는 네글자 이상이어야 해요.\n",
      "⚠️아이디는 네글자 이상이어야 해요.\n",
      "⚠️아이디는 네글자 이상이어야 해요.\n",
      "더이상 로그인 시도를 할 수 없습니다.\n"
     ]
    }
   ],
   "source": [
    "# 실습 3. 전역 변수 연습하기\n",
    "# ✅ 요구사항\n",
    "# 전역 변수 current_user는 로그인한 사용자의 이름을 저장합니다.\n",
    "# login(name) 함수는 사용자를 로그인시키고, logout() 함수는 로그아웃 상태로 만듭니다.\n",
    "# 이미 로그인된 상태에서 다시 로그인하면 \"이미 로그인되어 있습니다\"를 출력합니다.\n",
    "# 로그아웃하지 않고 로그인을 여러 번 시도할 수 없도록 합니다.\n",
    "\n",
    "current_user = None\n",
    "login_count = 0\n",
    "\n",
    "def login(name):\n",
    "    global current_user\n",
    "    global login_count\n",
    "\n",
    "    if current_user == None:\n",
    "        if len(name) > 4:\n",
    "            current_user = name\n",
    "            print(f\"🤗{name}님 로그인 성공!\")\n",
    "        # 예외처리\n",
    "        else:\n",
    "            print(\"⚠️아이디는 네글자 이상이어야 해요.\")\n",
    "\n",
    "            login_count += 1\n",
    "            if login_count > 4:\n",
    "                print(\"더이상 로그인 시도를 할 수 없습니다.\")\n",
    "    else:\n",
    "        print(\"🚨이미 로그인되어 있습니다.\")\n",
    "\n",
    "        login_count += 1\n",
    "        if login_count > 4:\n",
    "            print(\"더이상 로그인 시도를 할 수 없습니다.\")\n",
    "\n",
    "\n",
    "def logout():\n",
    "    global current_user\n",
    "    global login_count \n",
    "    if current_user == None:\n",
    "        print(\"⚠️로그인 상태가 아닙니다.\")\n",
    "    else:\n",
    "        print(\"✅로그아웃 되었습니다!\")\n",
    "        current_user = None\n",
    "        login_count = 0\n",
    "\n",
    "login(\"\")\n",
    "login(\"a\")\n",
    "login(\"b\")\n",
    "login(\"c\")\n",
    "login(\"de\")\n"
   ]
  }
 ],
 "metadata": {
  "kernelspec": {
   "display_name": "python-study",
   "language": "python",
   "name": "python3"
  },
  "language_info": {
   "codemirror_mode": {
    "name": "ipython",
    "version": 3
   },
   "file_extension": ".py",
   "mimetype": "text/x-python",
   "name": "python",
   "nbconvert_exporter": "python",
   "pygments_lexer": "ipython3",
   "version": "3.13.5"
  }
 },
 "nbformat": 4,
 "nbformat_minor": 5
}
