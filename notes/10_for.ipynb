{
 "cells": [
  {
   "cell_type": "markdown",
   "id": "2056d702",
   "metadata": {},
   "source": [
    "### 10. for문\n",
    "- 이터러블의 요소를 하나씩 꺼내서 실행 블록에 전달하는 반복문"
   ]
  },
  {
   "cell_type": "code",
   "execution_count": null,
   "id": "a1a82775",
   "metadata": {},
   "outputs": [],
   "source": [
    "import time\n",
    "\n",
    "# for문 기본 문법\n",
    "\n",
    "for 반복변수 in [\"가\", \"나\", \"다\", \"라\"]:\n",
    "    # 반복할 코드\n",
    "    print(반복변수)\n",
    "    time.sleep(1)"
   ]
  },
  {
   "cell_type": "code",
   "execution_count": null,
   "id": "c25f448c",
   "metadata": {},
   "outputs": [],
   "source": [
    "fruits = [\"사과\", \"배\", \"수박\", \"참외\", \"포도\"]\n",
    "\n",
    "for fruit in fruits:\n",
    "    print(fruit)\n",
    "    time.sleep(1)"
   ]
  },
  {
   "cell_type": "code",
   "execution_count": null,
   "id": "76f9ca63",
   "metadata": {},
   "outputs": [],
   "source": [
    "# 문자열 반복\n",
    "my_str = \"CodingOn\"\n",
    "\n",
    "for char in my_str:\n",
    "    print(char)"
   ]
  },
  {
   "cell_type": "code",
   "execution_count": null,
   "id": "3a139d09",
   "metadata": {},
   "outputs": [],
   "source": [
    "# 튜플을 활용한 반복\n",
    "\n",
    "좌표 = [(1,2), (10,15), (-6,8)]\n",
    "\n",
    "# 언패킹 가능\n",
    "for x,y in 좌표:\n",
    "    print(f\"x좌표: {x}, y좌표: {y}\")\n",
    "    time.sleep(1)"
   ]
  },
  {
   "cell_type": "code",
   "execution_count": null,
   "id": "72dcf120",
   "metadata": {},
   "outputs": [],
   "source": [
    "# 딕셔너리를 이용한 반복\n",
    "person = {\n",
    "    \"name\" : \"taehun\",\n",
    "    \"age\" : 30,\n",
    "    \"adress\" : \"daegu\"\n",
    "}\n",
    "\n",
    "# 기본적인 활용\n",
    "for key in person:\n",
    "    print(f\"key : {key}, value : {person[key]}\")\n",
    "    time.sleep(1)\n",
    "\n",
    "# value만 가져오기\n",
    "for value in person.values():\n",
    "    print(f\"value : {value}\")\n",
    "    time.sleep(1)\n",
    "\n",
    "# item 가져오기\n",
    "for key, value in person.items():\n",
    "    print(f\"key : {key}, value : {value}\")\n",
    "    time.sleep(1)\n"
   ]
  },
  {
   "cell_type": "code",
   "execution_count": null,
   "id": "26752fde",
   "metadata": {},
   "outputs": [],
   "source": [
    "# 실습1 문제1\n",
    "numbers = [3, 6, 1, 8, 4]\n",
    "double = []\n",
    "\n",
    "for num in numbers:\n",
    "    double.append(num * 2)\n",
    "\n",
    "print(double)\n",
    "\n",
    "# 실습1 문제2\n",
    "words = [\"apple\", \"banana\", \"kiwi\", \"grape\"]\n",
    "lenth = []\n",
    "\n",
    "for word in words:\n",
    "    lenth.append(len(word))\n",
    "\n",
    "print(lenth)\n",
    "\n",
    "# 실습1 문제3\n",
    "coordinates = [(1, 2), (3, 4), (5, 6), (7, 8)]\n",
    "\n",
    "x_values = []\n",
    "y_values = []\n",
    "\n",
    "for x,y in coordinates:\n",
    "    x_values.append(x)\n",
    "    y_values.append(y)\n",
    "\n",
    "print(f\"x 좌표: {x_values}\")\n",
    "print(f\"y 좌표: {y_values}\")\n"
   ]
  },
  {
   "cell_type": "code",
   "execution_count": null,
   "id": "09707d9a",
   "metadata": {},
   "outputs": [],
   "source": [
    "# for문과 range()\n",
    "# range 함수 : 지정된 범위의 정수 시퀀스\n",
    "# range 자료형 (시퀀스 자료형)\n",
    "\n",
    "# 기본문법\n",
    "# range(start, end, step)\n",
    "list(range(1,5))\n",
    "\n",
    "# for i in range(1,5):\n",
    "#     print(i)\n",
    "\n",
    "# for i in [1,2,3,4]:\n",
    "#     print(i)\n",
    "\n",
    "# start를 생략\n",
    "range(5)\n",
    "\n",
    "for i in range(5):\n",
    "    print(i)\n",
    "\n",
    "for i in [0,1,2,3,4]:\n",
    "    print(i)\n",
    "\n",
    "# 반복문의 반복변수는 꼭 써야할까? ❌ \n",
    "for i in range(100):\n",
    "    print(\"안녕하세요!\")\n"
   ]
  },
  {
   "cell_type": "code",
   "execution_count": null,
   "id": "201c698c",
   "metadata": {},
   "outputs": [],
   "source": [
    "# 간격(step) 지정\n",
    "for i in range(0, 11, 2):\n",
    "    print(i)\n",
    "\n",
    "# 역순 반복\n",
    "# 카운트다운\n",
    "for i in range(10, 0, -1):\n",
    "    print(i)\n",
    "    time.sleep(1)"
   ]
  },
  {
   "cell_type": "code",
   "execution_count": null,
   "id": "0abd1cdf",
   "metadata": {},
   "outputs": [],
   "source": [
    "# range의 다양한 활용\n",
    "print(list(range(1,10)))\n",
    "print(list(range(10)))\n",
    "print(list(range(1,11,2)))\n",
    "print(list(range(3,100,3)))\n",
    "print(list(range(10,0,-1)))"
   ]
  },
  {
   "cell_type": "code",
   "execution_count": null,
   "id": "faa9a395",
   "metadata": {},
   "outputs": [],
   "source": [
    "# 실습2 문제1\n",
    "a = int(input(\"숫자를 입력하세요 :\"))\n",
    "b = 0\n",
    "\n",
    "for i in range(1,a + 1):\n",
    "    b += i\n",
    "\n",
    "print(f\"사용자 입력한 수까지의 합: {b}\")\n",
    "\n",
    "# 실습2 문제2\n",
    "gugudan = int(input(\"시작할 구구단 단수 :\"))\n",
    "\n",
    "for i in range(1,10):\n",
    "    print(f\"{gugudan} x {i} = {gugudan * i} \")\n"
   ]
  },
  {
   "cell_type": "code",
   "execution_count": null,
   "id": "eba5538b",
   "metadata": {},
   "outputs": [],
   "source": [
    "# 실습2 문제3\n",
    "three = 0\n",
    "\n",
    "for i in range(3, 101, 3):\n",
    "    three += i\n",
    "\n",
    "# for i in range(0, 101):\n",
    "#     if i % 3 == 0:\n",
    "#         three += i\n",
    "\n",
    "print(f\"1부터 100까지의 수 중 3의 배수만 골라 합은 : {three}\")\n",
    "\n",
    "# 실습2 문제4\n",
    "n = int(input(\"숫자를 입력하세요: \"))\n",
    "\n",
    "# for i in range(1, n + 1):\n",
    "#     if i % 2 == 0 and i % 5 == 0:\n",
    "#         print(i)\n",
    "\n",
    "# for i in range(2, n + 1, 2):\n",
    "#     if i % 5 == 0:\n",
    "#         print(i)\n",
    "\n",
    "for i in range(1, n + 1):\n",
    "    if i % 2 == 0:\n",
    "        if i %5 == 0:\n",
    "            print(i)"
   ]
  },
  {
   "cell_type": "code",
   "execution_count": null,
   "id": "53acd366",
   "metadata": {},
   "outputs": [],
   "source": [
    "# 루프 제어문\n",
    "# break : 반복을 즉시 중단\n",
    "\n",
    "for  i in range(10):\n",
    "    if i == 5 :\n",
    "        break\n",
    "    print(i)\n",
    "    time.sleep(1)\n",
    "\n",
    "print(\"반복문 종료\")"
   ]
  },
  {
   "cell_type": "code",
   "execution_count": null,
   "id": "ac78e043",
   "metadata": {},
   "outputs": [],
   "source": [
    "# continue : 현재 반복을 넘어감\n",
    "\n",
    "for  i in range(5):\n",
    "    if i == 2 :\n",
    "        print(\"건너뜀\")\n",
    "        continue\n",
    "    print(i)\n",
    "    time.sleep(1)\n",
    "\n",
    "print(\"반복 종료\")"
   ]
  },
  {
   "cell_type": "code",
   "execution_count": null,
   "id": "1f1914b4",
   "metadata": {},
   "outputs": [],
   "source": [
    "# pass\n",
    "for i in range(10):\n",
    "    pass\n",
    "\n",
    "print(\"하이하이\")"
   ]
  },
  {
   "cell_type": "code",
   "execution_count": null,
   "id": "939ecb06",
   "metadata": {},
   "outputs": [],
   "source": [
    "# for - else 구문\n",
    "for i in range(5):\n",
    "    if i == 2:\n",
    "        break\n",
    "    print(i)\n",
    "else:\n",
    "    print(\"반복종료\")\n"
   ]
  },
  {
   "cell_type": "code",
   "execution_count": null,
   "id": "871be159",
   "metadata": {},
   "outputs": [],
   "source": [
    "# 중첩 for문\n",
    "# 하나의 for문 안에 다른 for문이 들어있는 구조\n",
    "import time\n",
    "# 이중 for문\n",
    "for i in range(5):\n",
    "    for j in range(5):\n",
    "        print(\"🌟\", end=\"\")\n",
    "        time.sleep(1)\n",
    "    print()\n",
    "    time.sleep(2)"
   ]
  },
  {
   "cell_type": "code",
   "execution_count": null,
   "id": "52744d74",
   "metadata": {},
   "outputs": [],
   "source": [
    "# 이중 for문\n",
    "for i in range(4):\n",
    "    for j in range(4):\n",
    "        print(f\" {i}, {j}\", end=\"\")\n",
    "        time.sleep(1)\n",
    "    print()\n",
    "    time.sleep(1)"
   ]
  },
  {
   "cell_type": "code",
   "execution_count": null,
   "id": "65f13450",
   "metadata": {},
   "outputs": [],
   "source": [
    "colors = [\"red\", \"blue\"]\n",
    "fruits = [\"apple\", \"banana\"]\n",
    "\n",
    "for color in colors:\n",
    "    for fruit in fruits:\n",
    "        print(f\"{color} {fruit}\")"
   ]
  },
  {
   "cell_type": "code",
   "execution_count": null,
   "id": "e07fd504",
   "metadata": {},
   "outputs": [],
   "source": [
    "# 실습3 문제1\n",
    "for dan in range(2, 10):\n",
    "    print(f\"[ {dan}단 ]\")\n",
    "    for i in range(1, 10):\n",
    "        print(f\"{dan} x {i} = {dan * i}\")\n",
    "    print()  "
   ]
  },
  {
   "cell_type": "code",
   "execution_count": null,
   "id": "cddbd2d1",
   "metadata": {},
   "outputs": [],
   "source": [
    "# 실습3 문제2 별찍기\n",
    "n = int(input(\"몇 줄? : \"))\n",
    "\n",
    "print(\"왼쪽 정렬\")\n",
    "for i in range(1, n + 1):\n",
    "    print(\"*\" * i)\n",
    "print()\n",
    "\n",
    "print(\"가운데 정렬\")\n",
    "for i in range(1, n + 1):\n",
    "    for j in range(n - i):\n",
    "        print(\" \", end=\"\")\n",
    "    for k in range(2 * i - 1):\n",
    "        print(\"*\", end=\"\")\n",
    "    print()\n",
    "print()\n",
    "\n",
    "print(\"오른쪽 정렬\")\n",
    "for i in range(1, n + 1):\n",
    "    for j in range(n - i):\n",
    "        print(\" \", end=\"\")\n",
    "    for k in range(i):\n",
    "        print(\"*\", end=\"\")\n",
    "    print()\n"
   ]
  },
  {
   "cell_type": "code",
   "execution_count": null,
   "id": "23653cc5",
   "metadata": {},
   "outputs": [],
   "source": [
    "# 실습3 문제2 별찍기\n",
    "n = int(input(\"몇 줄? :\"))\n",
    "# 왼쪽 정렬\n",
    "for i in range(1, n + 1):\n",
    "    for j in range(i):\n",
    "        print(\"*\", end=\"\")\n",
    "    print()\n",
    "\n",
    "# 가운데 정렬\n",
    "for i in range(1, n + 1):\n",
    "    # 공백 출력\n",
    "    for j in range(n - i):\n",
    "        print(\" \", end=\"\")\n",
    "    # 별 출력\n",
    "    for k in range(2 * i - 1):\n",
    "        print(\"*\", end=\"\")\n",
    "    print()\n",
    "\n",
    "# 오른쪽 정렬\n",
    "for i in range(1, n + 1):\n",
    "    for j in range(n - i):\n",
    "        print(\" \", end=\"\")\n",
    "    for j in range(i):\n",
    "        print(\"*\", end=\"\")\n",
    "    print()"
   ]
  },
  {
   "cell_type": "code",
   "execution_count": 35,
   "id": "563c268e",
   "metadata": {},
   "outputs": [
    {
     "name": "stdout",
     "output_type": "stream",
     "text": [
      "[1, 4, 9, 16, 25]\n",
      "[1, 4, 9, 16, 25]\n"
     ]
    }
   ],
   "source": [
    "# 리스트 컴프리헨션(List Comprehension)\n",
    "# for문을 리스트에 한줄로 축약하여 새리스트를 생성하는 문법\n",
    "# [표현식(리스트의 원소)/(반복문) for 변수 in 반복대상 if 조건] ➡️ 간단한 반목문을 한줄로 처리하고 싶을 때 사용\n",
    "# 표현식 : 값을 유도하는 식(표현)\n",
    "\n",
    "# for문 이용\n",
    "squares = []\n",
    "for x in range(1,6):\n",
    "    squares.append(x ** 2)\n",
    "print(squares)\n",
    "\n",
    "# 리스트 컴프리헨션\n",
    "squares_2 = [x ** 2 for x in range(1,6)]\n",
    "print(squares_2)"
   ]
  },
  {
   "cell_type": "code",
   "execution_count": null,
   "id": "775b5b02",
   "metadata": {},
   "outputs": [
    {
     "name": "stdout",
     "output_type": "stream",
     "text": [
      "[4, 16, 36, 64, 100]\n"
     ]
    }
   ],
   "source": [
    "# 조건문 추가하기\n",
    "squares_3 = [x ** 2 for x in range(1,11) if x % 2 == 0] #➡️2의 배수로들로만 제곱수 만듬\n",
    "print(squares_3)"
   ]
  },
  {
   "cell_type": "code",
   "execution_count": 41,
   "id": "e7bbe9aa",
   "metadata": {},
   "outputs": [
    {
     "name": "stdout",
     "output_type": "stream",
     "text": [
      "[5, 6, 4, 5]\n",
      "[6, 12, 2, 16, 8]\n"
     ]
    }
   ],
   "source": [
    "words = [\"apple\", \"banana\", \"kiwi\", \"grape\"]\n",
    "lenth = [len(word) for word in words]\n",
    "print(lenth)\n",
    "\n",
    "numbers = [3,6,1,8,4]\n",
    "doubled = [x * 2 for x in numbers]\n",
    "print(doubled)"
   ]
  },
  {
   "cell_type": "code",
   "execution_count": null,
   "id": "97d24ed2",
   "metadata": {},
   "outputs": [
    {
     "data": {
      "text/plain": [
       "[('red', '사과'), ('red', '수박'), ('blue', '사과'), ('blue', '수박')]"
      ]
     },
     "execution_count": 44,
     "metadata": {},
     "output_type": "execute_result"
    }
   ],
   "source": [
    "# 중첩 for문 (딕셔너리나 셋도 가능)\n",
    "colors = [\"red\", \"blue\"]\n",
    "fruits = [\"사과\", \"수박\"]\n",
    "\n",
    "pairs = [(color,fruit) for color in colors for fruit in fruits]\n",
    "pairs"
   ]
  },
  {
   "cell_type": "code",
   "execution_count": 48,
   "id": "3c594dd6",
   "metadata": {},
   "outputs": [
    {
     "name": "stdout",
     "output_type": "stream",
     "text": [
      "[1, 4, 9, 16, 25, 36, 49, 64, 81, 100]\n",
      "[3, 6, 9, 12, 15, 18, 21, 24, 27, 30, 33, 36, 39, 42, 45, 48]\n",
      "['apple', 'banana', 'cherry', 'orange']\n"
     ]
    }
   ],
   "source": [
    "# 실습4 문제1\n",
    "double = [x ** 2 for x in range(1,11)]\n",
    "print(double)\n",
    "\n",
    "# 실습4 문제2\n",
    "three = [x for x in range(1, 51) if x % 3 == 0]\n",
    "print(three)\n",
    "\n",
    "# 실습4 문제3\n",
    "fruits = [\"apple\", \"fig\", \"banana\", \"plum\", \"cherry\", \"pear\", \"orange\"]\n",
    "fivewords = [fruit for fruit in fruits if len(fruit) >= 5]\n",
    "print(fivewords)\n",
    "\n"
   ]
  }
 ],
 "metadata": {
  "kernelspec": {
   "display_name": "python-study",
   "language": "python",
   "name": "python3"
  },
  "language_info": {
   "codemirror_mode": {
    "name": "ipython",
    "version": 3
   },
   "file_extension": ".py",
   "mimetype": "text/x-python",
   "name": "python",
   "nbconvert_exporter": "python",
   "pygments_lexer": "ipython3",
   "version": "3.13.5"
  }
 },
 "nbformat": 4,
 "nbformat_minor": 5
}
