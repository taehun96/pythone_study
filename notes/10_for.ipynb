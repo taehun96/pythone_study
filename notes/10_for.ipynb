{
 "cells": [
  {
   "cell_type": "markdown",
   "id": "2056d702",
   "metadata": {},
   "source": [
    "### 10. for문\n",
    "- 이터러블의 요소를 하나씩 꺼내서 실행 블로에 전달하는 반복문"
   ]
  },
  {
   "cell_type": "code",
   "execution_count": 2,
   "id": "a1a82775",
   "metadata": {},
   "outputs": [
    {
     "name": "stdout",
     "output_type": "stream",
     "text": [
      "가\n",
      "나\n",
      "다\n",
      "라\n"
     ]
    }
   ],
   "source": [
    "import time\n",
    "\n",
    "# for문 기본 문법\n",
    "\n",
    "for 반복변수 in [\"가\", \"나\", \"다\", \"라\"]:\n",
    "    # 반복할 코드\n",
    "    print(반복변수)\n",
    "    time.sleep(1)"
   ]
  },
  {
   "cell_type": "code",
   "execution_count": 11,
   "id": "c25f448c",
   "metadata": {},
   "outputs": [
    {
     "name": "stdout",
     "output_type": "stream",
     "text": [
      "사과\n",
      "배\n",
      "수박\n",
      "참외\n",
      "포도\n"
     ]
    }
   ],
   "source": [
    "fruits = [\"사과\", \"배\", \"수박\", \"참외\", \"포도\"]\n",
    "\n",
    "for fruit in fruits:\n",
    "    print(fruit)\n",
    "    time.sleep(1)"
   ]
  },
  {
   "cell_type": "code",
   "execution_count": null,
   "id": "76f9ca63",
   "metadata": {},
   "outputs": [
    {
     "name": "stdout",
     "output_type": "stream",
     "text": [
      "C\n",
      "o\n",
      "d\n",
      "i\n",
      "n\n",
      "g\n",
      "O\n",
      "n\n"
     ]
    }
   ],
   "source": [
    "# 문자열 반복\n",
    "my_str = \"CodingOn\"\n",
    "\n",
    "for char in my_str:\n",
    "    print(char)"
   ]
  },
  {
   "cell_type": "code",
   "execution_count": null,
   "id": "3a139d09",
   "metadata": {},
   "outputs": [
    {
     "name": "stdout",
     "output_type": "stream",
     "text": [
      "x좌표: 1, y좌표: 2\n",
      "x좌표: 10, y좌표: 15\n",
      "x좌표: -6, y좌표: 8\n"
     ]
    }
   ],
   "source": [
    "# 튜플을 활용한 반복\n",
    "\n",
    "좌표 = [(1,2), (10,15), (-6,8)]\n",
    "\n",
    "# 언패킹 가능\n",
    "for x,y in 좌표:\n",
    "    print(f\"x좌표: {x}, y좌표: {y}\")\n",
    "    time.sleep(1)"
   ]
  }
 ],
 "metadata": {
  "kernelspec": {
   "display_name": "python-study",
   "language": "python",
   "name": "python3"
  },
  "language_info": {
   "codemirror_mode": {
    "name": "ipython",
    "version": 3
   },
   "file_extension": ".py",
   "mimetype": "text/x-python",
   "name": "python",
   "nbconvert_exporter": "python",
   "pygments_lexer": "ipython3",
   "version": "3.13.5"
  }
 },
 "nbformat": 4,
 "nbformat_minor": 5
}
