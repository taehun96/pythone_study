{
 "cells": [
  {
   "cell_type": "markdown",
   "id": "395fcbb9",
   "metadata": {},
   "source": [
    "###06. 튜플(Tuple)\n",
    "- 순서가 존재하는 여러 데이터의 모음(list와 동일)\n",
    "- 불변(immutable) 자료형(list와의 차이점)"
   ]
  },
  {
   "cell_type": "code",
   "execution_count": null,
   "id": "b26d9dda",
   "metadata": {},
   "outputs": [],
   "source": [
    "# 튜플 생성\n",
    "my_tuple = (1,2,3,4)\n",
    "print(my_tuple)\n",
    "\n",
    "# 소괄호 없이 튜플 생성\n",
    "no_paren_tuple = 5,6,7,8\n",
    "print(no_paren_tuple, type(no_paren_tuple))\n",
    "\n",
    "# 원소가 하나인 튜플 생성(주의할 사항)\n",
    "single_el_tuple = (100,) # 콤마를 반드시 붙어야 튜플이 됨, 붙이지 않으면 정수로 인식함\n",
    "print(single_el_tuple, type(single_el_tuple))\n",
    "\n",
    "# 튜플 생성 함수로 생성\n",
    "my_tuple2 = tuple()\n",
    "print(my_tuple2)\n",
    "\n",
    "my_tuple3 = tuple(\"CodingOn\") # 문자열을 튜플로 변환\n",
    "print(my_tuple3)"
   ]
  },
  {
   "cell_type": "code",
   "execution_count": null,
   "id": "487bc101",
   "metadata": {},
   "outputs": [],
   "source": [
    "# 언패킹(Unpacking)\n",
    "# 시퀀스에 저장된 여러 값을 여러 변수에 나누어 저장하는 것\n",
    "# 구조 분해 할당(Destruction)\n",
    "과일1, 과일2, 과일3 = \"사과\", \"수박\", \"참외\"\n",
    "운동1, 운동2, 운동3 = [\"축구\", \"농구\", \"야구\"]\n",
    "문, 자, 열 = \"코딩온\"\n",
    "print(문)\n",
    "print(자)\n",
    "print(열)"
   ]
  },
  {
   "cell_type": "code",
   "execution_count": null,
   "id": "d50a4dc9",
   "metadata": {},
   "outputs": [],
   "source": [
    "# 튜플의 불변성\n",
    "# 불변성 : 객체가 생성된 이후 내부 데이터를 변경할 수 없는 것\n",
    "\n",
    "# 튜플 수정 시도 \n",
    "my_tuple = (1,2,3)\n",
    "# my_tuple[0] = 100 ➡️ 'tuple' object does not support item assignment"
   ]
  },
  {
   "cell_type": "code",
   "execution_count": 2,
   "id": "ab893f7d",
   "metadata": {},
   "outputs": [
    {
     "ename": "NameError",
     "evalue": "name 'my_tuple' is not defined",
     "output_type": "error",
     "traceback": [
      "\u001b[31m---------------------------------------------------------------------------\u001b[39m",
      "\u001b[31mNameError\u001b[39m                                 Traceback (most recent call last)",
      "\u001b[36mCell\u001b[39m\u001b[36m \u001b[39m\u001b[32mIn[2]\u001b[39m\u001b[32m, line 2\u001b[39m\n\u001b[32m      1\u001b[39m \u001b[38;5;66;03m# 튜플 삭제 시도\u001b[39;00m\n\u001b[32m----> \u001b[39m\u001b[32m2\u001b[39m \u001b[38;5;28;01mdel\u001b[39;00m \u001b[43mmy_tuple\u001b[49m[\u001b[32m1\u001b[39m]\n",
      "\u001b[31mNameError\u001b[39m: name 'my_tuple' is not defined"
     ]
    }
   ],
   "source": [
    "# 튜플 삭제 시도\n",
    "del my_tuple[1]"
   ]
  },
  {
   "cell_type": "code",
   "execution_count": 14,
   "id": "00b1d9df",
   "metadata": {},
   "outputs": [
    {
     "name": "stdout",
     "output_type": "stream",
     "text": [
      "원본 튜플 (10, 20, 30)\n",
      "새로운 튜플 (100, 20, 30)\n"
     ]
    }
   ],
   "source": [
    "# 튜플의 수정\n",
    "my_tuple2 =(10, 20, 30)\n",
    "new_tuple = (100, ) + my_tuple2[1:]\n",
    "print(\"원본 튜플\", my_tuple2)\n",
    "print(\"새로운 튜플\", new_tuple)"
   ]
  },
  {
   "cell_type": "code",
   "execution_count": null,
   "id": "fede9fcb",
   "metadata": {},
   "outputs": [
    {
     "ename": "NameError",
     "evalue": "name 'my_tuple' is not defined",
     "output_type": "error",
     "traceback": [
      "\u001b[31m---------------------------------------------------------------------------\u001b[39m",
      "\u001b[31mNameError\u001b[39m                                 Traceback (most recent call last)",
      "\u001b[36mCell\u001b[39m\u001b[36m \u001b[39m\u001b[32mIn[15]\u001b[39m\u001b[32m, line 3\u001b[39m\n\u001b[32m      1\u001b[39m \u001b[38;5;66;03m# 튜플의 삭제\u001b[39;00m\n\u001b[32m      2\u001b[39m \u001b[38;5;28;01mdel\u001b[39;00m my_tuple\n\u001b[32m----> \u001b[39m\u001b[32m3\u001b[39m \u001b[38;5;28mprint\u001b[39m(\u001b[43mmy_tuple\u001b[49m)\n",
      "\u001b[31mNameError\u001b[39m: name 'my_tuple' is not defined"
     ]
    }
   ],
   "source": [
    "# 튜플의 삭제\n",
    "# 튜플의 원소는 삭제할 수 x, 튜플 자체는 삭제 가능\n",
    "del my_tuple\n",
    "print(my_tuple) # 튜플이 삭제되어 NameError 발생"
   ]
  },
  {
   "cell_type": "code",
   "execution_count": 1,
   "id": "741e243b",
   "metadata": {},
   "outputs": [
    {
     "name": "stdout",
     "output_type": "stream",
     "text": [
      "※ 서울 지역 보안 정책 적용 대상입니다.\n",
      "복원된 고객 정보: ('eunji', 25, 'Seoul')\n",
      "eunji님의 나이는 25세이며, 거주 도시는 Seoul입니다.\n",
      "'minji'는 3번 등장합니다.\n",
      "'soojin'은 2번 인덱스에 있습니다.\n",
      "정렬된 고객 리스트: ['eunji', 'minji', 'minji', 'minji', 'soojin']\n"
     ]
    }
   ],
   "source": [
    "# Step 1. 해킹된 고객 이름 복구하기\n",
    "# 기존 튜플은 (\"minji\", 25, \"Seoul\")\n",
    "# 이름을 \"eunji\"로 변경한 새 튜플을 만들어 변수 restored_user에 저장하세요.\n",
    "user = (\"minji\", 25, \"Seoul\")\n",
    "\n",
    "# TODO: 튜플은 수정 불가이므로, 슬라이싱과 결합을 사용해 새 튜플 생성\n",
    "restored_user = (\"eunji\",) + user[1:]\n",
    "\n",
    "# Step 2. 언패킹\n",
    "# 복원된 튜플을 name, age, city로 언패킹하고 각각 출력해보세요.\n",
    "name, age, city = restored_user\n",
    "\n",
    "# Step 3. 지역에 따라 보안 메시지 다르게 출력\n",
    "# city가 \"Seoul\"이면 \"※ 서울 지역 보안 정책 적용 대상입니다.\" 출력\n",
    "# 아니라면 \"※ 일반 지역 보안 정책 적용 대상입니다.\" 출력\n",
    "if city == \"Seoul\":\n",
    "    print(\"※ 서울 지역 보안 정책 적용 대상입니다.\")\n",
    "else:\n",
    "    print(\"※ 일반 지역 보안 정책 적용 대상입니다.\")\n",
    "\n",
    "# Step 4. 고객 데이터 분석\n",
    "# 아래 튜플에서 \"minji\"가 몇 번 등장하는지 count()로 구하세요\n",
    "# \"soojin\"이 처음 등장하는 인덱스를 index()로 구하세요\n",
    "users = (\"minji\", \"eunji\", \"soojin\", \"minji\", \"minji\")\n",
    "\n",
    "# TODO: \"minji\" 등장 횟수\n",
    "count_minji = users.count(\"minji\")\n",
    "\n",
    "# TODO: \"soojin\" 인덱스\n",
    "index_soojin = users.index(\"soojin\")\n",
    "\n",
    "# Step 5. 고객 리스트 정렬 (튜플은 변경하지 말고 sorted()로 리스트 형태로 출력)\n",
    "# 결과는 sorted_users에 저장하고 출력하세요\n",
    "sorted_users = sorted(users)\n",
    "\n",
    "# 🔽 출력 결과 확인을 위해 각 결과를 출력해보세요\n",
    "print(\"복원된 고객 정보:\", restored_user)\n",
    "print(f\"{name}님의 나이는 {age}세이며, 거주 도시는 {city}입니다.\")\n",
    "# Step 3 결과 메시지 출력은 조건문 안에서 출력되도록 구성\n",
    "print(f\"'minji'는 {count_minji}번 등장합니다.\")\n",
    "print(f\"'soojin'은 {index_soojin}번 인덱스에 있습니다.\")\n",
    "print(\"정렬된 고객 리스트:\", sorted_users)"
   ]
  }
 ],
 "metadata": {
  "kernelspec": {
   "display_name": "python-study",
   "language": "python",
   "name": "python3"
  },
  "language_info": {
   "codemirror_mode": {
    "name": "ipython",
    "version": 3
   },
   "file_extension": ".py",
   "mimetype": "text/x-python",
   "name": "python",
   "nbconvert_exporter": "python",
   "pygments_lexer": "ipython3",
   "version": "3.13.5"
  }
 },
 "nbformat": 4,
 "nbformat_minor": 5
}
