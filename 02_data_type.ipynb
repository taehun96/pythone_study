{
 "cells": [
  {
   "cell_type": "markdown",
   "id": "6ba44c3c",
   "metadata": {},
   "source": [
    "### 2. 자료형(Data type)\n",
    "- 자료의 종류와 구조를 정의하는 것\n",
    "자료의 형태에 따라 컴퓨터는 다루는 방식이 다름 그래서 정의를 함"
   ]
  },
  {
   "cell_type": "code",
   "execution_count": 6,
   "id": "76f8e2a5",
   "metadata": {},
   "outputs": [
    {
     "name": "stdout",
     "output_type": "stream",
     "text": [
      "코: 코딩을 한다\n",
      "딩 : 딩딩딩 머리가 울린다\n",
      "온 : 온제 끝나나\n",
      "\n",
      "코: 코딩을 한다\n",
      "딩 : 딩딩딩 머리가 울린다\n",
      "온 : 온제 끝나나\n"
     ]
    }
   ],
   "source": [
    "# 문자열(string, str) - 따옴표, 띄어쓰기만해도 가능 빈 문자열\n",
    "my_str1 = \"\"  #빈문자열(O)\n",
    "my_str2 = \" \" #공백문자열(O)\n",
    "my_str3 = \"안녕하세요\"  #\"요하녕안세\" ->문자열은 '순서가 있는 자료형'\n",
    "\n",
    "# 문자열 여러줄 만들기(\"\"\" = 세 개를 씀)\n",
    "multi_str = \"\"\"코: 코딩을 한다\n",
    "딩 : 딩딩딩 머리가 울린다\n",
    "온 : 온제 끝나나\n",
    "\"\"\"\n",
    "print(multi_str)\n",
    "\n",
    "print(\"코: 코딩을 한다\")\n",
    "print(\"딩 : 딩딩딩 머리가 울린다\")\n",
    "print(\"온 : 온제 끝나나\")"
   ]
  },
  {
   "cell_type": "code",
   "execution_count": 12,
   "id": "5b7c04f6",
   "metadata": {},
   "outputs": [
    {
     "name": "stdout",
     "output_type": "stream",
     "text": [
      "'지식'은 우정을 대신하지 않아\n",
      "\"지식\"은 우정을 대신하지 않아\n",
      "코: '코딩'을 한다\n",
      "딩 : '딩딩딩' 머리가 울린다\n",
      "온 : '온제' 끝나나\n",
      "\n",
      "<class 'str'>\n"
     ]
    }
   ],
   "source": [
    "# 따옴표 속에 따옴표 쓰기\n",
    "print(\"'지식'은 우정을 대신하지 않아\")\n",
    "print('\"지식\"은 우정을 대신하지 않아')\n",
    "\n",
    "multi_str = \"\"\"코: '코딩'을 한다\n",
    "딩 : '딩딩딩' 머리가 울린다\n",
    "온 : '온제' 끝나나\n",
    "\"\"\"\n",
    "print(multi_str)\n",
    "print(type(multi_str))"
   ]
  },
  {
   "cell_type": "code",
   "execution_count": 9,
   "id": "df064042",
   "metadata": {},
   "outputs": [
    {
     "name": "stdout",
     "output_type": "stream",
     "text": [
      "<class 'int'>\n"
     ]
    }
   ],
   "source": [
    "# 2. 정수형(integer, int) 소수점이 없는 것\n",
    "# 크기 제한이 없음 = 메모리에 저장할 수 있을만큼의 크기를 저장할 수 있다는 의미(파이썬 특징, 다른 언어는 크기 제한 있음)\n",
    "my_int1 = 100\n",
    "my_int2 =54654845135131548451315487651321574845648794545456\n",
    "print(type(my_int1))"
   ]
  },
  {
   "cell_type": "code",
   "execution_count": null,
   "id": "c7a4500d",
   "metadata": {},
   "outputs": [
    {
     "name": "stdout",
     "output_type": "stream",
     "text": [
      "<class 'float'>\n"
     ]
    }
   ],
   "source": [
    "# 3. 실수형(float) 둥둥떠나니다 소수점이 있는 것\n",
    "# 부동(둥둥떠다니다)소수점 방식 = 소수점의 위치를 고정하지 않고 그위치를 나타내는 수를 따로 적는 것\n",
    "my_float1 = 3.14\n",
    "my_float2 = 100.0\n",
    "print(type(my_float1))"
   ]
  },
  {
   "cell_type": "code",
   "execution_count": 11,
   "id": "ad4c8641",
   "metadata": {},
   "outputs": [
    {
     "name": "stdout",
     "output_type": "stream",
     "text": [
      "True\n",
      "False\n",
      "<class 'bool'>\n",
      "<class 'bool'>\n"
     ]
    }
   ],
   "source": [
    "# 4. 논리형(boolean, bool)\n",
    "# 참(1)과 거짓(0)을 표현하는 자료형\n",
    "print(True)\n",
    "print(False)\n",
    "print(type(True))\n",
    "print(type(False))"
   ]
  }
 ],
 "metadata": {
  "kernelspec": {
   "display_name": "python-study",
   "language": "python",
   "name": "python3"
  },
  "language_info": {
   "codemirror_mode": {
    "name": "ipython",
    "version": 3
   },
   "file_extension": ".py",
   "mimetype": "text/x-python",
   "name": "python",
   "nbconvert_exporter": "python",
   "pygments_lexer": "ipython3",
   "version": "3.13.5"
  }
 },
 "nbformat": 4,
 "nbformat_minor": 5
}
