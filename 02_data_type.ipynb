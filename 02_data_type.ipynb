{
 "cells": [
  {
   "cell_type": "markdown",
   "id": "6ba44c3c",
   "metadata": {},
   "source": [
    "### 2. 자료형(Data type)\n",
    "- 자료의 종류와 구조를 정의하는 것\n",
    "    - 자료의 형태에 따라 컴퓨터는 다루는 방식이 다름 그래서 정의를 함\n",
    "- 파이썬 : 동적 타입 언어(<->정적 타입 언어)\n",
    "    - 변수를 만들때 별도의 타입을 지정하지 않아도 됨"
   ]
  },
  {
   "cell_type": "code",
   "execution_count": null,
   "id": "76f8e2a5",
   "metadata": {},
   "outputs": [],
   "source": [
    "# 문자열(string, str) - 따옴표, 띄어쓰기만해도 가능 빈 문자열\n",
    "my_str1 = \"\"  #빈문자열(O)\n",
    "my_str2 = \" \" #공백문자열(O)\n",
    "my_str3 = \"안녕하세요\"  #\"요하녕안세\" ->문자열은 '순서가 있는 자료형'\n",
    "\n",
    "# 문자열 여러줄 만들기(\"\"\" = 세 개를 씀)\n",
    "multi_str = \"\"\"코: 코딩을 한다\n",
    "딩 : 딩딩딩 머리가 울린다\n",
    "온 : 온제 끝나나\n",
    "\"\"\"\n",
    "print(multi_str)\n",
    "\n",
    "print(\"코: 코딩을 한다\")\n",
    "print(\"딩 : 딩딩딩 머리가 울린다\")\n",
    "print(\"온 : 온제 끝나나\")"
   ]
  },
  {
   "cell_type": "code",
   "execution_count": null,
   "id": "5b7c04f6",
   "metadata": {},
   "outputs": [],
   "source": [
    "# 따옴표 속에 따옴표 쓰기\n",
    "print(\"'지식'은 우정을 대신하지 않아\")\n",
    "print('\"지식\"은 우정을 대신하지 않아')\n",
    "\n",
    "multi_str = \"\"\"코: '코딩'을 한다\n",
    "딩 : '딩딩딩' 머리가 울린다\n",
    "온 : '온제' 끝나나\n",
    "\"\"\"\n",
    "print(multi_str)\n",
    "print(type(multi_str))"
   ]
  },
  {
   "cell_type": "code",
   "execution_count": null,
   "id": "df064042",
   "metadata": {},
   "outputs": [],
   "source": [
    "# 2. 정수형(integer, int) 소수점이 없는 것\n",
    "# 크기 제한이 없음 = 메모리에 저장할 수 있을만큼의 크기를 저장할 수 있다는 의미(파이썬 특징, 다른 언어는 크기 제한 있음)\n",
    "my_int1 = 100\n",
    "my_int2 =54654845135131548451315487651321574845648794545456\n",
    "print(type(my_int1))"
   ]
  },
  {
   "cell_type": "code",
   "execution_count": null,
   "id": "c7a4500d",
   "metadata": {},
   "outputs": [],
   "source": [
    "# 3. 실수형(float) 둥둥떠나니다 소수점이 있는 것\n",
    "# 부동(둥둥떠다니다)소수점 방식 = 소수점의 위치를 고정하지 않고 그위치를 나타내는 수를 따로 적는 것\n",
    "my_float1 = 3.14\n",
    "my_float2 = 100.0\n",
    "print(type(my_float1))"
   ]
  },
  {
   "cell_type": "code",
   "execution_count": null,
   "id": "ad4c8641",
   "metadata": {},
   "outputs": [],
   "source": [
    "# 4. 논리형(boolean, bool)\n",
    "# 참(1)과 거짓(0)을 표현하는 자료형\n",
    "print(True)\n",
    "print(False)\n",
    "print(type(True))\n",
    "print(type(False))"
   ]
  },
  {
   "cell_type": "code",
   "execution_count": null,
   "id": "9ad6aa5b",
   "metadata": {},
   "outputs": [],
   "source": [
    "# f-string : 문자열 포매팅(formatting)\n",
    "# 문자열 안에 변수를 쓸 수 있도록 해주는 기능\n",
    "\n",
    "my_name = \"taehun\"\n",
    "my_age = 30\n",
    "\n",
    "# 일반적으로 print를 사용했을 때\n",
    "# 내 이름은 taehun이고, 나이는 30살입니다.\n",
    "print(\"내 이름은\", my_name, \"이고, 나이는\", my_age, \"입니다.\")\n",
    "\n",
    "# 공격력 : 100 방어력 : 80 민첩성 : 95 지력 : 105\n",
    "\n",
    "attack, defence, agility, intellect = 100, 80, 95, 105\n",
    "\n",
    "print(\"공격력 :\", attack,\", 방어력 :\", defence,\", 민첩성 :\", agility,\", 지력 :\", intellect)\n",
    "\n",
    "# f-string 사용\n",
    "print(f\"공격력 : {attack}, 방어력 : {defence},민첩성 : {agility},지력 : {intellect}\")"
   ]
  },
  {
   "cell_type": "code",
   "execution_count": null,
   "id": "3597734d",
   "metadata": {},
   "outputs": [],
   "source": [
    "# 이전 방식1\n",
    "print(\"내 이름은 %s입니다\" % \"taehun\")\n",
    "print(\"내 나이는 %d입니다\" % 30)\n",
    "\n",
    "# 이전 방식2\n",
    "print(\"내 나이는 {}입니다\" . format(\"taehun\") )"
   ]
  },
  {
   "cell_type": "code",
   "execution_count": null,
   "id": "a2de8485",
   "metadata": {},
   "outputs": [],
   "source": [
    "# 형 변환(Type casting) - 자료형을 변환하는 것\n",
    "# 명시적 형변환(explicit) vs 암시적 형변환(implicit)\n",
    "# 강타입 vs 약타입\n",
    "# 상대적으로 파이썬은 강타입 언어이자 명시적 형변환에 가깝다\n",
    "\n",
    "# 1.정수로 변환 : int()\n",
    "#   1) 실수 -> 정수\n",
    "#   2) 문자열로 표현된 정수 -> 정수\n",
    "#   3) 논리형 -> 정수\n",
    "# ✔️가능한 경우\n",
    "print(f\"3.14 -> {int(3.14)}\")\n",
    "print(f\"'100' -> {int(100)}\")\n",
    "print(f\"True -> {int(True)}\")\n",
    "print(f\"False -> {int(False)}\")\n",
    "\n",
    "# ❌불가능한 경우\n",
    "#   print(int(\"3.14\")) #문자열로 표현된 실수\n",
    "#   print(int((\"abc\")))\n"
   ]
  },
  {
   "cell_type": "code",
   "execution_count": null,
   "id": "bb472e29",
   "metadata": {},
   "outputs": [
    {
     "name": "stdout",
     "output_type": "stream",
     "text": [
      "True, False -> 1.0,0.0\n"
     ]
    }
   ],
   "source": [
    "# 2. 실수로 변환 : float()\n",
    "#   1) 정수 -> 실수\n",
    "#   2) 문자열로 표현된 실수\n",
    "#   3) 문자열로 표현된 정수\n",
    "#   4) 논리형 -> 실수\n",
    "\n",
    "# ✔️가능한 경우\n",
    "#   print(f\"7 -> {float(7)}\")\n",
    "#   print(f\"'3.14' -> {float('3.14')}\")\n",
    "#   print(f\"'100' -> {float('100')}\")\n",
    "#   print(f\"True, False -> {float(True)},{float(False)}\")\n",
    "\n",
    "# ❌불가능한 경우\n",
    "#   print(float(\"def\"))"
   ]
  },
  {
   "cell_type": "code",
   "execution_count": null,
   "id": "ad1899a9",
   "metadata": {},
   "outputs": [],
   "source": [
    "# 암시적 형변환\n",
    "# 정수와 실수의 연산에서 자동으로 실수를 연산해줌\n",
    "print((10 + 5.0))\n",
    "# print(\"100\" + 200) ->이건 안됨"
   ]
  },
  {
   "cell_type": "code",
   "execution_count": null,
   "id": "b73d1c85",
   "metadata": {},
   "outputs": [
    {
     "name": "stdout",
     "output_type": "stream",
     "text": [
      "100 <class 'str'>\n",
      "3.14 <class 'str'>\n",
      "True <class 'str'>\n",
      "False <class 'str'>\n"
     ]
    }
   ],
   "source": [
    "# 3. 문자열로 변환 : str()\n",
    "# 모든 타입을 문자열로 변환 가능\n",
    "print(str(100), type(str(100)))\n",
    "print(str(3.14), type(str(3.14)))\n",
    "print(str(True), type(str(True))) #문자형 True\n",
    "print(str(False), type(str(False))) #문자형 False"
   ]
  },
  {
   "cell_type": "code",
   "execution_count": 30,
   "id": "2887afc9",
   "metadata": {},
   "outputs": [
    {
     "name": "stdout",
     "output_type": "stream",
     "text": [
      "True\n",
      "False\n"
     ]
    }
   ],
   "source": [
    "# 4. 논리형으로 변환 : bool()\n",
    "print(bool(1))\n",
    "print(bool(0))"
   ]
  },
  {
   "cell_type": "code",
   "execution_count": null,
   "id": "e5976912",
   "metadata": {},
   "outputs": [
    {
     "name": "stdout",
     "output_type": "stream",
     "text": [
      "Title : The intern, Director : Nancy Meyers, Year : 2015, Genre : comedy\n"
     ]
    }
   ],
   "source": [
    "# 실습 1 영화 정보 출력하기\n",
    "타이틀, 감독, 개봉년도, 장르 = \"The intern\", \"Nancy Meyers\", 2015, \"comedy\"\n",
    "\n",
    "print(f\"Title : {타이틀}, Director : {감독}, Year : {개봉년도}, Genre : {장르}\")"
   ]
  },
  {
   "cell_type": "code",
   "execution_count": 2,
   "id": "2698a7c0",
   "metadata": {},
   "outputs": [
    {
     "name": "stdout",
     "output_type": "stream",
     "text": [
      "안녕하세요.\n",
      "제 이름은 윤태훈이고,\n",
      "30입니다.\n",
      "제 MBTI는 ESFJ에요\n"
     ]
    }
   ],
   "source": [
    "# 실습 2 자기소개 하기\n",
    "이름, 나이, MBTI = \"윤태훈\", 30, \"ESFJ\"\n",
    "print(f\"\"\"안녕하세요.\n",
    "제 이름은 {이름}이고,\n",
    "{나이}입니다.\n",
    "제 MBTI는 {MBTI}에요\"\"\")"
   ]
  }
 ],
 "metadata": {
  "kernelspec": {
   "display_name": "python-study",
   "language": "python",
   "name": "python3"
  },
  "language_info": {
   "codemirror_mode": {
    "name": "ipython",
    "version": 3
   },
   "file_extension": ".py",
   "mimetype": "text/x-python",
   "name": "python",
   "nbconvert_exporter": "python",
   "pygments_lexer": "ipython3",
   "version": "3.13.5"
  }
 },
 "nbformat": 4,
 "nbformat_minor": 5
}
